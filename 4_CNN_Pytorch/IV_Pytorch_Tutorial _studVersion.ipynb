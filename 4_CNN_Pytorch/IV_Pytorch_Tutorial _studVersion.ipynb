{
 "cells": [
  {
   "cell_type": "markdown",
   "metadata": {},
   "source": [
    "\n",
    "   \n",
    "\n",
    "# Python Tutorial 4\n",
    "# Review of the last and today's session\n",
    "\n",
    "During our last session we learned a bunch of different programming topics:\n",
    "\n",
    "II.  [Introduction to Python IDE _Spyder_](#spyder)<br>\n",
    "III. [Lambda functions](#lambda)<br>\n",
    "\n",
    "Furthermore, we are going to talk about useful concepts and python philosophies to become a good python pogrammer:\n",
    "\n",
    "IV. [How to become a 'clean programmer'](#clean)<br>\n",
    "1. [Style guide: some notes about PEP8](#style-guide)<br>\n",
    "2. [Decompose your code into mutiple functions](#decomposition)<br>\n",
    "3. [Nested for-loops](#nested)<br>\n",
    "4. [Remarks on using return and print()](#return)<br>\n",
    "5. [Chosing the right data type for your purpose](#data-type)<br>\n",
    "6. [List comprehensions](#list-compr)<br>\n",
    "7. [Commenting your code](#comment)<br>\n",
    "8. [\"Errors should never pass silently. Unless explicitly silenced.\"](#zen_silence)<br> \n",
    "   a. [Einfügen von exceptions bzw. `try/except`-blocks](#exceptions)<br>\n",
    "   b. [Code debugging](#debugging)<br> \n",
    "   c. [Unittesting](#unittest)<br>\n",
    "   \n",
    "\n",
    "In this lesson we will dig deeper into using python as a valuable tool for traing, testing and validating neural networks. \n",
    "\n",
    "1. [Python frameworks for building neural networks](#frameworks)<br>\n",
    "2. [Review of Theoretical concepts about neural networks](#theory)<br>\n",
    "2.1 [Perceptron as a logical operation](#logical_operation)<br>\n",
    "2.1.1 [AND Perceptron](#and)<br>\n",
    "2.1.2 [OR Perceptron](#or)<br>\n",
    "2.1.3 [NOT Perceptron](#not)<br>\n",
    "2.1.4 [Excercise: XOR Perceptron](#xor)<br>\n",
    "2.2. [Activation Functions](#activation_function)<br>\n",
    "2.3 [Optimization](#optim)<br>\n",
    "2.4 [Training and Testing](#TNT)<br>\n",
    "3. [Training Neural Networks with Pytorch](#Pytorch)<br>\n",
    "3.1 [Installation of Pytorch Package](#installation)<br>\n",
    "3.2 [Single Layer Neural Network](#single_layer)<br>\n",
    "3.2 [Multilayer Neural Network](#multi_layers)<br>\n",
    "4. [Classification on MNIST Dataset](#mnist)<br>\n",
    "4.1 [Building the Neural Network](#building)<br>\n",
    "4.2 [Training the Neural Network](#training)<br>\n",
    "4.3 [Testing and Validation](#test_val)<br>\n",
    "4.4 [Overfitting](#overfitting)<br>\n",
    "4.5 [Exercise: Data Augmentation](#data_augmentation)<br>\n",
    "4.6 [Saving and Loading the Neural Network](#save_n_load)<br>\n",
    "\n",
    "\n",
    "\n",
    "One concept we learned last time and will be used more often during this session are list comprehensions.\n",
    "So get used to it!\n",
    "\n",
    "\n",
    "\n",
    "# 1. Python frameworks for building neural networks <a class=\"anchor\" id=\"frameworks\"></a>\n",
    "In our first lecture we introduced different packages such as __numpy__, __pandas__ and __matplotlib__. When building and training neural networks, we usually take advantage of packages such as __tensorflow__ or __pytorch__ which already have the basic building blocks implemented. Here is a short reminder of the different packages used:\n",
    "\n",
    "__Tensorflow__ [[1]](https://www.tensorflow.org/): Tensorflow is a machine learning library developed by Google. In contrast to scikit-learn [[2]](https://scikit-image.org/) (library containing basic ML algorithms, data mining and preprocessing in image processing) where, Tensorflow is specially designed for the use in the area of deep learning and supports symbolic calculations and execution on graphics cards (GPUs) to accelerate computing.\n",
    "<br>\n",
    "__Keras__ [[3]](https://keras.io/): Keras provides an easy-to-use and easy-to-learn API (application programming interface) for creating and training neural networks. It relies on Tensorflow or Theano as backend.\n",
    "<br>\n",
    "__Pytorch__[[4]](https://pytorch.org/)[[5]](https://pytorch.org/tutorials/beginner/examples_autograd/tf_two_layer_net.html)[[6]](https://towardsdatascience.com/pytorch-for-deep-learning-a-quick-guide-for-starters-5b60d2dbb564): In industry, tensorflow is still the package of choice. However, in the last years, it has often been criticized for being difficult to debug, since it uses static computational graphs. Pytorch is a framework which was developed by Facebook and is based on the library _torch_. One of its advantages is that it uses dynamic computational graphs which allows for dynamic network changes as it being run, with little or no overhead.\n",
    "<br>\n",
    "__Theano__ [[7]](http://deeplearning.net/software/theano/)[[8]](https://machinelearningmastery.com/introduction-python-deep-learning-library-theano/): Theano is a compiler that executed mathematical expressions and is also heavily used for training neural networks. Since Theano belongs to the older packages it is not recommended.\n",
    "<br>\n",
    "__Caffe__ [[9]](https://caffe.berkeleyvision.org/): Models can be defined in a plain text file and are processed on command line. \n",
    "<br>\n",
    "\n",
    "At the moment __tensorflow__ is still the most widely used deep learning framework used within python especially in industrial applications [[10]](https://towardsdatascience.com/deep-learning-framework-power-scores-2018-23607ddf297a?gi=fb13689f2184). Tensorflow 1.0 has long been the leading framework in deep learning applications. However, it was often criticized for being hard to debug and for it's syntax not to be as handy for programming. This has led to the rise of a high interest and popularity within the Python community for the framework __Pytorch__, introduced by Facebook and which we are going to use within our Python Tutorial. To get some more reasons why you should learn Pytorch instead of many other frameworks have a look at [[11]](https://heartbeat.fritz.ai/10-reasons-why-pytorch-is-the-deep-learning-framework-of-future-6788bd6b5cc2)[[12]](https://blog.paperspace.com/why-use-pytorch-deep-learning-framework/). <br>\n",
    "Just for your information: to work against it's downsides, Google introduced a new version of TensorFlow in 2019 also known as __TensorFlow 2.0__. Instead of using static operations in its previous version, code is now executed in eager mode allowing operations being executed immediately for each building block without building graphs. \n",
    "\n",
    "\n",
    "\n",
    "# 2. Review of theoretical concepts about neural networks <a class=\"anchor\" id=\"theory\"></a>\n",
    "Deep learning has been been around since the 1950s, for which Rosenblatt  was the first one to introduce the concept of a _perceptron_. \n",
    "A neural network is build from individual parts called _neurons_. Each unit is weighted with a certain number of inputs which can be described as a linear function:\n",
    "\n",
    "$$\n",
    "\\begin{equation*}\n",
    "%\\begin{align}\n",
    "y=f \\left(\\sum_i w_i \\cdot x_i +b\\right)\n",
    "%\\end{align}\n",
    "\\label{eq:sum_weighted_inputs} \\tag{1}\n",
    "\\end{equation*}\n",
    "$$<a class=\"anchor\" id=\"sum_weighted_inputs\"></a>\n",
    "\n",
    "where $x_i$ and $w_i$ describe all the $i$ inputs and weights given to the _neuron_. Usually, a bias $b$ is added to influence the activation of the neuron. We can also describe this in matrix notation by giving this as a dot product of the two vectors:\n",
    "\n",
    "$$h = \\begin{equation*}\n",
    "\\left[\n",
    "\\begin{array}{rrr}\n",
    " x_1 & x_2 & \\cdots & x_n \\\\\n",
    "\\end{array} \\right]\n",
    "\\cdot\n",
    "\\left[\n",
    "\\begin{array}{c}\n",
    "w_1 \\\\\n",
    "w_2 \\\\\n",
    "\\vdots \\\\\n",
    "w_n \\\\\n",
    "\\end{array} \n",
    "\\right]\n",
    "\\label{eq:affine_matrix_rep} \\tag{2}\n",
    "\\end{equation*}$$\n",
    "\n",
    "\n",
    "Afterwards the weighted inputs are passed through an __activation function__ $f(\\cdot)$ to get a unit's output $y$. Inspired by the neurons in the brain, it can be seen as a gate which fires as soon as some kind of threshold is passed.\n",
    "\n",
    "\n",
    "\n",
    "## 2.1 Perceptron as a logical operation <a class=\"anchor\" id=\"logical_operation\"></a>\n",
    "### 2.1.1 AND Perceptron <a class=\"anchor\" id=\"and\"></a>\n",
    "\n",
    "The easiest way of understanding the concept of neural networks and perceptrons as it's key element is by consider is as a __logical operation__. To get a better idea lets visualize this for an __AND__ operator consisting of two input neurons $x_1$ and $x_2$:\n",
    "\n",
    "<img src='img/Perceptron_AND.png' width = \"500\">\n",
    "\n",
    "One the right sight the logical table is desplayed showing the an output is positive or negative. One the left hand sight you can see the perceptron containing the four different points to be separated. The decision boundary displayed above is what we are trying to determine. In this case a separation between the four points becomes quite evident as we can treat it as a classical __linear regression problem__. However, keep in mind that the complexity of most real-world scenarios can not be displayed by a linear function. This becomes more clear when we introduce the concept of backpropagation in multilayer neural networks. Both the input neurons $x_1$ and $x_2$ are multiplied by a weight $w_1$ and $w_2$. \n",
    "\n",
    "Both the weights $w_1$ and $w_2$ and bias term $b$ are usually unknown to us and are determined through optimization. \n",
    "However, when building your neural network, a good initialization of the weights and bias is required to get to your global optimum within a small amount of time [[13]](https://towardsdatascience.com/weight-initialization-techniques-in-neural-networks-26c649eb3b78). \n",
    "\n",
    " $$\n",
    " \\begin{equation*}\n",
    " y = x_1 \\cdot w_1 + x_2 \\cdot w_2 + b.\n",
    " \\label{eq:lin_equ} \\tag{3}\n",
    " \\end{equation*}\n",
    " $$\n",
    "\n",
    "\n",
    " "
   ]
  },
  {
   "cell_type": "code",
   "execution_count": 1,
   "metadata": {},
   "outputs": [
    {
     "name": "stdout",
     "output_type": "stream",
     "text": [
      "Nice!  You got it all correct.\n",
      "\n",
      " Input 1    Input 2    Linear Combination    Activation Output   Is Correct\n",
      "       0          0                  -0.6                    0          Yes\n",
      "       0          1                  -0.1                    0          Yes\n",
      "       1          0                  -0.1                    0          Yes\n",
      "       1          1                   0.4                    1          Yes\n"
     ]
    }
   ],
   "source": [
    "import pandas as pd\n",
    "\n",
    "# TODO: Set weight1, weight2, and bias; to be done by the students\n",
    "weight1 = 0.5\n",
    "weight2 = 0.5\n",
    "bias = -0.6\n",
    "\n",
    "\n",
    "# Inputs and outputs\n",
    "test_inputs = [(0, 0), (0, 1), (1, 0), (1, 1)]\n",
    "correct_outputs = [False, False, False, True]\n",
    "outputs = []\n",
    "\n",
    "# Generate and check output\n",
    "for test_input, correct_output in zip(test_inputs, correct_outputs):\n",
    "    linear_combination = weight1 * test_input[0] + weight2 * test_input[1] + bias\n",
    "    output = int(linear_combination >= 0)\n",
    "    is_correct_string = 'Yes' if output == correct_output else 'No'\n",
    "    outputs.append([test_input[0], test_input[1], linear_combination, output, is_correct_string])\n",
    "\n",
    "# Print output\n",
    "num_wrong = len([output[4] for output in outputs if output[4] == 'No'])\n",
    "output_frame = pd.DataFrame(outputs, columns=['Input 1', '  Input 2', '  Linear Combination', '  Activation Output', '  Is Correct'])\n",
    "if not num_wrong:\n",
    "    print('Nice!  You got it all correct.\\n')\n",
    "else:\n",
    "    print('You got {} wrong.  Keep trying!\\n'.format(num_wrong))\n",
    "print(output_frame.to_string(index=False))\n"
   ]
  },
  {
   "cell_type": "markdown",
   "metadata": {},
   "source": [
    "### 2.1.2 OR Perceptron <a class=\"anchor\" id=\"or\"></a>\n",
    "The same can be recognized when looking at the __OR__ operation instead. When trying to find our decision boundary for our data based on the table on the right, we get something like this on the right:\n",
    "\n",
    "<img src='img/Perceptron_OR.png' width = '500'>\n",
    "\n",
    "As you see, also for the execution of an __OR__ operation, the problem can be treated as a linear regression problem for which it is easy to build the decision boundary:\n",
    "<img src='img/Perceptron_OR2.png' width = '500'>\n",
    "\n",
    "If you want to change your weights from an __AND__ to __OR operator__, how would you achieve this? <br>\n",
    "\n",
    "   <input type=\"checkbox\" disabled checked>  increase the weights <br>\n",
    "   <input type=\"checkbox\" disabled> decrease the weights <br>\n",
    "   <input type=\"checkbox\" disabled>  increase a single weight <br>\n",
    "   <input type=\"checkbox\" disabled>  decprease a single weight <br>\n",
    "   <input type=\"checkbox\" disabled>  increase the weights <br>\n",
    "   <input type=\"checkbox\" disabled>  decrease the magnitude of the bias <br>\n",
    "   <input type=\"checkbox\" disabled checked>  increase the magnitude of the bias <br>\n",
    "   \n",
    "### 2.1.3 Exercise: NOT Perceptron <a class=\"anchor\" id=\"not\"></a>\n",
    "__Now it is your turn!__ <br>\n",
    "Try to initialize the paramters in `weight1` and `weight2` and `bias` so that you receive the correct results for the __NOT__ perceptron:"
   ]
  },
  {
   "cell_type": "code",
   "execution_count": 2,
   "metadata": {},
   "outputs": [
    {
     "name": "stdout",
     "output_type": "stream",
     "text": [
      "You got 2 wrong.  Keep trying!\n",
      "\n",
      " Input 1    Input 2    Linear Combination    Activation Output   Is Correct\n",
      "       0          0                     0                    1          Yes\n",
      "       0          1                     0                    1           No\n",
      "       1          0                     0                    1          Yes\n",
      "       1          1                     0                    1           No\n"
     ]
    }
   ],
   "source": [
    "import pandas as pd\n",
    "\n",
    "# TODO: Set weight1, weight2, and bias\n",
    "weight1 = 0\n",
    "weight2 = 0\n",
    "bias = 0\n",
    "\n",
    "\n",
    "# DON'T CHANGE ANYTHING BELOW\n",
    "# Inputs and outputs\n",
    "test_inputs = [(0, 0), (0, 1), (1, 0), (1, 1)]\n",
    "correct_outputs = [True, False, True, False]\n",
    "outputs = []\n",
    "\n",
    "# Generate and check output\n",
    "for test_input, correct_output in zip(test_inputs, correct_outputs):\n",
    "    linear_combination = weight1 * test_input[0] + weight2 * test_input[1] + bias\n",
    "    output = int(linear_combination >= 0)\n",
    "    is_correct_string = 'Yes' if output == correct_output else 'No'\n",
    "    outputs.append([test_input[0], test_input[1], linear_combination, output, is_correct_string])\n",
    "\n",
    "# Print output\n",
    "num_wrong = len([output[4] for output in outputs if output[4] == 'No'])\n",
    "output_frame = pd.DataFrame(outputs, columns=['Input 1', '  Input 2', '  Linear Combination', '  Activation Output', '  Is Correct'])\n",
    "if not num_wrong:\n",
    "    print('Nice!  You got it all correct.\\n')\n",
    "else:\n",
    "    print('You got {} wrong.  Keep trying!\\n'.format(num_wrong))\n",
    "print(output_frame.to_string(index=False))"
   ]
  },
  {
   "cell_type": "markdown",
   "metadata": {},
   "source": [
    "### 2.1.4 Excercise: Building a XOR Perceptron <a class=\"anchor\" id=\"xor\"></a>\n",
    "Lets start working on our first multilayer perceptron, which also makes the idea of a feedforward neural network more clear. For this purpose lets have a look at the XOR Perceptron (excluding or negating OR)! <br>\n",
    "In comparison to the __AND__, __OR__, and __NOT__ operations it becomes quite hard to draw one single decision boundary:\n",
    "\n",
    "<img src=\"img\\Perceptron_XOR.png\" width = \"500\">\n",
    "\n",
    "For our model we want it to generalise correctly for the four different points (0,0), (0,1), (1,0) and (1,1). Just as for the three other operations you can treat this problem as some kind of regression problem. No matter how you choose your decision boundary on a single neuron, you would end up with a low accuracy. One way of coping with this kind of problem is to change your model in such a way so that the solution can be represented by a linear model. <br>\n",
    "\n",
    "Do you find a way to split this up into our logical operations __AND__, __OR__ and __NOT__?\n",
    "\n",
    "<img src=\"img\\multilayer_perc.png\" width = \"400\">\n",
    "\n",
    "In which places would you place these for A, B and C? <br>\n",
    "If you are not sure draw a logical table!\n",
    "\n",
    "_Solution: A: AND, B: OR, C: NOT_"
   ]
  },
  {
   "cell_type": "markdown",
   "metadata": {},
   "source": [
    "## 2.2 Activation Functions <a class=\"anchor\" id=\"activation_function\"></a>\n",
    "As said before, you can see a neuron as some kind of \"gate\" which fires as soon as it passes a certain activation. The easiest and most well known activation functions are the __step function__ and the __sigmoid function__ .\n",
    "\n",
    "The __step function__ is probably the most widely known function which acts as a kind of threshold when a certain value is reached. It returns a binary value. However, to map complex input data to output data nonlinear functions are preferred due to the reasons mentioned below [[14]](https://missinglink.ai/guides/neural-network-concepts/7-types-neural-network-activation-functions-right/):\n",
    "\n",
    "- They allow backpropagation because they have a derivative function which is related to the inputs.\n",
    "- They allow “stacking” of multiple layers of neurons to create a deep neural network. Multiple hidden layers of neurons are needed to learn complex data sets with high levels of accuracy.\n",
    "\n",
    "One of the most well known continuous nonlinear functions is the __sigmoid function__ which returns a probability value between 0 and 1:\n",
    "\n",
    "$$\\begin{align}\n",
    "y = \\frac{1}{1+e^{-x}}\n",
    "\\label{eq:sigmoid}\\tag{4}\n",
    "\\end{align}$$\n",
    "\n",
    "- Smooth gradient, preventing from jumps in output values (such as in the case of the step function).\n",
    "- Output values bound between 0 and 1, normalizing the output of each neuron.\n",
    "- Clear predictions—For X above 2 or below -2, tends to bring the Y value (the prediction) to the edge of the curve, very close to 1 or 0. This enables clear predictions.\n",
    "\n",
    "\n"
   ]
  },
  {
   "cell_type": "code",
   "execution_count": 247,
   "metadata": {},
   "outputs": [],
   "source": [
    "def step_func(x):\n",
    "    r'''Step function\n",
    "    \n",
    "    Step function that outputs a 1 if the x is positive otherwise 0\n",
    "    args:\n",
    "    ----------\n",
    "    x: np.array\n",
    "    '''\n",
    "    #if x >= 0:\n",
    "        #return torch.tensor((1))\n",
    "    #    return torch.tensor((lambda _ : 1+_*0.00000001))\n",
    "    #else:\n",
    "    #    y = [[0]]\n",
    "    #return torch.tensor(y)\n",
    "    return 1 * (torch.tensor(x)>1)\n",
    "\n",
    "    \n",
    "def sigmoid_func(x):\n",
    "    r'''Sigmoid activation function\n",
    "        \n",
    "        Sigmoid activation function that outputs a value/probability between 0 and 1\n",
    "        args:\n",
    "        ----------\n",
    "        x: torch.tensor\n",
    "        \n",
    "    '''\n",
    "    return 1/(1+torch.exp(-x))\n",
    "\n",
    "def tanh_func(x):\n",
    "    r'''Tanh activation function\n",
    "        \n",
    "        Tanh activation function that outputs a value/probability between 0 and 1\n",
    "        args:\n",
    "        ----------\n",
    "        x: torch.tensor\n",
    "        \n",
    "    '''\n",
    "    return ((torch.exp(x)-torch.exp(-x))/(torch.exp(x)+torch.exp(-x)))"
   ]
  },
  {
   "cell_type": "code",
   "execution_count": 248,
   "metadata": {
    "scrolled": true
   },
   "outputs": [
    {
     "data": {
      "image/png": "[encoded data removed]",
      "text/plain": [
       "<Figure size 504x288 with 1 Axes>"
      ]
     },
     "metadata": {
      "image/png": {
       "height": 248,
       "width": 442
      },
      "needs_background": "light"
     },
     "output_type": "display_data"
    }
   ],
   "source": [
    "from ipykernel import kernelapp as app\n",
    "import numpy as np\n",
    "import matplotlib.pyplot as plt\n",
    "import torch\n",
    "\n",
    "x = np.arange(-5, 5, 0.01)\n",
    "\n",
    "plt.figure(figsize = (7,4))\n",
    "plt.plot(x, step_func(torch.as_tensor(x).numpy()), color = 'b', label ='step')\n",
    "plt.plot(x, sigmoid_func(torch.tensor(x)), color = 'r', label = 'sigmoid')\n",
    "plt.plot(x, tanh_func(torch.as_tensor(x)), color = 'g', label = 'tanh')\n",
    "plt.legend()\n",
    "plt.show()"
   ]
  },
  {
   "cell_type": "markdown",
   "metadata": {},
   "source": [
    "To refresh your knowledge about activation functions from the lecture, have a look at [[15]](https://missinglink.ai/guides/neural-network-concepts/7-types-neural-network-activation-functions-right/). However, keep in mind that even an activation function requires optimization for itself. For this reason, a heavy research also have been in improving the activation function to allow for good generalization of your task. To read some adaptive approach for learning the right activation function for each neuron seperately, have a look at the [paper](https://arxiv.org/pdf/1412.6830.pdf) published at the ICLR 2015.\n",
    "\n",
    "\n",
    "## Exercise:\n",
    "A generalization of the __sigmoid__ function for the multinomial case is the __softmax__ function. This is of interest when the probablilites associated with a multinoulli distribution should be computed [[16]](https://www.deeplearningbook.org/contents/mlp.html). It is defined by \n",
    "\n",
    "$$\\begin{align}\n",
    "y(x) = \\frac{e^{-x}}{\\sum_i^n e^{-x_i}}.\n",
    "\\label{eq:softmax}\\tag{5}\n",
    "\\end{align}$$\n",
    "\n",
    "__Now it is your turn!__ <br>\n",
    "For a given list $L$ of length $n$, write a function `softmax` that applies the above function.\n",
    "\n",
    "\n"
   ]
  },
  {
   "cell_type": "code",
   "execution_count": 3,
   "metadata": {},
   "outputs": [
    {
     "name": "stdout",
     "output_type": "stream",
     "text": [
      "[1, 4, 2, 32, 1, 75, 84, 34, 43]\n",
      "None\n"
     ]
    }
   ],
   "source": [
    "## to be done by the students\n",
    "L = [1, 4, 2, 32, 1, 75, 84, 34, 43]\n",
    "\n",
    "def softmax(L):\n",
    "    ...\n",
    "    ...\n",
    "    pass\n",
    "\n",
    "print(L)\n",
    "print(softmax(L))"
   ]
  },
  {
   "cell_type": "markdown",
   "metadata": {},
   "source": [
    "## __Did you notice that for two classes the softmax function is the equivalent of the sigmoid activation function?__\n",
    "\n",
    "\n",
    "## 2.3 Optimization <a class=\"anchor\" id=\"optim\"></a>\n",
    "When training a neural network there are a bunch of hyperparameters to optimize:\n",
    "\n",
    "1. number of layers and neurons\n",
    "2. learning rate\n",
    "3. batch size\n",
    "4. momentum\n",
    "5. number of epochs\n",
    "6. dropout\n",
    "7. activation function\n",
    "\n",
    "\n",
    "To determine the hyperparamters of our neural network we usually try to minimize or maximize a specific __objective function__ $f(\\cdot)$. <br>\n",
    "By choosing a specific optimization criteria we are able to validate our results so that in the case of minimization of a function (in this case we often talk about a __loss function__, or __cost function__) we try to \n",
    "\n",
    "$$\n",
    "\\begin{equation*}\n",
    "x^* = \\text{arg min } f(x).\n",
    "\\label{eq:optim}\\tag{6}\n",
    "\\end{equation*}\n",
    "$$\n",
    "\n",
    "To do so, a well known optimization technique is te __Gradient Descent__ algorithm. Based on the initial starting paramters and a specified step size, we are trying to find the global optimum. This is usually done by following the gradient of the function. One downside of this algorithm is that it is very much dependent on the chosen step size. When choosing the step size (in machine learning also often well-known as our learning rate) too high we are very much likely to miss our global optimum. When choosing the step size too small, the training procedure takes very long and, therefore, shows a slow convergence to the global solution. Furthermore, it is very likely to get trapped within a local minima/maxima. In case of deep learning this is often referred as __Batch Gradient Decent__ where the optimization takes place based on the entire training dataset [[17]](https://arxiv.org/pdf/1609.04747.pdf). Another optimization technique usually preferred is the __stochachastic gradient decent (SGD)__ which optimizes based on each training sample. Another optimization technique in deep learning which have become popular is the __Adam__ which allows to optimize based on adaptive learning rates by incoorperating the momentum.\n",
    "\n",
    "\n",
    "\n",
    "## 2.4 Training and Testing <a class=\"anchor\" id=\"TNT\"></a>\n"
   ]
  },
  {
   "cell_type": "markdown",
   "metadata": {},
   "source": [
    "One of the key goals when training a neural network is that it is able to generalize well on _new, unseen_ data. This takes as a prerequisite that the training dataset is \"rich\" enough both on containing enough training samples but also of being able to reflect the world. This task in machine learning can quite hard to accomplish! <br>\n",
    "\n",
    "When training a neural network we prefer to split our dataset into a training and testing dataset, for which a split of 70:30 has become a \"rule of thumb\". When starting to tune our hyperparameters we try to optimize some kind of __training error__ which we have choosen previously. For this, we usually start by trying to maximize our accuracy (or minimizing our loss). \n",
    "\n",
    "So far this is just a simple optimization problem. One of our goals in machine learning though is to also being able to generalize well. For this we also look at the __test error__ which we get based on the testing dataset. As you can probably already guess it becomes quite important to choose a test dataset which does not contain any samples from the training dataset, as this would underestimate our test error. However, one important assumption made is that both training and testing dataset are generated based on the same underlying probability distribution. A usual assumption for this is that the samples are __independent, identically distributed__. This assumption is what actually makes us able to study the relationship between the training and test error in mathematical terms! <br>\n",
    "\n",
    "Hence, to know weither a model is training well we look at 1.) if the training error or loss is decreasing and 2.) look at the difference of training and test error. __When starting our training procedure we generally first prefer to overfit than underfit our data!__ But what do we mean with underfitting and overfitting? <br>\n",
    "\n",
    "We are talking about __underfitting__ when we our error rate within the different epochs is not decreasing as expected. On the other hand, __overfitting__ occurs when the gap between training and testing error is too large. This becomes more evident when having a loop at the following graphic retrieved from the slides publicly available by Goodfellow [[18]](https://www.deeplearningbook.org/slides/05_ml.pdf):\n",
    "\n",
    "<img src='img\\overfitting_underfitting.png' width=\"500\">\n",
    "\n",
    "Here you are trying to find the optimal capacity so that we neither reach the point that our model starts to underfit oder overfit based on the input data. In case of underfitting, we are not able achieve the optimal learning. When reducing the error rate of the training of the model further, some kind of overfitting might take place where the decision boundary becomes very close to the data points from the training dataset. Nonetheless, this has the effect that it is not able to generalize well on new data points. <br>\n",
    "\n",
    "<div class=\"alert alert-block alert-info\"><b> Reminder: <br>\n",
    "    Test error: estimate the expected value of some predefined error metric based on a new input <br>\n",
    "    Overfitting: often also refered as the \"memorization\" of the  results<br>\n",
    "    Underfitting: not able to reach a sufficiently low error rate since the model is not able to learn properly <br>\n",
    "    </b>\n",
    "    \n"
   ]
  },
  {
   "cell_type": "markdown",
   "metadata": {},
   "source": [
    "### Theoretical questions\n",
    "\n",
    "1. What kind of phenomenon might occur when designing your model based on both training and test set? <br>\n",
    "        \n",
    "        ...\n",
    "        ...\n",
    "        ...\n",
    "        \n",
    "2. We neither like our model to under- nor overfit. Why do you think overfitting is preferred when training, even though the generalization gap is becoming larger?\n",
    "        \n",
    "        ...\n",
    "        ...\n",
    "        ..."
   ]
  },
  {
   "cell_type": "markdown",
   "metadata": {},
   "source": [
    "# 3. Training Neural Networks with Pytorch <a class=\"anchor\" id=\"Pytorch\"></a>\n",
    "In our first lecture, we briefly discussed the different frameworks available in Python. Pytorch has the convenience of allowing some kind of \"wrapper\" to the `numpy` package, allowing for a quick conversion between both tensors (as used in pytorch) to numpy arrays [[19]](https://pytorch.org/tutorials/beginner/former_torchies/tensor_tutorial.html). Furthermore, it allows for executing accelerated computations using your own GPU by writing a simple one-liner. For more details on this see [[20]](https://pytorch.org/docs/stable/cuda.html) and [[21]](https://pytorch.org/docs/stable/notes/cuda.html). \n",
    "\n",
    "## 3.1 Installation of pytorch package <a class=\"anchor\" id=\"installation\"></a>\n",
    "To install pytorch lets go onto the following [page](https://pytorch.org/).\n",
    "\n",
    "To do the installation within the `jupyter notebook` use the below command. When doing installations within the notebook we advice you to use the command `!conda install --yes --prefix {sys.prefix}` instead of `!conda install`. The reason why we advice you to do so is that both python and the shell environment are disconnected. To read more on this look at [[22]](https://jakevdp.github.io/blog/2017/12/05/installing-python-packages-from-jupyter/)."
   ]
  },
  {
   "cell_type": "code",
   "execution_count": 90,
   "metadata": {
    "scrolled": true
   },
   "outputs": [],
   "source": [
    "#import sys\n",
    "#!conda install --yes --prefix {sys.prefix} conda install pytorch torchvision cpuonly -c pytorch"
   ]
  },
  {
   "cell_type": "markdown",
   "metadata": {},
   "source": [
    "## 3.2 Single layer neural network <a class=\"anchor\" id=\"single_layer\"></a>\n",
    "As already mentioned, `pytorch` easily allows to convert tensors to `numpy` arrays. To see this effect of equation ([1](#sum_weighted_inputs)) better, lets try to apply to simulate some random normal distributed data and pass it to a single neuron. Based on our object `y`, we can afterwards have a look at the effect of using different activation functions:"
   ]
  },
  {
   "cell_type": "code",
   "execution_count": 258,
   "metadata": {},
   "outputs": [
    {
     "name": "stdout",
     "output_type": "stream",
     "text": [
      "tensor([[0.4011]])\n",
      "sigmoid function: tensor([[0.5989]])\n",
      "step function: tensor([[0]])\n",
      "tanh function: tensor([[0.3809]])\n"
     ]
    },
    {
     "name": "stderr",
     "output_type": "stream",
     "text": [
      "C:\\Users\\Dominique.AW\\Anaconda3\\lib\\site-packages\\ipykernel_launcher.py:15: UserWarning: To copy construct from a tensor, it is recommended to use sourceTensor.clone().detach() or sourceTensor.clone().detach().requires_grad_(True), rather than torch.tensor(sourceTensor).\n",
      "  from ipykernel import kernelapp as app\n"
     ]
    }
   ],
   "source": [
    "import torch\n",
    "\n",
    "### Generate artificial data\n",
    "torch.manual_seed(123)\n",
    "\n",
    "# output mostly given as a tuple such an this case\n",
    "# other dtypes also possible by proving the argument 'dtype = torch.float'\n",
    "# 5 input features drawn from random normal distribution\n",
    "features = torch.randn((1,5)) \n",
    "\n",
    "#set weights for data; randn_like reuses properties / shape of the input object/tensor \"features\"\n",
    "weights = torch.randn_like(features)\n",
    "\n",
    "#true bias\n",
    "bias = torch.randn((1,1))\n",
    "\n",
    "y = torch.sum(features * weights) + bias\n",
    "y1 = sigmoid_func(torch.sum(features * weights) + bias)\n",
    "y2 = step_func(torch.sum(features * weights) + bias)\n",
    "y3 = tanh_func(torch.sum(features * weights) + bias)\n",
    "\n",
    "print(y)\n",
    "print(\"sigmoid function:\", y1)\n",
    "print(\"step function:\", y2)\n",
    "print(\"tanh function:\", y3)"
   ]
  },
  {
   "cell_type": "markdown",
   "metadata": {},
   "source": [
    "Do you remember our equation ([1](#sum_weighted_inputs)) from the top? Lets compute for a single layer network! <br>\n",
    "\n",
    "For this we first have to load the package pytorch by `import torch`. To guarantee the reproducibility of our code we set a manual seed by using the function `torch.manual_seed()`.To see the magic behind a single layer neural net, we first generate some data from a normal distribution. Lets look at each line separately:\n",
    "\n",
    "`features = torch.randn((1,5))` creates a tensor of shape (1,5) with one row and five columns whose values are drawn from a normal distribution with $\\mu=0$ and $\\sigma=1$ <br>\n",
    "`weights = torch.randn_like(features)` creates another tensor with the samee shape / properties as the ones in `features`. <br>\n",
    "`bias = torch.randn((1,1))` creates a tensor with a single value from a normal distribution <br>\n",
    "\n",
    "The object `y` contains all the weighted inputs $x_1, x_2, \\cdots, x_n$ according to equation ([1](#sum_weighted_inputs)). In the variables `y1`, `y2` and `y3` we apply the different activation functions which we have introduced in section [2.2](#activation_function).\n",
    "\n",
    "You can look at tensors as an instance of a matrix. Just as with numpy array, tensors in pytorch allow you to do arithmetic operations such as multiplication, addition, subtraction etc. However, the benefits become noticable when your neural network becomes more rich in size (then often talking about deep neural networks) and data. In this case, GPU acceleration allows you to achieve the same performance in less computational time. \n",
    "__citation__"
   ]
  },
  {
   "cell_type": "code",
   "execution_count": 11,
   "metadata": {},
   "outputs": [],
   "source": [
    "y_torch = sigmoid_func(torch.sum(features * weights) + bias)\n",
    "y_numpy = sigmoid_func((features * weights).sum() + bias)"
   ]
  },
  {
   "cell_type": "markdown",
   "metadata": {},
   "source": [
    "Within the object `y_torch` we execute an element-by-element multiplication of the objects `features` and `weights` by using the package __pytorch__ whereas in `y_torch` a summation of a tensor is done for __each array__ [[23]](https://github.com/pytorch/pytorch/issues/29137) [[24]](https://pytorch.org/docs/master/torch.html?highlight=torch%20max#torch.einsum) [[25]](https://docs.scipy.org/doc/numpy/reference/generated/numpy.sum.html)."
   ]
  },
  {
   "cell_type": "markdown",
   "metadata": {},
   "source": [
    "# 4. Classification on MNIST Dataset <a class=\"anchor\" id=\"mnist\"></a>\n",
    "For the start lets have a look at the __Fashion MNIST Dataset__ which is freely available within the _dataset_ module in torchvision [[26]](https://pytorch.org/docs/stable/torchvision/datasets.html)."
   ]
  },
  {
   "cell_type": "code",
   "execution_count": 13,
   "metadata": {},
   "outputs": [],
   "source": [
    "#import sys\n",
    "#!conda install --yes --prefix {sys.prefix} \"pillow<7\""
   ]
  },
  {
   "cell_type": "code",
   "execution_count": 163,
   "metadata": {},
   "outputs": [],
   "source": [
    "### Run this cell\n",
    "import torch\n",
    "from torchvision import datasets, transforms\n",
    "\n",
    "# Define a transform to normalize the data\n",
    "transform = transforms.Compose([transforms.ToTensor(),\n",
    "                                transforms.Normalize((0.5,), (0.5,))])\n",
    "\n",
    "# Download and load the training data\n",
    "trainset = datasets.FashionMNIST('~/.pytorch/F_MNIST_data/', download=True, train=True, transform=transform)\n",
    "trainloader = torch.utils.data.DataLoader(trainset, batch_size=64, shuffle=True)\n",
    "\n",
    "# Download and load the test data\n",
    "testset = datasets.FashionMNIST('~/.pytorch/F_MNIST_data/', download=True, train=False, transform=transform)\n",
    "testloader = torch.utils.data.DataLoader(testset, batch_size=64, shuffle=True)"
   ]
  },
  {
   "cell_type": "markdown",
   "metadata": {},
   "source": [
    "When working with image data we always normalize our data beforehand. This is done by specifying the transformations beforehand with the object `transform` chained together with `Compose` [[27]](https://pytorch.org/docs/stable/torchvision/transforms.html). We will refer again to this when talking about data augmentation! <br>\n",
    "\n",
    "Afterwards we load our training and test dataset. Pytorch (and also python APIs such as _keras_ ) already contains a range of freely available datasets. Other well-known datasets are for instance the MNIST handwriting dataset but also many other ones from various \"coding challenges\" [[28]](https://pytorch.org/docs/stable/torchvision/datasets.html#cifar). <br>\n",
    "\n",
    "In `trainset` we specify what kind of dataset to load, whether we want to load the training or test set (pass _True_ for the argument train and _False_ for the testing set) and what kind of transform to execute beforehand.\n",
    "To load the data in `trainloader`, we first specify the size of the batch which should be loaded within the `batch_size` and turn the `shuffle` to _True_. We do the same for the objects `testset` and `testloader`, however, we have to note that the shuffling process is only adviced during training.\n",
    "\n",
    " <div class=\"alert alert-block alert-info\"><b>Reminder: <br>\n",
    "    batch size: specifies the number of training example we feed on our model before we update our hyperparameters <br>\n",
    "    shuffle: randomizing the of order of the images so our model will not start to memorize the order \n",
    "</b> \n",
    "    "
   ]
  },
  {
   "cell_type": "markdown",
   "metadata": {},
   "source": [
    "To visualize specific data from the training dataset (or testing dataset) we are going to import some functions contained within `helper_func` made publically available by _Udacity_ :"
   ]
  },
  {
   "cell_type": "code",
   "execution_count": 97,
   "metadata": {
    "scrolled": false
   },
   "outputs": [
    {
     "data": {
      "text/plain": [
       "<matplotlib.axes._subplots.AxesSubplot at 0x21920db5dd8>"
      ]
     },
     "execution_count": 97,
     "metadata": {},
     "output_type": "execute_result"
    },
    {
     "data": {
      "image/png": "[encoded data removed]",
      "text/plain": [
       "<Figure size 432x288 with 1 Axes>"
      ]
     },
     "metadata": {
      "image/png": {
       "height": 231,
       "width": 231
      },
      "needs_background": "light"
     },
     "output_type": "display_data"
    }
   ],
   "source": [
    "import helper_func\n",
    "\n",
    "image, label = next(iter(trainloader))\n",
    "helper_func.imshow(image[0,:], title = \"Image from training dataset\")"
   ]
  },
  {
   "cell_type": "markdown",
   "metadata": {},
   "source": [
    "When using `DataLoader` keep in mind that it is a generator. To retrieve the item, one possibility is to use the function `next()` during each iteration specified by the function `iter()` [[29]](https://docs.python.org/3/library/functions.html#next). Another possibility would be to iterate over it by using a `for` loop.\n"
   ]
  },
  {
   "cell_type": "markdown",
   "metadata": {},
   "source": [
    "## 4.1 Building the Neural Network <a class=\"anchor\" id=\"building\"></a>\n",
    "For now we were able to load our training and test data successfully!!! <br>\n",
    "Lets start defining our first model in our class __Classifier__ below.\n",
    "For that purpose we first import the `nn` and `optim` module which enable us to define the structure of our neural net and allow us to optimize our hyperparameters during training."
   ]
  },
  {
   "cell_type": "code",
   "execution_count": 2,
   "metadata": {},
   "outputs": [],
   "source": [
    "from torch import nn, optim\n",
    "import torch.nn.functional as F"
   ]
  },
  {
   "cell_type": "code",
   "execution_count": 3,
   "metadata": {},
   "outputs": [],
   "source": [
    "class Classifier(nn.Module):\n",
    "    def __init__(self):\n",
    "        super().__init__()\n",
    "        self.fc1 = nn.Linear(784, 256)\n",
    "        self.fc2 = nn.Linear(256, 128)\n",
    "        self.fc3 = nn.Linear(128, 64)\n",
    "        self.fc4 = nn.Linear(64, 10)\n",
    "        \n",
    "    def forward(self, x):\n",
    "        # make sure input tensor is flattened\n",
    "        x = x.view(x.shape[0], -1)\n",
    "        \n",
    "        x = F.relu(self.fc1(x))\n",
    "        x = F.relu(self.fc2(x))\n",
    "        x = F.relu(self.fc3(x))\n",
    "        x = F.log_softmax(self.fc4(x), dim=1)\n",
    "        \n",
    "        return x"
   ]
  },
  {
   "cell_type": "markdown",
   "metadata": {},
   "source": [
    "Within our constructor `__init__` we first define the layers of our neural net should have. In the above example we define four __fully connected layers__ `fc1`, `fc2`, `fc3` and `fc4`. For `self.fc1 = nn.Linear(784, 256)` we specify the filter size of our kernel by assigning the 784 input features and 256 output features. These 256 output features are afterwards passed to the next layer. This process is quite typically to do some kind of __feature reduction__. For a better understanding: the 784 features derive from the number of pixels which in our case are (28x28 pixels in length and width). Another argument that can be passed is the `bias` which was not considered within our above example [[30]](https://pytorch.org/docs/stable/nn.html#linear-layers). <br>\n",
    "\n",
    "In our method `forward` we define what kind of activation function that should be used within each layer. For instance, in `F.relu(self.fc1(x))` we directly pass the ReLu activation function on our weighted inputs. To do so, make sure in advance that your input tensor is flattend! <br>\n",
    "The activation function to choose at the last layer very much depends on the kind of application we are intending to do. In our case, we are dealing with a __classification problem__ where we want to classify the different input images to a specified class. To do so, a (log) softmax activation function is usually applied to give you the probability a input is assigned to each output class: <br>\n",
    "`x = F.log_softmax(self.fc4(x), dim=1)`\n",
    "\n",
    "In pytorch you only have to define the forward pass. The backward pass is already implemented in pytorch using autograd.\n",
    "\n",
    "\n",
    "<div class=\"alert alert-block alert-info\"><b>Reminder: <br>\n",
    "    Flattening: converting a 2D array (for instance an image) into a 1D vector <br>    \n",
    "</b>\n"
   ]
  },
  {
   "cell_type": "markdown",
   "metadata": {},
   "source": [
    "## 4.2 Training the Neural Network <a class=\"anchor\" id=\"training\"></a>\n",
    "Based on the specified architecture we mentioned before, we can now start training our neural network based on the training dataset."
   ]
  },
  {
   "cell_type": "code",
   "execution_count": 4,
   "metadata": {},
   "outputs": [
    {
     "name": "stdout",
     "output_type": "stream",
     "text": [
      "Classifier(\n",
      "  (fc1): Linear(in_features=784, out_features=256, bias=True)\n",
      "  (fc2): Linear(in_features=256, out_features=128, bias=True)\n",
      "  (fc3): Linear(in_features=128, out_features=64, bias=True)\n",
      "  (fc4): Linear(in_features=64, out_features=10, bias=True)\n",
      ")\n"
     ]
    }
   ],
   "source": [
    "LEARNING_RATE = 0.003\n",
    "\n",
    "model = Classifier()\n",
    "criterion = nn.NLLLoss()\n",
    "optimizer = optim.Adam(model.parameters(), lr=LEARNING_RATE)\n",
    "\n",
    "print(model)"
   ]
  },
  {
   "cell_type": "markdown",
   "metadata": {},
   "source": [
    "For this we first create a `model` as an instance of our class `Classifier()`. Afterwards we define the criterion on which our optimisation should be based on. `NLLLoss()` computes the __negative log likelihood loss__. This is based on the assumption that you are trying to maximize the likelihood of choosing the optimal weights. When looking at a classification problem this is equivalent to the also well-known __cross entropy loss__ [[31]](https://discuss.pytorch.org/t/difference-between-cross-entropy-loss-or-log-likelihood-loss/38816/2). \n",
    "\n",
    "Above in section 2.2 we talked about the different optimizers to use. This is specified in the below example by choosing `Adam` as the optimization technique of our choice. However, there are many other optimizeres already available within __pytorch__ which can be found [here](https://pytorch.org/docs/stable/optim.html). For instance, an extension of the above mentionend gradient decent is the implementation of SGD (stochastic gradient decent) which picks a data point from the dataset at random during each iteration [[32]](https://developers.google.com/machine-learning/crash-course/reducing-loss/stochastic-gradient-descent). The optimization heavily depends on the __learning rate__ that is set beforehand. The learning rate describes the step to take during each iteration of the learning process and can take a value between 0 and 1. It is one of our other hyperparameters which has to finetuned. A low learning rate leads to a slow learning process but guarantees a good smooth convergence to your global optimum. To speed up the learning process one often increases the learning rate, however, this can lead that we are not able to converge. \n",
    "\n",
    "Pytorch already contains a variety of loss criteria and optimizers implemented. A thorough documentation can be found on [[33]](https://pytorch.org/docs/stable/nn.html).\n",
    "\n",
    "<div div class=\"alert alert-block alert-info\"><b>Reminder: <br>\n",
    "learning rate: describes the step size to take during the learning process\n",
    "</b>"
   ]
  },
  {
   "cell_type": "code",
   "execution_count": 111,
   "metadata": {},
   "outputs": [
    {
     "name": "stdout",
     "output_type": "stream",
     "text": [
      "Training loss: 0.5160843415428072\n",
      "Training loss: 0.3871479231729182\n",
      "Training loss: 0.3584821115234005\n",
      "Training loss: 0.3293492778706779\n",
      "Training loss: 0.31610257955375254\n"
     ]
    }
   ],
   "source": [
    "#TODO: Train the neural network\n",
    "EPOCHS = 5\n",
    "\n",
    "for e in range(EPOCHS):\n",
    "    running_loss = 0\n",
    "    for images, labels in trainloader:\n",
    "        log_ps = model(images)\n",
    "        loss = criterion(log_ps, labels)\n",
    "        \n",
    "        optimizer.zero_grad()\n",
    "        loss.backward()\n",
    "        optimizer.step()\n",
    "        \n",
    "        running_loss += loss.item()\n",
    "    else:\n",
    "        print(f\"Training loss: {running_loss/len(trainloader)}\")"
   ]
  },
  {
   "cell_type": "markdown",
   "metadata": {},
   "source": [
    "For our training, we first decide on the epoch size which we set to `EPOCHS = 5` (please keep in mind that the value of the epoch size is usuallymuch higher!). As the first for loop already indicates, the number of __epochs__ define the number of times the training data is fed to the neural network. To validate the result of each training epoch, the training loss and accuracy is usually evaluated. For each training epoch you can recognize a decrease in the training loss. These values become even more important later on, when evaluating our results in comparison to our test data set. \n",
    "\n",
    "For each epoch we run our model saved in `log_ps`. Furthermore, we determine the loss for each iteration saved in `loss = criterion(log_ps, labels)`. In `loss.backward()` we determine the derivative with respect to the previous parameters when doing backpropagation. In `optimizer.step()` we take a step forward. \n",
    "\n",
    "In pytorch the gradient is accumulated during on subsequent backward passes. This becomes very helpful when training recurrent networks. However, for our application these should be set back to zero [[34]](https://stackoverflow.com/questions/48001598/why-do-we-need-to-call-zero-grad-in-pytorch). `optimizer.zero_grad()` makes sure that when iterating through the epochs the gradient is set back to zero to avoid accumulation of the error.\n",
    "        \n",
    "<div class=\"alert alert-block alert-info\"><b>Reminder: <br>\n",
    "Epochs: epochs define the number of times the training data is shown to the network during training\n",
    "</b>"
   ]
  },
  {
   "cell_type": "code",
   "execution_count": 112,
   "metadata": {},
   "outputs": [
    {
     "data": {
      "image/png": "[encoded data removed]",
      "text/plain": [
       "<Figure size 432x648 with 2 Axes>"
      ]
     },
     "metadata": {
      "image/png": {
       "height": 216,
       "width": 424
      },
      "needs_background": "light"
     },
     "output_type": "display_data"
    }
   ],
   "source": [
    "%matplotlib inline\n",
    "%config InlineBackend.figure_format = 'retina'\n",
    "\n",
    "import helper_func\n",
    "\n",
    "# Test out your network!\n",
    "dataiter = iter(testloader)\n",
    "images, labels = dataiter.next()\n",
    "img = images[0]\n",
    "\n",
    "# TODO: Calculate the class probabilities (softmax) for img\n",
    "ps = torch.exp(model(img))\n",
    "\n",
    "# Plot the image and probabilities\n",
    "helper_func.view_classify(img, ps, \"Fashion\")"
   ]
  },
  {
   "cell_type": "markdown",
   "metadata": {},
   "source": [
    "## 4.3 Training and testing <a class=\"anchor\" id=\"test_val\"></a>\n",
    "For now lets assume that we are only considering training and testing dataset. To see how well our model is doing both on training and testing dataset we first load just as within the previous example."
   ]
  },
  {
   "cell_type": "code",
   "execution_count": 281,
   "metadata": {},
   "outputs": [],
   "source": [
    "import torch\n",
    "from torchvision import datasets, transforms\n",
    "\n",
    "# Define a transform to normalize the data\n",
    "transform = transforms.Compose([transforms.ToTensor(),\n",
    "                                transforms.Normalize((0.5,), (0.5,))])\n",
    "# Download and load the training data\n",
    "trainset = datasets.FashionMNIST('~/.pytorch/F_MNIST_data/', download=True, train=True, transform=transform)\n",
    "trainloader = torch.utils.data.DataLoader(trainset, batch_size=64, shuffle=True)\n",
    "\n",
    "# Download and load the test data\n",
    "testset = datasets.FashionMNIST('~/.pytorch/F_MNIST_data/', download=True, train=False, transform=transform)\n",
    "testloader = torch.utils.data.DataLoader(testset, batch_size=64, shuffle=True)"
   ]
  },
  {
   "cell_type": "code",
   "execution_count": 282,
   "metadata": {},
   "outputs": [],
   "source": [
    "from torch import nn, optim\n",
    "import torch.nn.functional as F\n",
    "\n",
    "class Classifier(nn.Module):\n",
    "    def __init__(self):\n",
    "        super().__init__()\n",
    "        self.fc1 = nn.Linear(784, 256)\n",
    "        self.fc2 = nn.Linear(256, 128)\n",
    "        self.fc3 = nn.Linear(128, 64)\n",
    "        self.fc4 = nn.Linear(64, 10)\n",
    "        \n",
    "    def forward(self, x):\n",
    "        # make sure input tensor is flattened\n",
    "        x = x.view(x.shape[0], -1)\n",
    "        \n",
    "        x = F.relu(self.fc1(x))\n",
    "        x = F.relu(self.fc2(x))\n",
    "        x = F.relu(self.fc3(x))\n",
    "        x = F.log_softmax(self.fc4(x), dim=1)\n",
    "        \n",
    "        return x"
   ]
  },
  {
   "cell_type": "markdown",
   "metadata": {},
   "source": [
    "As you see we didn't make any changes to model itself!"
   ]
  },
  {
   "cell_type": "code",
   "execution_count": 283,
   "metadata": {},
   "outputs": [
    {
     "name": "stdout",
     "output_type": "stream",
     "text": [
      "torch.Size([64, 10])\n"
     ]
    }
   ],
   "source": [
    "model = Classifier()\n",
    "\n",
    "images, labels = next(iter(testloader))\n",
    "# Get the class probabilities\n",
    "ps = torch.exp(model(images))\n",
    "# Make sure the shape is appropriate, we should get 10 class probabilities for 64 examples\n",
    "print(ps.shape)"
   ]
  },
  {
   "cell_type": "markdown",
   "metadata": {},
   "source": [
    "We again train our model by executing our class `Classifier()`. <br>\n",
    "When using `ps.shape` we get the dimension of the batch size and the ten classes"
   ]
  },
  {
   "cell_type": "code",
   "execution_count": 262,
   "metadata": {},
   "outputs": [
    {
     "name": "stdout",
     "output_type": "stream",
     "text": [
      "tensor([[4],\n",
      "        [4],\n",
      "        [4],\n",
      "        [4],\n",
      "        [4],\n",
      "        [4],\n",
      "        [4],\n",
      "        [4],\n",
      "        [4],\n",
      "        [4]])\n"
     ]
    }
   ],
   "source": [
    "top_p, top_class = ps.topk(1, dim=1)\n",
    "# Look at the most likely classes for the first 10 examples\n",
    "print(top_class[:10,:])"
   ]
  },
  {
   "cell_type": "code",
   "execution_count": 129,
   "metadata": {
    "scrolled": true
   },
   "outputs": [
    {
     "name": "stdout",
     "output_type": "stream",
     "text": [
      "Accuracy: 87.5%\n"
     ]
    }
   ],
   "source": [
    "accuracy = torch.mean(equals.type(torch.FloatTensor))\n",
    "print(f'Accuracy: {accuracy.item()*100}%')"
   ]
  },
  {
   "cell_type": "markdown",
   "metadata": {},
   "source": [
    "When we are trying to evaluate our results we have seen in the lecture that there are multiple ways on how you evaluate your results. One way is the `Top-10-Criteria` seen above. However, one standard way of doing is by looking at the __accuracy__ or the __loss__ within each epoch. In the variable `accuracy` we store the percentage of how accurate we are able to predict or infer about the class based on an unseen input data. The accuracy can be defined as: \n",
    "\n",
    "$$\n",
    "\\begin{equation}\n",
    "accuracy = \\frac{TP+TN}{TP + TN + FP + FN}\n",
    "\\end{equation}\n",
    "$$\n",
    "\n"
   ]
  },
  {
   "cell_type": "code",
   "execution_count": 128,
   "metadata": {},
   "outputs": [
    {
     "name": "stdout",
     "output_type": "stream",
     "text": [
      "Epoch: 1/30..  Training Loss: 0.602..  Test Loss: 0.517..  Test Accuracy: 0.827\n",
      "Epoch: 2/30..  Training Loss: 0.478..  Test Loss: 0.483..  Test Accuracy: 0.829\n",
      "Epoch: 3/30..  Training Loss: 0.447..  Test Loss: 0.504..  Test Accuracy: 0.832\n",
      "Epoch: 4/30..  Training Loss: 0.437..  Test Loss: 0.490..  Test Accuracy: 0.834\n",
      "Epoch: 5/30..  Training Loss: 0.414..  Test Loss: 0.493..  Test Accuracy: 0.833\n",
      "Epoch: 6/30..  Training Loss: 0.405..  Test Loss: 0.474..  Test Accuracy: 0.846\n",
      "Epoch: 7/30..  Training Loss: 0.398..  Test Loss: 0.438..  Test Accuracy: 0.855\n",
      "Epoch: 8/30..  Training Loss: 0.401..  Test Loss: 0.500..  Test Accuracy: 0.828\n",
      "Epoch: 9/30..  Training Loss: 0.397..  Test Loss: 0.513..  Test Accuracy: 0.826\n",
      "Epoch: 10/30..  Training Loss: 0.394..  Test Loss: 0.469..  Test Accuracy: 0.845\n",
      "Epoch: 11/30..  Training Loss: 0.382..  Test Loss: 0.447..  Test Accuracy: 0.850\n",
      "Epoch: 12/30..  Training Loss: 0.387..  Test Loss: 0.448..  Test Accuracy: 0.846\n",
      "Epoch: 13/30..  Training Loss: 0.373..  Test Loss: 0.448..  Test Accuracy: 0.854\n",
      "Epoch: 14/30..  Training Loss: 0.373..  Test Loss: 0.455..  Test Accuracy: 0.850\n",
      "Epoch: 15/30..  Training Loss: 0.377..  Test Loss: 0.454..  Test Accuracy: 0.849\n",
      "Epoch: 16/30..  Training Loss: 0.368..  Test Loss: 0.446..  Test Accuracy: 0.852\n",
      "Epoch: 17/30..  Training Loss: 0.362..  Test Loss: 0.476..  Test Accuracy: 0.843\n",
      "Epoch: 18/30..  Training Loss: 0.362..  Test Loss: 0.466..  Test Accuracy: 0.843\n",
      "Epoch: 19/30..  Training Loss: 0.364..  Test Loss: 0.476..  Test Accuracy: 0.853\n",
      "Epoch: 20/30..  Training Loss: 0.359..  Test Loss: 0.456..  Test Accuracy: 0.857\n",
      "Epoch: 21/30..  Training Loss: 0.360..  Test Loss: 0.455..  Test Accuracy: 0.857\n",
      "Epoch: 22/30..  Training Loss: 0.351..  Test Loss: 0.469..  Test Accuracy: 0.845\n",
      "Epoch: 23/30..  Training Loss: 0.360..  Test Loss: 0.456..  Test Accuracy: 0.849\n",
      "Epoch: 24/30..  Training Loss: 0.354..  Test Loss: 0.470..  Test Accuracy: 0.849\n",
      "Epoch: 25/30..  Training Loss: 0.351..  Test Loss: 0.451..  Test Accuracy: 0.851\n",
      "Epoch: 26/30..  Training Loss: 0.354..  Test Loss: 0.474..  Test Accuracy: 0.853\n",
      "Epoch: 27/30..  Training Loss: 0.344..  Test Loss: 0.461..  Test Accuracy: 0.853\n",
      "Epoch: 28/30..  Training Loss: 0.347..  Test Loss: 0.454..  Test Accuracy: 0.858\n",
      "Epoch: 29/30..  Training Loss: 0.351..  Test Loss: 0.461..  Test Accuracy: 0.854\n",
      "Epoch: 30/30..  Training Loss: 0.349..  Test Loss: 0.437..  Test Accuracy: 0.857\n"
     ]
    }
   ],
   "source": [
    "#define model and hyperparameters\n",
    "model = Classifier()\n",
    "criterion = nn.NLLLoss()\n",
    "optimizer = optim.Adam(model.parameters(), lr=0.003)\n",
    "\n",
    "epochs = 30\n",
    "steps = 0\n",
    "\n",
    "train_losses, test_losses = [], []\n",
    "for e in range(epochs):\n",
    "    running_loss = 0\n",
    "    for images, labels in trainloader:\n",
    "        \n",
    "        optimizer.zero_grad()\n",
    "        \n",
    "        log_ps = model(images)\n",
    "        loss = criterion(log_ps, labels)\n",
    "        loss.backward()\n",
    "        optimizer.step()\n",
    "        \n",
    "        running_loss += loss.item()\n",
    "        \n",
    "    else:\n",
    "        test_loss = 0\n",
    "        accuracy = 0\n",
    "        \n",
    "        # Turn off gradients for validation, saves memory and computations\n",
    "        with torch.no_grad():\n",
    "            for images, labels in testloader:\n",
    "                log_ps = model(images)\n",
    "                test_loss += criterion(log_ps, labels)\n",
    "                \n",
    "                ps = torch.exp(log_ps)\n",
    "                top_p, top_class = ps.topk(1, dim=1)\n",
    "                equals = top_class == labels.view(*top_class.shape)\n",
    "                accuracy += torch.mean(equals.type(torch.FloatTensor))\n",
    "                \n",
    "        train_losses.append(running_loss/len(trainloader))\n",
    "        test_losses.append(test_loss/len(testloader))\n",
    "\n",
    "        print(\"Epoch: {}/{}.. \".format(e+1, epochs),\n",
    "              \"Training Loss: {:.3f}.. \".format(running_loss/len(trainloader)),\n",
    "              \"Test Loss: {:.3f}.. \".format(test_loss/len(testloader)),\n",
    "              \"Test Accuracy: {:.3f}\".format(accuracy/len(testloader)))"
   ]
  },
  {
   "cell_type": "code",
   "execution_count": 146,
   "metadata": {},
   "outputs": [],
   "source": [
    "%matplotlib inline\n",
    "%config InlineBackend.figure_format = 'retina'\n",
    "\n",
    "import matplotlib.pyplot as plt"
   ]
  },
  {
   "cell_type": "code",
   "execution_count": 141,
   "metadata": {
    "scrolled": true
   },
   "outputs": [
    {
     "data": {
      "image/png": "[encoded data removed]",
      "text/plain": [
       "<Figure size 432x288 with 1 Axes>"
      ]
     },
     "metadata": {
      "image/png": {
       "height": 263,
       "width": 380
      },
      "needs_background": "light"
     },
     "output_type": "display_data"
    }
   ],
   "source": [
    "plt.plot(train_losses, label = \"Training loss\")\n",
    "plt.plot(test_losses,label = \"Test loss\")\n",
    "plt.title(\"Loss on training and test dataset\")\n",
    "plt.legend(frameon = False)\n",
    "plt.show()"
   ]
  },
  {
   "cell_type": "markdown",
   "metadata": {},
   "source": [
    "When looking at the loss based on the training data, we can see a exponential decay already after 30 epochs! __This is good since we already know that our model is learning properly!!!__ <br>\n",
    "However, when comparing this to the loss of our testing loss there is no significant improvement visible for the different epochs. We say, that our model is not able to generalize well! One method to overcome this problem is to use __regularization__."
   ]
  },
  {
   "cell_type": "markdown",
   "metadata": {},
   "source": [
    "## 4.4 Overfitting <a class=\"anchor\" id=\"overfitting\"></a>"
   ]
  },
  {
   "cell_type": "markdown",
   "metadata": {},
   "source": [
    "When the capacity is too high, we face the counterside of overfitting on the testing dataset. To get a better understanding of this problem, lets have a look at a new model where we introduced dropout as a regularization technique:"
   ]
  },
  {
   "cell_type": "code",
   "execution_count": 292,
   "metadata": {},
   "outputs": [],
   "source": [
    "import torch\n",
    "from torchvision import datasets, transforms"
   ]
  },
  {
   "cell_type": "code",
   "execution_count": 287,
   "metadata": {},
   "outputs": [],
   "source": [
    "# Define a transform to normalize the data\n",
    "transform = transforms.Compose([transforms.ToTensor(),\n",
    "                                transforms.Normalize((0.5,), (0.5,))])\n",
    "# Download and load the training data\n",
    "trainset = datasets.FashionMNIST('~/.pytorch/F_MNIST_data/', download=True, train=True, transform=transform)\n",
    "trainloader = torch.utils.data.DataLoader(trainset, batch_size=64, shuffle=True)\n",
    "\n",
    "# Download and load the test data\n",
    "testset = datasets.FashionMNIST('~/.pytorch/F_MNIST_data/', download=True, train=False, transform=transform)\n",
    "testloader = torch.utils.data.DataLoader(testset, batch_size=64, shuffle=True)"
   ]
  },
  {
   "cell_type": "code",
   "execution_count": 288,
   "metadata": {},
   "outputs": [],
   "source": [
    "from torch import nn, optim\n",
    "import torch.nn.functional as F\n",
    "\n",
    "class Classifier(nn.Module):\n",
    "    def __init__(self):\n",
    "        super().__init__()\n",
    "        self.fc1 = nn.Linear(784, 256)\n",
    "        self.fc2 = nn.Linear(256, 128)\n",
    "        self.fc3 = nn.Linear(128, 64)\n",
    "        self.fc4 = nn.Linear(64, 10)\n",
    "\n",
    "        # Dropout module with 0.2 drop probability\n",
    "        self.dropout = nn.Dropout(p=0.2)\n",
    "\n",
    "    def forward(self, x):\n",
    "        # make sure input tensor is flattened\n",
    "        x = x.view(x.shape[0], -1)\n",
    "\n",
    "        # Now with dropout\n",
    "        x = self.dropout(F.relu(self.fc1(x)))\n",
    "        x = self.dropout(F.relu(self.fc2(x)))\n",
    "        x = self.dropout(F.relu(self.fc3(x)))\n",
    "\n",
    "        # output so no dropout here\n",
    "        x = F.log_softmax(self.fc4(x), dim=1)\n",
    "\n",
    "        return x"
   ]
  },
  {
   "cell_type": "markdown",
   "metadata": {},
   "source": [
    "One problem when training a neural network is that some neurons tend to be more active than others. This leads to part of the network to end up with very large weights, while other parts show up only very small weights. We can therefore include something which is called __dropout__. For that we specify with what kind of probability with we are going to drop  specific neurons [[35]](http://jmlr.org/papers/volume15/srivastava14a.old/srivastava14a.pdf). This can be seen as some kind of randomness or noise given to the neural network and is normally used to reduce overfitting. <br>\n",
    "__Be careful though!__ However, when outputs of a layer are randomly subsampled, it leads to the \"thinning of the neural network\" [[36]](https://machinelearningmastery.com/dropout-for-regularizing-deep-neural-networks/). In other words, this means that the effective capacity shown in the figure is reduced. This the advantage, that usually a larger model is required (often coming with the cost of an increasing training dataset) at a higher training time [[37]](https://medium.com/@amarbudhiraja/https-medium-com-amarbudhiraja-learning-less-to-learn-better-dropout-in-deep-machine-learning-74334da4bfc5) [[38]](https://machinelearningmastery.com/dropout-for-regularizing-deep-neural-networks/).\n",
    "\n",
    "\n",
    "<div class=\"alert alert-block alert-info\"><b> Reminder: <br>\n",
    "    Dropout: is a kind of regularization technique for which the neuron are dismissed by a given probability  \n",
    "</b>"
   ]
  },
  {
   "cell_type": "code",
   "execution_count": 289,
   "metadata": {
    "scrolled": true
   },
   "outputs": [
    {
     "name": "stdout",
     "output_type": "stream",
     "text": [
      "Epoch: 1/100..  Training Loss: 0.520..  Test Loss: 0.451..  Test Accuracy: 0.837\n",
      "Epoch: 2/100..  Training Loss: 0.394..  Test Loss: 0.403..  Test Accuracy: 0.855\n",
      "Epoch: 3/100..  Training Loss: 0.358..  Test Loss: 0.401..  Test Accuracy: 0.858\n",
      "Epoch: 4/100..  Training Loss: 0.335..  Test Loss: 0.389..  Test Accuracy: 0.866\n",
      "Epoch: 5/100..  Training Loss: 0.316..  Test Loss: 0.382..  Test Accuracy: 0.865\n",
      "Epoch: 6/100..  Training Loss: 0.307..  Test Loss: 0.390..  Test Accuracy: 0.868\n",
      "Epoch: 7/100..  Training Loss: 0.292..  Test Loss: 0.361..  Test Accuracy: 0.875\n",
      "Epoch: 8/100..  Training Loss: 0.285..  Test Loss: 0.403..  Test Accuracy: 0.859\n",
      "Epoch: 9/100..  Training Loss: 0.275..  Test Loss: 0.401..  Test Accuracy: 0.871\n",
      "Epoch: 10/100..  Training Loss: 0.268..  Test Loss: 0.387..  Test Accuracy: 0.873\n",
      "Epoch: 11/100..  Training Loss: 0.259..  Test Loss: 0.425..  Test Accuracy: 0.865\n",
      "Epoch: 12/100..  Training Loss: 0.254..  Test Loss: 0.350..  Test Accuracy: 0.883\n",
      "Epoch: 13/100..  Training Loss: 0.246..  Test Loss: 0.355..  Test Accuracy: 0.883\n",
      "Epoch: 14/100..  Training Loss: 0.248..  Test Loss: 0.379..  Test Accuracy: 0.880\n",
      "Epoch: 15/100..  Training Loss: 0.239..  Test Loss: 0.351..  Test Accuracy: 0.886\n",
      "Epoch: 16/100..  Training Loss: 0.230..  Test Loss: 0.392..  Test Accuracy: 0.874\n",
      "Epoch: 17/100..  Training Loss: 0.232..  Test Loss: 0.383..  Test Accuracy: 0.885\n",
      "Epoch: 18/100..  Training Loss: 0.222..  Test Loss: 0.390..  Test Accuracy: 0.882\n",
      "Epoch: 19/100..  Training Loss: 0.222..  Test Loss: 0.429..  Test Accuracy: 0.872\n",
      "Epoch: 20/100..  Training Loss: 0.221..  Test Loss: 0.394..  Test Accuracy: 0.880\n",
      "Epoch: 21/100..  Training Loss: 0.212..  Test Loss: 0.416..  Test Accuracy: 0.882\n",
      "Epoch: 22/100..  Training Loss: 0.214..  Test Loss: 0.385..  Test Accuracy: 0.884\n",
      "Epoch: 23/100..  Training Loss: 0.209..  Test Loss: 0.390..  Test Accuracy: 0.885\n",
      "Epoch: 24/100..  Training Loss: 0.204..  Test Loss: 0.443..  Test Accuracy: 0.882\n",
      "Epoch: 25/100..  Training Loss: 0.200..  Test Loss: 0.433..  Test Accuracy: 0.875\n",
      "Epoch: 26/100..  Training Loss: 0.199..  Test Loss: 0.436..  Test Accuracy: 0.881\n",
      "Epoch: 27/100..  Training Loss: 0.193..  Test Loss: 0.395..  Test Accuracy: 0.886\n",
      "Epoch: 28/100..  Training Loss: 0.194..  Test Loss: 0.399..  Test Accuracy: 0.889\n",
      "Epoch: 29/100..  Training Loss: 0.188..  Test Loss: 0.413..  Test Accuracy: 0.885\n",
      "Epoch: 30/100..  Training Loss: 0.188..  Test Loss: 0.407..  Test Accuracy: 0.885\n",
      "Epoch: 31/100..  Training Loss: 0.186..  Test Loss: 0.396..  Test Accuracy: 0.886\n",
      "Epoch: 32/100..  Training Loss: 0.186..  Test Loss: 0.414..  Test Accuracy: 0.884\n",
      "Epoch: 33/100..  Training Loss: 0.180..  Test Loss: 0.424..  Test Accuracy: 0.888\n",
      "Epoch: 34/100..  Training Loss: 0.179..  Test Loss: 0.432..  Test Accuracy: 0.885\n",
      "Epoch: 35/100..  Training Loss: 0.177..  Test Loss: 0.451..  Test Accuracy: 0.889\n",
      "Epoch: 36/100..  Training Loss: 0.174..  Test Loss: 0.422..  Test Accuracy: 0.889\n",
      "Epoch: 37/100..  Training Loss: 0.175..  Test Loss: 0.458..  Test Accuracy: 0.879\n",
      "Epoch: 38/100..  Training Loss: 0.171..  Test Loss: 0.461..  Test Accuracy: 0.878\n",
      "Epoch: 39/100..  Training Loss: 0.170..  Test Loss: 0.458..  Test Accuracy: 0.887\n",
      "Epoch: 40/100..  Training Loss: 0.170..  Test Loss: 0.485..  Test Accuracy: 0.883\n",
      "Epoch: 41/100..  Training Loss: 0.162..  Test Loss: 0.473..  Test Accuracy: 0.886\n",
      "Epoch: 42/100..  Training Loss: 0.163..  Test Loss: 0.477..  Test Accuracy: 0.883\n",
      "Epoch: 43/100..  Training Loss: 0.166..  Test Loss: 0.449..  Test Accuracy: 0.882\n",
      "Epoch: 44/100..  Training Loss: 0.162..  Test Loss: 0.470..  Test Accuracy: 0.884\n",
      "Epoch: 45/100..  Training Loss: 0.156..  Test Loss: 0.506..  Test Accuracy: 0.882\n",
      "Epoch: 46/100..  Training Loss: 0.159..  Test Loss: 0.493..  Test Accuracy: 0.885\n",
      "Epoch: 47/100..  Training Loss: 0.164..  Test Loss: 0.471..  Test Accuracy: 0.887\n",
      "Epoch: 48/100..  Training Loss: 0.152..  Test Loss: 0.499..  Test Accuracy: 0.887\n",
      "Epoch: 49/100..  Training Loss: 0.149..  Test Loss: 0.532..  Test Accuracy: 0.885\n",
      "Epoch: 50/100..  Training Loss: 0.147..  Test Loss: 0.523..  Test Accuracy: 0.882\n",
      "Epoch: 51/100..  Training Loss: 0.151..  Test Loss: 0.558..  Test Accuracy: 0.885\n",
      "Epoch: 52/100..  Training Loss: 0.158..  Test Loss: 0.482..  Test Accuracy: 0.882\n",
      "Epoch: 53/100..  Training Loss: 0.149..  Test Loss: 0.524..  Test Accuracy: 0.880\n",
      "Epoch: 54/100..  Training Loss: 0.140..  Test Loss: 0.530..  Test Accuracy: 0.885\n",
      "Epoch: 55/100..  Training Loss: 0.150..  Test Loss: 0.504..  Test Accuracy: 0.883\n",
      "Epoch: 56/100..  Training Loss: 0.139..  Test Loss: 0.524..  Test Accuracy: 0.889\n",
      "Epoch: 57/100..  Training Loss: 0.142..  Test Loss: 0.579..  Test Accuracy: 0.884\n",
      "Epoch: 58/100..  Training Loss: 0.134..  Test Loss: 0.556..  Test Accuracy: 0.892\n",
      "Epoch: 59/100..  Training Loss: 0.148..  Test Loss: 0.570..  Test Accuracy: 0.887\n",
      "Epoch: 60/100..  Training Loss: 0.144..  Test Loss: 0.525..  Test Accuracy: 0.882\n",
      "Epoch: 61/100..  Training Loss: 0.137..  Test Loss: 0.516..  Test Accuracy: 0.884\n",
      "Epoch: 62/100..  Training Loss: 0.135..  Test Loss: 0.530..  Test Accuracy: 0.885\n",
      "Epoch: 63/100..  Training Loss: 0.137..  Test Loss: 0.529..  Test Accuracy: 0.889\n",
      "Epoch: 64/100..  Training Loss: 0.136..  Test Loss: 0.601..  Test Accuracy: 0.879\n",
      "Epoch: 65/100..  Training Loss: 0.146..  Test Loss: 0.557..  Test Accuracy: 0.882\n",
      "Epoch: 66/100..  Training Loss: 0.132..  Test Loss: 0.604..  Test Accuracy: 0.885\n",
      "Epoch: 67/100..  Training Loss: 0.124..  Test Loss: 0.613..  Test Accuracy: 0.886\n",
      "Epoch: 68/100..  Training Loss: 0.131..  Test Loss: 0.562..  Test Accuracy: 0.883\n",
      "Epoch: 69/100..  Training Loss: 0.139..  Test Loss: 0.523..  Test Accuracy: 0.886\n",
      "Epoch: 70/100..  Training Loss: 0.125..  Test Loss: 0.628..  Test Accuracy: 0.879\n",
      "Epoch: 71/100..  Training Loss: 0.141..  Test Loss: 0.617..  Test Accuracy: 0.884\n",
      "Epoch: 72/100..  Training Loss: 0.117..  Test Loss: 0.575..  Test Accuracy: 0.889\n",
      "Epoch: 73/100..  Training Loss: 0.128..  Test Loss: 0.539..  Test Accuracy: 0.888\n",
      "Epoch: 74/100..  Training Loss: 0.126..  Test Loss: 0.539..  Test Accuracy: 0.885\n",
      "Epoch: 75/100..  Training Loss: 0.126..  Test Loss: 0.610..  Test Accuracy: 0.887\n",
      "Epoch: 76/100..  Training Loss: 0.136..  Test Loss: 0.536..  Test Accuracy: 0.882\n",
      "Epoch: 77/100..  Training Loss: 0.128..  Test Loss: 0.626..  Test Accuracy: 0.882\n",
      "Epoch: 78/100..  Training Loss: 0.117..  Test Loss: 0.665..  Test Accuracy: 0.873\n",
      "Epoch: 79/100..  Training Loss: 0.120..  Test Loss: 0.605..  Test Accuracy: 0.885\n",
      "Epoch: 80/100..  Training Loss: 0.152..  Test Loss: 0.594..  Test Accuracy: 0.886\n",
      "Epoch: 81/100..  Training Loss: 0.113..  Test Loss: 0.626..  Test Accuracy: 0.889\n",
      "Epoch: 82/100..  Training Loss: 0.116..  Test Loss: 0.646..  Test Accuracy: 0.888\n",
      "Epoch: 83/100..  Training Loss: 0.111..  Test Loss: 0.616..  Test Accuracy: 0.885\n",
      "Epoch: 84/100..  Training Loss: 0.111..  Test Loss: 0.594..  Test Accuracy: 0.875\n",
      "Epoch: 85/100..  Training Loss: 0.160..  Test Loss: 0.575..  Test Accuracy: 0.887\n",
      "Epoch: 86/100..  Training Loss: 0.102..  Test Loss: 0.659..  Test Accuracy: 0.890\n",
      "Epoch: 87/100..  Training Loss: 0.105..  Test Loss: 0.629..  Test Accuracy: 0.885\n",
      "Epoch: 88/100..  Training Loss: 0.148..  Test Loss: 0.525..  Test Accuracy: 0.879\n",
      "Epoch: 89/100..  Training Loss: 0.113..  Test Loss: 0.647..  Test Accuracy: 0.887\n",
      "Epoch: 90/100..  Training Loss: 0.111..  Test Loss: 0.598..  Test Accuracy: 0.884\n",
      "Epoch: 91/100..  Training Loss: 0.109..  Test Loss: 0.604..  Test Accuracy: 0.885\n",
      "Epoch: 92/100..  Training Loss: 0.123..  Test Loss: 0.727..  Test Accuracy: 0.887\n",
      "Epoch: 93/100..  Training Loss: 0.111..  Test Loss: 0.716..  Test Accuracy: 0.886\n",
      "Epoch: 94/100..  Training Loss: 0.127..  Test Loss: 0.630..  Test Accuracy: 0.886\n",
      "Epoch: 95/100..  Training Loss: 0.121..  Test Loss: 0.665..  Test Accuracy: 0.887\n",
      "Epoch: 96/100..  Training Loss: 0.113..  Test Loss: 0.646..  Test Accuracy: 0.886\n",
      "Epoch: 97/100..  Training Loss: 0.103..  Test Loss: 0.621..  Test Accuracy: 0.885\n",
      "Epoch: 98/100..  Training Loss: 0.105..  Test Loss: 0.670..  Test Accuracy: 0.884\n",
      "Epoch: 99/100..  Training Loss: 0.118..  Test Loss: 0.709..  Test Accuracy: 0.882\n",
      "Epoch: 100/100..  Training Loss: 0.125..  Test Loss: 0.751..  Test Accuracy: 0.887\n"
     ]
    }
   ],
   "source": [
    "optimizer = optim.Adam(model.parameters(), lr=0.003)\n",
    "\n",
    "epochs = 100\n",
    "steps = 0\n",
    "\n",
    "train_losses, test_losses = [], []\n",
    "for e in range(epochs):\n",
    "    running_loss = 0\n",
    "    for images, labels in trainloader:\n",
    "        \n",
    "        optimizer.zero_grad()\n",
    "        \n",
    "        log_ps = model(images)\n",
    "        loss = criterion(log_ps, labels)\n",
    "        loss.backward()\n",
    "        optimizer.step()\n",
    "        \n",
    "        running_loss += loss.item()\n",
    "        \n",
    "    else:\n",
    "        test_loss = 0\n",
    "        accuracy = 0\n",
    "        \n",
    "        # Turn off gradients for validation, saves memory and computations\n",
    "        with torch.no_grad():\n",
    "            for images, labels in testloader:\n",
    "                log_ps = model(images)\n",
    "                test_loss += criterion(log_ps, labels)\n",
    "                \n",
    "                ps = torch.exp(log_ps)\n",
    "                top_p, top_class = ps.topk(1, dim=1)\n",
    "                equals = top_class == labels.view(*top_class.shape)\n",
    "                accuracy += torch.mean(equals.type(torch.FloatTensor))\n",
    "                \n",
    "        train_losses.append(running_loss/len(trainloader))\n",
    "        test_losses.append(test_loss/len(testloader))\n",
    "\n",
    "        print(\"Epoch: {}/{}.. \".format(e+1, epochs),\n",
    "              \"Training Loss: {:.3f}.. \".format(running_loss/len(trainloader)),\n",
    "              \"Test Loss: {:.3f}.. \".format(test_loss/len(testloader)),\n",
    "              \"Test Accuracy: {:.3f}\".format(accuracy/len(testloader)))"
   ]
  },
  {
   "cell_type": "code",
   "execution_count": 290,
   "metadata": {},
   "outputs": [],
   "source": [
    "%matplotlib inline\n",
    "%config InlineBackend.figure_format = \"retina\""
   ]
  },
  {
   "cell_type": "code",
   "execution_count": 291,
   "metadata": {},
   "outputs": [
    {
     "data": {
      "image/png": "[encoded data removed]",
      "text/plain": [
       "<Figure size 432x288 with 1 Axes>"
      ]
     },
     "metadata": {
      "image/png": {
       "height": 263,
       "width": 372
      },
      "needs_background": "light"
     },
     "output_type": "display_data"
    }
   ],
   "source": [
    "plt.plot(train_losses, label = \"Training loss\")\n",
    "plt.plot(test_losses,label = \"Test loss\")\n",
    "plt.title(\"Loss on training and test dataset\")\n",
    "plt.legend(frameon = False)\n",
    "plt.show()"
   ]
  },
  {
   "cell_type": "markdown",
   "metadata": {},
   "source": [
    "The above plot is a typical example of an overfitting where the training loss starts decreasing while the test loss starts to rise with increasing epoch size.<br>\n",
    "As you see our _training loss_ keeps decreases exponentially till about 75 epochs! After 75 epochs we can see some fluctuations regarding the _training loss_. One method to cope with this is to take some changes regarding the hyperparameters. However, there are also cases where it is better to stop the training after a certain number of epochs when there seems to be some kind or \"repetition in the training\". <br>\n",
    "Looking at the testing loss you can see that it the eror is increasing again. \n",
    "\n",
    "A typical way of approaching this problem would be to save\n",
    "- the model and the values for the hyperparameters\n",
    "- the trained weights\n",
    "- the accuracy and loss\n",
    "\n",
    "and always save a new copy as soon as the model has improved."
   ]
  },
  {
   "cell_type": "markdown",
   "metadata": {},
   "source": [
    "## 4.5 Saving and Loading the Neural Network <a class=\"anchor\" id=\"save_n_load\"></a>"
   ]
  },
  {
   "cell_type": "markdown",
   "metadata": {},
   "source": [
    "When storing and loading your neural network, there are different approaches to do so. You can either only store the hyperparameters or load the trained model itself. To demonstrate this, we will again use the identical model and hyperparameters from section 4.3 __BUT instead we will save time by only using 10 epochs!!!__"
   ]
  },
  {
   "cell_type": "code",
   "execution_count": 4,
   "metadata": {},
   "outputs": [],
   "source": [
    "import torch\n",
    "from torchvision import datasets, transforms\n",
    "\n",
    "# Define a transform to normalize the data\n",
    "transform = transforms.Compose([transforms.ToTensor(),\n",
    "                                transforms.Normalize((0.5,), (0.5,))])\n",
    "\n",
    "# Download and load the training data\n",
    "trainset = datasets.FashionMNIST('~/.pytorch/F_MNIST_data/', download=True, train=True, transform=transform)\n",
    "trainloader = torch.utils.data.DataLoader(trainset, batch_size=64, shuffle=True)\n",
    "\n",
    "# Download and load the test data\n",
    "testset = datasets.FashionMNIST('~/.pytorch/F_MNIST_data/', download=True, train=False, transform=transform)\n",
    "testloader = torch.utils.data.DataLoader(testset, batch_size=64, shuffle=True)"
   ]
  },
  {
   "cell_type": "code",
   "execution_count": 5,
   "metadata": {},
   "outputs": [],
   "source": [
    "from torch import nn, optim\n",
    "import torch.nn.functional as F\n",
    "\n",
    "class Classifier(nn.Module):\n",
    "    def __init__(self):\n",
    "        super().__init__()\n",
    "        self.fc1 = nn.Linear(784, 256)\n",
    "        self.fc2 = nn.Linear(256, 128)\n",
    "        self.fc3 = nn.Linear(128, 64)\n",
    "        self.fc4 = nn.Linear(64, 10)\n",
    "        \n",
    "    def forward(self, x):\n",
    "        # make sure input tensor is flattened\n",
    "        x = x.view(x.shape[0], -1)\n",
    "        \n",
    "        x = F.relu(self.fc1(x))\n",
    "        x = F.relu(self.fc2(x))\n",
    "        x = F.relu(self.fc3(x))\n",
    "        x = F.log_softmax(self.fc4(x), dim=1)\n",
    "        \n",
    "        return x"
   ]
  },
  {
   "cell_type": "code",
   "execution_count": 6,
   "metadata": {},
   "outputs": [
    {
     "name": "stdout",
     "output_type": "stream",
     "text": [
      "Epoch: 1/10..  Training Loss: 0.519..  Test Loss: 0.467..  Test Accuracy: 0.830\n",
      "Epoch: 2/10..  Training Loss: 0.390..  Test Loss: 0.418..  Test Accuracy: 0.849\n",
      "Epoch: 3/10..  Training Loss: 0.360..  Test Loss: 0.391..  Test Accuracy: 0.858\n",
      "Epoch: 4/10..  Training Loss: 0.335..  Test Loss: 0.381..  Test Accuracy: 0.865\n",
      "Epoch: 5/10..  Training Loss: 0.317..  Test Loss: 0.358..  Test Accuracy: 0.876\n",
      "Epoch: 6/10..  Training Loss: 0.304..  Test Loss: 0.381..  Test Accuracy: 0.868\n",
      "Epoch: 7/10..  Training Loss: 0.291..  Test Loss: 0.358..  Test Accuracy: 0.873\n",
      "Epoch: 8/10..  Training Loss: 0.285..  Test Loss: 0.348..  Test Accuracy: 0.880\n",
      "Epoch: 9/10..  Training Loss: 0.274..  Test Loss: 0.368..  Test Accuracy: 0.874\n",
      "Epoch: 10/10..  Training Loss: 0.267..  Test Loss: 0.379..  Test Accuracy: 0.870\n"
     ]
    }
   ],
   "source": [
    "#define model and hyperparameters\n",
    "model = Classifier()\n",
    "criterion = nn.NLLLoss()\n",
    "optimizer = optim.Adam(model.parameters(), lr=0.003)\n",
    "\n",
    "epochs = 10\n",
    "steps = 0\n",
    "\n",
    "train_losses, test_losses = [], []\n",
    "for e in range(epochs):\n",
    "    running_loss = 0\n",
    "    for images, labels in trainloader:\n",
    "        \n",
    "        optimizer.zero_grad()\n",
    "        \n",
    "        log_ps = model(images)\n",
    "        loss = criterion(log_ps, labels)\n",
    "        loss.backward()\n",
    "        optimizer.step()\n",
    "        \n",
    "        running_loss += loss.item()\n",
    "        \n",
    "    else:\n",
    "        test_loss = 0\n",
    "        accuracy = 0\n",
    "        \n",
    "        # Turn off gradients for validation, saves memory and computations\n",
    "        with torch.no_grad():\n",
    "            for images, labels in testloader:\n",
    "                log_ps = model(images)\n",
    "                test_loss += criterion(log_ps, labels)\n",
    "                \n",
    "                ps = torch.exp(log_ps)\n",
    "                top_p, top_class = ps.topk(1, dim=1)\n",
    "                equals = top_class == labels.view(*top_class.shape)\n",
    "                accuracy += torch.mean(equals.type(torch.FloatTensor))\n",
    "                \n",
    "        train_losses.append(running_loss/len(trainloader))\n",
    "        test_losses.append(test_loss/len(testloader))\n",
    "\n",
    "        print(\"Epoch: {}/{}.. \".format(e+1, epochs),\n",
    "              \"Training Loss: {:.3f}.. \".format(running_loss/len(trainloader)),\n",
    "              \"Test Loss: {:.3f}.. \".format(test_loss/len(testloader)),\n",
    "              \"Test Accuracy: {:.3f}\".format(accuracy/len(testloader)))"
   ]
  },
  {
   "cell_type": "markdown",
   "metadata": {},
   "source": [
    "As you might be aware, it is inpractical to always retrain a model every time you want to use it. Instead we can save our pretrained model and load it later for inference. "
   ]
  },
  {
   "cell_type": "code",
   "execution_count": 7,
   "metadata": {},
   "outputs": [
    {
     "name": "stdout",
     "output_type": "stream",
     "text": [
      "Model's state_dict:\n",
      "fc1.weight \t torch.Size([256, 784])\n",
      "fc1.bias \t torch.Size([256])\n",
      "fc2.weight \t torch.Size([128, 256])\n",
      "fc2.bias \t torch.Size([128])\n",
      "fc3.weight \t torch.Size([64, 128])\n",
      "fc3.bias \t torch.Size([64])\n",
      "fc4.weight \t torch.Size([10, 64])\n",
      "fc4.bias \t torch.Size([10])\n",
      "---\n",
      "Optimizer's state_dict:\n",
      "state \t {2081980254608: {'step': 9380, 'exp_avg': tensor([[ 5.0287e-07,  5.0434e-07,  6.2474e-07,  ...,  2.9816e-06,\n",
      "          1.2071e-06,  5.0284e-07],\n",
      "        [ 1.0506e-21,  1.0506e-21,  1.0506e-21,  ..., -3.5843e-22,\n",
      "         -4.8203e-22,  7.3746e-22],\n",
      "        [ 2.1860e-05,  2.1858e-05,  2.1855e-05,  ...,  2.0396e-05,\n",
      "          2.4333e-05,  2.1881e-05],\n",
      "        ...,\n",
      "        [-5.6052e-45, -5.6052e-45, -5.6052e-45,  ..., -5.6052e-45,\n",
      "         -5.6052e-45, -5.6052e-45],\n",
      "        [-5.6052e-45, -5.6052e-45, -5.6052e-45,  ..., -5.6052e-45,\n",
      "         -5.6052e-45, -5.6052e-45],\n",
      "        [ 3.8707e-07,  3.8707e-07,  3.8707e-07,  ...,  3.8707e-07,\n",
      "          3.8707e-07,  3.8707e-07]]), 'exp_avg_sq': tensor([[1.3850e-06, 1.3848e-06, 1.3841e-06,  ..., 1.3667e-06, 1.3767e-06,\n",
      "         1.3840e-06],\n",
      "        [2.8838e-12, 2.8838e-12, 2.8834e-12,  ..., 2.8087e-12, 2.8416e-12,\n",
      "         2.8719e-12],\n",
      "        [1.9493e-06, 1.9491e-06, 1.9481e-06,  ..., 1.9064e-06, 1.9315e-06,\n",
      "         1.9468e-06],\n",
      "        ...,\n",
      "        [1.1480e-14, 1.1480e-14, 1.1480e-14,  ..., 1.1096e-14, 1.1409e-14,\n",
      "         1.1480e-14],\n",
      "        [6.4503e-14, 6.4503e-14, 6.4503e-14,  ..., 6.3523e-14, 6.4346e-14,\n",
      "         6.4503e-14],\n",
      "        [3.2388e-09, 3.2368e-09, 3.2260e-09,  ..., 2.8615e-09, 3.2318e-09,\n",
      "         3.2409e-09]])}, 2081980254320: {'step': 9380, 'exp_avg': tensor([-5.0287e-07, -1.0506e-21, -2.1935e-05, -1.1136e-12, -2.5185e-04,\n",
      "         1.0299e-07,  5.6052e-45,  5.6052e-45,  2.8818e-14,  1.0697e-03,\n",
      "         5.6052e-45, -3.0563e-05, -8.1921e-07,  5.6052e-45,  5.6052e-45,\n",
      "         5.6052e-45,  5.6052e-45,  5.6052e-45, -4.0638e-44, -5.6052e-45,\n",
      "        -1.0901e-10,  3.2339e-06,  1.8443e-05,  5.9627e-05,  5.6052e-45,\n",
      "        -7.7745e-08,  5.6052e-45,  5.6052e-45, -1.2020e-12,  9.0514e-06,\n",
      "        -1.2226e-04,  5.6052e-45, -4.9609e-12,  5.6052e-45, -3.5820e-04,\n",
      "         5.6052e-45,  5.6052e-45,  5.6052e-45,  3.7751e-04,  3.9862e-05,\n",
      "        -1.1171e-04,  1.2842e-06,  5.6052e-45, -5.7977e-05,  5.6052e-45,\n",
      "         5.6052e-45,  9.3619e-06, -1.1766e-05, -5.2944e-04,  1.5810e-03,\n",
      "        -5.3537e-23,  5.6052e-45,  3.6978e-06,  2.1194e-07, -2.0877e-22,\n",
      "         5.6052e-45,  3.5609e-04,  1.9037e-09,  5.6052e-45, -2.9535e-20,\n",
      "        -5.6052e-45, -2.6659e-04,  2.1615e-04, -1.9134e-05,  9.9062e-32,\n",
      "        -4.1889e-06,  5.6052e-45,  1.0720e-04,  4.5589e-05, -1.3367e-20,\n",
      "         4.3411e-08, -5.6052e-45, -2.1058e-15,  4.6252e-05, -5.5224e-04,\n",
      "        -4.2857e-04,  3.3412e-04,  5.6052e-45, -3.4428e-04,  4.2952e-05,\n",
      "         5.6052e-45,  7.6282e-04,  3.1280e-04, -5.0881e-08, -3.8285e-05,\n",
      "         3.7577e-05, -1.7217e-12, -1.1183e-22,  5.6052e-45, -2.4159e-04,\n",
      "        -2.9573e-06, -7.6378e-04,  5.6052e-45, -5.6052e-45,  3.5780e-05,\n",
      "         8.5933e-17,  1.9468e-12, -2.8640e-09,  4.5461e-17,  5.6052e-45,\n",
      "         2.5297e-23, -1.0155e-05, -4.3261e-04, -3.1109e-43,  5.6052e-45,\n",
      "         1.9058e-04, -1.5875e-05, -5.0968e-11, -3.4999e-14, -2.9125e-04,\n",
      "        -2.3598e-06,  1.4517e-05, -6.6138e-13,  3.4030e-06,  1.2515e-04,\n",
      "         5.6052e-45,  2.5522e-12, -6.4822e-13, -6.2274e-14, -1.4470e-11,\n",
      "         6.8425e-04,  7.2463e-05,  1.9490e-34,  2.0776e-15,  3.5088e-04,\n",
      "         1.0352e-04, -1.3316e-06,  6.1153e-05,  6.0511e-16, -1.4883e-07,\n",
      "         5.6052e-45,  1.3631e-04, -5.5339e-05,  2.4815e-12, -2.7371e-05,\n",
      "        -1.5587e-11, -6.5862e-12,  5.6052e-45,  5.6052e-45,  1.3277e-04,\n",
      "         2.2869e-11, -1.4169e-29,  5.6052e-45,  5.6052e-45, -1.0919e-05,\n",
      "        -5.4184e-06, -1.3577e-04, -2.3867e-06, -1.6382e-06,  1.0125e-03,\n",
      "         7.1994e-04, -2.7323e-15, -2.1985e-05,  1.8090e-04,  5.6052e-45,\n",
      "        -1.0577e-03,  6.6670e-05,  5.6052e-45, -3.2132e-04,  6.3334e-08,\n",
      "         1.2423e-05,  5.6052e-45,  5.6052e-45, -8.1333e-15,  3.4409e-40,\n",
      "         9.2284e-04, -1.8701e-04,  5.6052e-45,  1.8492e-08, -5.9768e-05,\n",
      "         5.6052e-45,  5.4972e-13, -3.6024e-04, -6.8019e-04,  3.1917e-05,\n",
      "        -3.3564e-04,  5.6052e-45,  1.0228e-19,  6.7508e-13, -1.5954e-04,\n",
      "        -5.9834e-05,  5.6052e-45, -1.1350e-04,  5.6052e-45,  3.5046e-04,\n",
      "         5.6052e-45, -6.7763e-04, -5.0210e-04, -9.5127e-06,  4.2083e-05,\n",
      "        -1.7999e-17, -6.8975e-13, -8.3643e-05, -1.7301e-04, -2.0879e-43,\n",
      "         5.6052e-45, -1.9978e-12,  5.6052e-45, -1.5961e-06,  4.2650e-05,\n",
      "        -2.5180e-05,  9.4414e-08, -4.8552e-06,  5.7653e-08, -1.8087e-07,\n",
      "        -1.5687e-04,  7.9794e-05,  5.6052e-45,  4.7181e-04, -1.7390e-12,\n",
      "         5.6052e-45,  3.2152e-06, -3.4578e-04, -9.1272e-19, -3.0202e-10,\n",
      "        -1.7702e-04,  1.2877e-20,  5.6052e-45,  1.6625e-04, -6.6572e-08,\n",
      "        -2.6125e-09,  4.7167e-07, -4.7510e-04,  5.6052e-45,  1.0231e-08,\n",
      "        -8.3668e-06,  7.8976e-06,  6.3144e-04,  9.0774e-06,  1.3988e-04,\n",
      "         5.6052e-45,  5.6052e-45, -7.7798e-08,  3.7235e-05, -7.0841e-04,\n",
      "         4.3656e-04,  1.5737e-34,  4.0825e-04, -3.3400e-08,  5.6052e-45,\n",
      "         2.2050e-22,  1.2778e-07,  5.6052e-45,  5.6052e-45,  9.0939e-22,\n",
      "         3.3438e-04, -5.3985e-05,  5.6052e-45,  2.8512e-04,  5.6052e-45,\n",
      "        -5.8411e-04,  5.6052e-45,  9.1350e-07,  5.6052e-45,  5.6052e-45,\n",
      "        -3.8707e-07]), 'exp_avg_sq': tensor([1.3850e-06, 2.8838e-12, 1.9493e-06, 4.6616e-11, 5.6661e-07, 2.8834e-09,\n",
      "        9.5838e-12, 3.2742e-15, 5.9852e-11, 2.2251e-06, 3.6128e-14, 4.7948e-07,\n",
      "        3.4636e-08, 3.7971e-11, 1.8729e-10, 1.5289e-13, 5.9087e-13, 1.0668e-13,\n",
      "        1.9606e-14, 1.1838e-10, 3.3681e-11, 2.7596e-08, 1.2056e-07, 3.9365e-07,\n",
      "        1.5726e-14, 2.1882e-10, 1.7696e-09, 1.6247e-13, 2.2396e-09, 4.8156e-08,\n",
      "        1.6107e-06, 1.6133e-12, 3.2957e-10, 5.3144e-14, 3.4326e-06, 5.9781e-13,\n",
      "        1.5862e-11, 1.1021e-12, 3.4350e-06, 1.6771e-07, 9.5033e-07, 3.5187e-09,\n",
      "        1.4143e-13, 1.3525e-06, 8.0835e-13, 8.1281e-16, 1.3734e-06, 1.1833e-07,\n",
      "        2.7451e-06, 5.2694e-06, 5.9156e-11, 8.5758e-13, 2.1838e-08, 1.8589e-08,\n",
      "        1.4649e-09, 3.1156e-12, 3.6012e-06, 5.7269e-08, 6.9099e-13, 2.5545e-11,\n",
      "        1.0655e-10, 4.3910e-06, 2.5689e-06, 2.7270e-10, 1.8782e-11, 1.0393e-07,\n",
      "        2.5206e-14, 8.4126e-07, 3.1188e-08, 2.6102e-12, 2.8524e-09, 2.2401e-13,\n",
      "        2.7605e-12, 2.8451e-07, 4.0759e-06, 3.0632e-07, 1.9769e-06, 1.0194e-11,\n",
      "        4.7429e-06, 1.5846e-06, 9.8503e-12, 2.0788e-06, 6.6706e-06, 4.5202e-10,\n",
      "        4.0585e-06, 8.2361e-08, 4.2683e-12, 1.8594e-11, 2.6534e-13, 1.8170e-06,\n",
      "        4.7979e-09, 3.5717e-06, 7.4376e-14, 5.8925e-10, 5.7637e-07, 1.7053e-08,\n",
      "        6.9243e-10, 2.3627e-08, 3.9086e-10, 4.6813e-12, 6.7639e-12, 8.7715e-07,\n",
      "        3.3384e-06, 7.9415e-12, 1.4439e-10, 8.7024e-07, 9.2115e-08, 5.1447e-11,\n",
      "        1.0254e-08, 8.0575e-07, 1.1654e-08, 1.1922e-06, 3.3397e-10, 7.7818e-09,\n",
      "        4.8774e-06, 1.0696e-12, 3.7495e-10, 4.0825e-10, 8.0051e-10, 4.9241e-10,\n",
      "        1.3066e-06, 6.5701e-08, 2.6528e-12, 3.5438e-11, 1.7466e-06, 3.2158e-06,\n",
      "        4.1023e-07, 3.3542e-07, 8.8406e-09, 6.0637e-09, 1.8252e-13, 3.1961e-06,\n",
      "        3.9652e-06, 7.9111e-09, 8.5382e-07, 1.6013e-09, 1.1519e-10, 8.6160e-12,\n",
      "        4.8791e-13, 1.2740e-06, 1.8282e-10, 1.4878e-10, 4.8655e-11, 1.4191e-11,\n",
      "        7.6468e-07, 5.2011e-07, 1.1887e-06, 7.3684e-09, 2.2733e-07, 4.5391e-06,\n",
      "        3.7255e-06, 6.2475e-11, 7.7811e-08, 1.6781e-06, 1.4977e-11, 1.0520e-05,\n",
      "        2.0012e-06, 8.2640e-13, 3.2493e-06, 5.4401e-11, 2.0991e-06, 1.5239e-12,\n",
      "        8.0236e-14, 3.3729e-11, 4.5760e-13, 2.7619e-06, 1.3143e-06, 2.0770e-11,\n",
      "        5.2825e-08, 1.0395e-06, 2.7961e-14, 9.8998e-10, 3.4555e-06, 3.8561e-06,\n",
      "        1.7673e-07, 1.9930e-06, 1.4993e-12, 3.6450e-10, 6.6628e-10, 4.0985e-07,\n",
      "        9.5641e-07, 7.2761e-14, 2.1018e-06, 3.2961e-10, 4.8602e-06, 2.0648e-10,\n",
      "        1.4496e-06, 1.0719e-06, 1.6425e-06, 3.3795e-06, 3.6122e-10, 4.0448e-10,\n",
      "        1.5472e-07, 1.9210e-07, 1.0792e-11, 3.3405e-14, 3.7925e-09, 6.2956e-11,\n",
      "        1.7045e-08, 3.6726e-07, 1.2694e-06, 1.4370e-08, 1.2378e-06, 1.5291e-09,\n",
      "        7.6636e-08, 2.3493e-06, 5.7764e-08, 3.8384e-13, 1.9924e-06, 1.6328e-10,\n",
      "        1.8571e-13, 2.7097e-07, 3.5060e-06, 9.6609e-10, 1.5004e-09, 2.2457e-06,\n",
      "        2.9186e-13, 4.0870e-13, 4.3596e-06, 3.6451e-09, 4.1706e-09, 6.1311e-09,\n",
      "        4.5595e-07, 1.0750e-13, 5.0737e-10, 3.3820e-07, 4.0553e-08, 5.0284e-06,\n",
      "        8.2302e-08, 1.7218e-06, 6.0895e-14, 1.2678e-14, 1.3113e-08, 6.6848e-08,\n",
      "        5.0045e-06, 1.5391e-06, 2.1300e-09, 4.2014e-06, 3.5914e-09, 6.7685e-12,\n",
      "        1.3682e-09, 1.6137e-08, 6.1411e-15, 2.2369e-11, 1.1412e-13, 2.3488e-06,\n",
      "        1.4009e-08, 2.4159e-13, 2.8098e-06, 9.6815e-12, 5.7661e-06, 5.8150e-13,\n",
      "        3.7088e-08, 1.1480e-14, 6.4503e-14, 3.2388e-09])}, 2081980330344: {'step': 9380, 'exp_avg': tensor([[-1.3064e-04, -5.6052e-45, -2.1705e-04,  ...,  5.6052e-45,\n",
      "         -5.6052e-45, -5.6052e-45],\n",
      "        [-1.5950e-13,  5.6052e-45,  5.5384e-09,  ...,  5.6052e-45,\n",
      "          5.6052e-45,  5.6052e-45],\n",
      "        [ 5.6052e-45,  5.6052e-45,  5.6052e-45,  ...,  5.6052e-45,\n",
      "          5.6052e-45,  5.6052e-45],\n",
      "        ...,\n",
      "        [-5.4383e-06, -5.6052e-45, -7.6054e-06,  ...,  5.6052e-45,\n",
      "          0.0000e+00,  5.6052e-45],\n",
      "        [-6.3139e-04, -5.6052e-45, -4.4360e-04,  ..., -5.6052e-45,\n",
      "          5.6052e-45, -5.6052e-45],\n",
      "        [ 2.4231e-04,  5.6052e-45, -6.3832e-04,  ..., -5.6052e-45,\n",
      "         -5.6052e-45,  5.6052e-45]]), 'exp_avg_sq': tensor([[2.0573e-06, 1.3019e-12, 2.4271e-06,  ..., 3.5580e-15, 5.1669e-15,\n",
      "         1.8846e-09],\n",
      "        [1.6744e-08, 3.3698e-11, 2.9361e-08,  ..., 9.6474e-15, 5.5217e-16,\n",
      "         2.3810e-14],\n",
      "        [2.3605e-11, 5.6101e-15, 7.9449e-13,  ..., 1.1459e-16, 9.4170e-16,\n",
      "         1.9341e-16],\n",
      "        ...,\n",
      "        [1.8054e-06, 1.4481e-15, 4.6226e-07,  ..., 2.0193e-16, 0.0000e+00,\n",
      "         1.4580e-08],\n",
      "        [2.7349e-05, 1.1909e-11, 7.5682e-05,  ..., 2.1064e-15, 9.0534e-14,\n",
      "         1.5929e-08],\n",
      "        [1.4488e-06, 2.5845e-14, 1.7027e-05,  ..., 1.6812e-16, 8.6020e-18,\n",
      "         1.1410e-07]])}, 2082031587264: {'step': 9380, 'exp_avg': tensor([-7.9026e-06,  2.5375e-07,  5.6052e-45, -9.8686e-05,  3.7134e-04,\n",
      "         5.6052e-45,  2.9236e-05,  1.8422e-04,  1.0688e-04, -1.0859e-04,\n",
      "        -3.2959e-05, -4.6157e-05,  1.2856e-04, -9.9196e-05,  2.4609e-05,\n",
      "         5.6052e-45, -5.9610e-05, -3.4116e-05,  8.1807e-06,  9.0829e-06,\n",
      "        -2.5461e-04, -2.5348e-05,  1.0966e-04, -4.2589e-08,  5.6052e-45,\n",
      "        -2.9103e-06, -3.7399e-04,  4.4046e-04, -3.2442e-07,  8.0597e-04,\n",
      "        -2.9015e-05, -5.6052e-45,  5.6052e-45, -3.1076e-04,  1.0170e-09,\n",
      "         5.6325e-05, -1.5631e-05, -8.6396e-05,  5.6052e-45,  2.5418e-05,\n",
      "         3.8196e-04,  1.8575e-05, -9.7321e-08,  9.7819e-08, -1.1637e-06,\n",
      "         9.9530e-18, -1.9432e-10,  6.6479e-05, -1.4053e-04,  1.1301e-04,\n",
      "        -1.0826e-20,  1.4277e-15, -5.5750e-05,  3.7186e-06, -6.9112e-05,\n",
      "         3.2346e-04, -3.7056e-05,  2.6980e-04,  5.6052e-45, -3.2345e-04,\n",
      "         3.9020e-05, -1.4866e-04, -6.7383e-04,  5.6052e-45,  1.0350e-04,\n",
      "        -3.1421e-04,  5.6052e-45,  3.0753e-04,  5.6052e-45, -4.1293e-06,\n",
      "        -2.2142e-07, -1.1165e-04,  3.7717e-05, -8.6319e-05,  1.1904e-05,\n",
      "         6.3861e-12,  5.4339e-05, -2.3260e-39, -5.3888e-04,  5.6052e-45,\n",
      "         5.6052e-45,  5.6052e-45, -5.8812e-05,  9.0382e-05, -2.0695e-04,\n",
      "         1.5839e-06,  5.6052e-45, -2.4528e-04,  1.3641e-23,  2.0822e-04,\n",
      "         3.3783e-05,  5.6052e-45,  1.5976e-04,  1.2246e-04,  2.2510e-05,\n",
      "         1.8959e-16, -4.7692e-06, -2.6689e-05, -4.7935e-08,  1.6899e-04,\n",
      "         1.6329e-15,  5.6052e-45,  1.7444e-04, -5.6912e-05,  1.1507e-05,\n",
      "         3.4963e-04,  3.3283e-04,  2.1919e-05,  4.3392e-05, -1.7852e-11,\n",
      "         1.0901e-31,  6.5552e-04,  6.2055e-23,  2.4674e-04, -4.9160e-04,\n",
      "         5.6052e-45,  7.8419e-05,  3.1356e-10,  9.0376e-06, -5.4455e-07,\n",
      "         3.0443e-06,  3.1515e-05,  3.2822e-04,  4.8435e-06,  5.6052e-45,\n",
      "        -3.9545e-05, -2.9637e-04,  5.6723e-04]), 'exp_avg_sq': tensor([1.4810e-07, 5.1900e-09, 4.7715e-12, 1.4145e-06, 1.9238e-06, 1.2731e-12,\n",
      "        2.9518e-06, 1.1863e-06, 1.0842e-06, 1.3707e-06, 8.2145e-07, 7.1063e-07,\n",
      "        1.1139e-06, 5.6230e-07, 2.0506e-07, 3.7344e-13, 1.6508e-06, 2.3404e-06,\n",
      "        2.0230e-06, 1.6034e-06, 2.8693e-06, 7.5910e-07, 2.1209e-07, 9.0795e-10,\n",
      "        1.4309e-11, 4.3656e-08, 1.2245e-06, 3.2490e-06, 5.1544e-08, 2.5812e-06,\n",
      "        2.9752e-07, 2.7355e-10, 2.7366e-10, 1.2724e-06, 5.9662e-09, 5.9363e-07,\n",
      "        1.7548e-07, 1.3892e-07, 8.4044e-13, 9.1021e-08, 1.4998e-06, 2.0807e-06,\n",
      "        1.9282e-09, 3.3709e-08, 3.0617e-08, 9.7196e-11, 5.6948e-09, 7.8885e-07,\n",
      "        7.7912e-07, 1.7547e-06, 2.1407e-09, 8.5469e-11, 9.8847e-08, 4.3769e-07,\n",
      "        7.1634e-07, 8.9315e-07, 3.0470e-07, 4.7929e-08, 2.6187e-11, 1.7569e-06,\n",
      "        7.5935e-07, 2.6103e-07, 2.4880e-06, 3.8042e-13, 2.9850e-07, 2.1960e-06,\n",
      "        8.9176e-12, 7.6713e-07, 1.7106e-12, 2.7243e-07, 1.2233e-07, 5.7943e-06,\n",
      "        7.2006e-07, 8.1515e-07, 2.1813e-07, 1.4400e-10, 5.3106e-07, 1.7575e-13,\n",
      "        2.6811e-06, 2.7936e-12, 1.7449e-10, 3.8752e-13, 3.8169e-07, 3.0196e-06,\n",
      "        3.1857e-06, 4.1080e-08, 4.0005e-11, 6.9495e-07, 2.4056e-11, 2.5199e-06,\n",
      "        3.5095e-07, 3.5607e-11, 4.6976e-07, 1.8445e-07, 1.5315e-06, 3.6666e-08,\n",
      "        1.1755e-08, 1.4879e-06, 5.4790e-09, 7.3819e-07, 3.5213e-08, 1.6991e-10,\n",
      "        1.1701e-06, 7.3397e-07, 1.1415e-06, 5.8278e-07, 2.1723e-07, 7.2210e-07,\n",
      "        5.5547e-07, 2.4137e-10, 2.1792e-11, 2.4596e-06, 3.8679e-10, 8.7189e-07,\n",
      "        2.2851e-06, 5.5748e-13, 1.2453e-06, 7.0472e-10, 1.1974e-07, 1.2423e-09,\n",
      "        6.3604e-08, 1.5447e-07, 2.1287e-06, 1.5556e-07, 3.1026e-11, 2.2286e-07,\n",
      "        2.3656e-06, 2.0169e-06])}, 2082031586904: {'step': 9380, 'exp_avg': tensor([[ 7.0509e-13,  5.6052e-45,  5.6052e-45,  ..., -2.0642e-11,\n",
      "          3.8680e-34,  2.6652e-05],\n",
      "        [ 2.2613e-06,  4.4974e-08,  5.6052e-45,  ...,  1.3668e-05,\n",
      "          2.5665e-04,  4.8606e-03],\n",
      "        [-9.7011e-08, -9.0676e-14, -5.6052e-45,  ...,  1.3161e-05,\n",
      "         -1.5280e-07,  2.9487e-31],\n",
      "        ...,\n",
      "        [-1.8310e-04,  5.7374e-09,  5.6052e-45,  ...,  1.2985e-04,\n",
      "         -4.8008e-03, -3.8453e-03],\n",
      "        [ 3.9858e-04, -9.1413e-12, -5.6052e-45,  ..., -1.8627e-04,\n",
      "          1.7759e-04, -2.7294e-11],\n",
      "        [-2.6587e-06, -5.6052e-45, -5.6052e-45,  ...,  2.6211e-05,\n",
      "          2.6938e-03,  8.5436e-03]]), 'exp_avg_sq': tensor([[2.7913e-08, 9.6401e-11, 1.8546e-13,  ..., 3.4744e-09, 1.0920e-07,\n",
      "         5.7076e-08],\n",
      "        [1.8470e-06, 5.0794e-08, 2.3437e-13,  ..., 3.3261e-06, 2.2053e-04,\n",
      "         5.2476e-05],\n",
      "        [1.0389e-07, 6.6321e-09, 4.4074e-15,  ..., 4.5897e-07, 2.3554e-08,\n",
      "         3.9869e-08],\n",
      "        ...,\n",
      "        [4.8853e-06, 2.3659e-08, 3.7637e-14,  ..., 1.3843e-06, 1.5867e-04,\n",
      "         4.1361e-05],\n",
      "        [7.8463e-06, 4.6267e-07, 3.8020e-15,  ..., 8.6307e-06, 4.3274e-07,\n",
      "         7.7433e-10],\n",
      "        [2.9134e-06, 1.6942e-09, 3.4678e-13,  ..., 7.8745e-06, 4.3136e-05,\n",
      "         6.9484e-06]])}, 2082087299184: {'step': 9380, 'exp_avg': tensor([ 1.3873e-05,  5.3203e-04,  4.6356e-06,  5.6052e-45, -5.1246e-05,\n",
      "         2.8699e-04, -1.1254e-04, -7.0890e-05, -1.5417e-05,  8.8074e-09,\n",
      "         1.3278e-08, -4.8216e-04, -2.5939e-04,  2.8566e-05, -8.6132e-06,\n",
      "        -3.7017e-09,  5.9995e-04, -5.2124e-05,  5.6387e-04,  5.6052e-45,\n",
      "         1.2149e-04,  4.9698e-04,  5.6052e-45,  1.5975e-06,  1.3724e-03,\n",
      "         5.6320e-04, -1.5732e-05,  5.6052e-45, -2.6365e-06, -1.5550e-04,\n",
      "        -6.2684e-08, -1.8225e-04, -7.1581e-06,  2.5069e-06, -2.5336e-07,\n",
      "         5.6052e-45, -3.5188e-05,  5.6052e-45, -7.0776e-25, -3.8457e-04,\n",
      "         5.4369e-04,  9.6036e-05, -8.7175e-05,  5.6052e-45,  1.8336e-04,\n",
      "        -1.4135e-04,  4.3423e-05,  1.6716e-03,  8.4276e-05, -4.1100e-06,\n",
      "         9.1787e-04,  3.2796e-04,  5.6052e-45, -2.6461e-04,  1.8962e-03,\n",
      "        -8.0686e-09,  5.2387e-10, -1.3669e-05, -3.5849e-05,  3.0161e-04,\n",
      "         1.1457e-04, -3.4730e-04,  1.2666e-03,  9.7820e-04]), 'exp_avg_sq': tensor([3.7316e-08, 7.8607e-06, 4.4993e-08, 4.7041e-08, 1.7325e-06, 1.0898e-06,\n",
      "        1.2999e-06, 4.6512e-07, 2.6527e-09, 2.3862e-07, 4.5148e-09, 3.9535e-06,\n",
      "        1.1614e-06, 4.9807e-06, 2.1741e-07, 1.1925e-09, 6.6839e-06, 9.6279e-06,\n",
      "        2.6599e-06, 4.0585e-09, 1.5405e-06, 3.5639e-06, 2.2634e-10, 2.6083e-07,\n",
      "        2.0581e-05, 2.1339e-06, 8.3697e-07, 1.4217e-09, 5.5271e-08, 1.0823e-05,\n",
      "        1.3445e-07, 2.5231e-06, 2.4050e-06, 3.0696e-07, 1.5310e-07, 9.5801e-10,\n",
      "        2.3456e-06, 7.0690e-10, 6.8566e-10, 1.0427e-06, 3.9300e-06, 1.5327e-06,\n",
      "        8.0606e-07, 3.2987e-09, 1.1451e-05, 8.5675e-07, 1.5500e-05, 9.4909e-06,\n",
      "        3.1231e-06, 5.9858e-08, 2.2348e-05, 6.0505e-06, 1.4808e-09, 5.2748e-06,\n",
      "        4.1504e-07, 1.5083e-10, 5.6034e-09, 1.8411e-07, 2.5177e-07, 1.7919e-06,\n",
      "        1.8063e-06, 4.9551e-06, 5.9820e-06, 3.4143e-06])}, 2082087299256: {'step': 9380, 'exp_avg': tensor([[-4.5611e-05, -2.3146e-02,  1.8949e-07, -5.6052e-45, -1.9279e-02,\n",
      "          1.1691e-03,  3.7841e-04,  5.2365e-04,  3.6800e-08, -5.2140e-09,\n",
      "          1.2213e-11,  4.9589e-04, -7.6875e-05,  4.1751e-06,  2.7289e-06,\n",
      "         -1.3029e-09, -6.3737e-03,  4.9160e-04,  1.6771e-05,  5.6052e-45,\n",
      "          2.9846e-04,  8.2215e-05,  5.6052e-45,  2.6967e-06, -1.1725e-02,\n",
      "         -2.3482e-03,  1.7329e-04, -5.6052e-45,  1.2449e-06, -1.9762e-02,\n",
      "          1.8235e-09,  6.0796e-04,  1.9569e-03,  1.7350e-09,  1.5266e-09,\n",
      "         -5.6052e-45, -3.0403e-03,  5.6052e-45, -3.2884e-22,  1.5128e-03,\n",
      "          6.7174e-04, -5.9593e-03, -2.5742e-04,  5.6052e-45,  5.1729e-03,\n",
      "          1.5720e-04, -5.4621e-03, -3.2848e-02, -6.3092e-03, -4.4993e-05,\n",
      "          3.8106e-02,  1.0440e-02,  5.6052e-45, -3.3667e-03, -1.1115e-02,\n",
      "          2.9450e-11,  2.6614e-13,  3.2965e-06, -1.3796e-03, -4.6964e-03,\n",
      "          1.6851e-04, -1.9226e-02, -1.6862e-04, -6.9586e-04],\n",
      "        [ 9.1212e-07, -5.0708e-03,  7.6483e-08,  5.6052e-45,  1.7548e-04,\n",
      "         -2.6943e-05,  5.6522e-05, -3.5877e-04,  1.4980e-08,  5.7414e-12,\n",
      "          4.6768e-14,  9.1911e-05,  6.1796e-06,  6.0647e-05,  6.6977e-06,\n",
      "          3.1056e-11,  1.2277e-04, -5.3832e-03,  1.9357e-06,  5.6052e-45,\n",
      "          2.9522e-05, -1.8227e-04,  5.6052e-45,  2.1402e-10,  2.9894e-05,\n",
      "          1.4818e-05, -1.1834e-03,  5.6052e-45,  5.2944e-09, -5.6887e-05,\n",
      "          1.8141e-11,  1.3523e-05, -5.7165e-03, -7.4522e-07,  1.8534e-10,\n",
      "          5.6052e-45,  1.3604e-04,  5.6052e-45,  2.3657e-25, -5.6613e-03,\n",
      "          5.6248e-05,  2.3770e-05,  5.2773e-05, -5.6052e-45, -4.1900e-03,\n",
      "          1.6983e-05,  1.1778e-04, -2.7147e-03,  3.5515e-04,  2.0925e-07,\n",
      "         -6.3160e-04,  2.2154e-04,  5.6052e-45,  1.4667e-04, -2.5314e-03,\n",
      "          1.1278e-13,  1.0510e-14,  6.4242e-07,  9.0227e-05, -1.7630e-04,\n",
      "         -1.5068e-03, -6.9877e-03,  3.4436e-06,  4.2802e-04],\n",
      "        [-7.1383e-04,  2.2795e-03,  8.2308e-07,  5.6052e-45, -3.3742e-03,\n",
      "         -1.3442e-04,  5.6306e-04,  5.0442e-04,  1.3729e-09,  1.9565e-09,\n",
      "          2.1146e-14,  7.0156e-04,  8.2788e-05, -8.8405e-04,  3.2927e-04,\n",
      "          2.2637e-10, -3.2769e-03,  1.6013e-02,  2.5053e-06,  5.6052e-45,\n",
      "          1.9335e-04,  2.0279e-05,  5.6052e-45,  1.7235e-05, -6.3594e-02,\n",
      "         -3.3879e-03, -3.0703e-05,  5.6052e-45,  8.3523e-07, -3.8188e-03,\n",
      "          3.7462e-10, -2.3934e-04,  1.6693e-03,  4.0242e-08,  2.0389e-09,\n",
      "          5.6052e-45, -1.5392e-03,  5.6052e-45,  2.4454e-27,  7.5395e-05,\n",
      "          8.0183e-05, -8.7911e-04,  1.3663e-03,  5.6052e-45, -2.4216e-03,\n",
      "          1.8992e-05, -2.8906e-02,  1.0467e-03,  3.0043e-03,  9.2687e-07,\n",
      "         -8.0480e-02,  2.9724e-03,  5.6052e-45, -4.1817e-03, -1.7736e-03,\n",
      "          5.0990e-14,  1.0091e-16,  1.9760e-04, -8.1194e-04, -3.0713e-03,\n",
      "         -5.9921e-04,  2.6616e-03, -2.0352e-03, -5.7586e-03],\n",
      "        [ 1.3758e-05,  1.8109e-02,  8.3827e-09,  5.6052e-45,  2.0159e-02,\n",
      "         -4.6939e-04,  1.0068e-03, -2.9218e-03,  1.6215e-09,  2.1859e-11,\n",
      "          2.3207e-15,  2.1153e-04,  1.4490e-05,  3.6503e-04, -1.6607e-04,\n",
      "          2.8857e-10, -8.7808e-03, -1.6876e-03,  8.0863e-07,  5.6052e-45,\n",
      "         -3.9130e-04,  1.9698e-04,  5.6052e-45, -2.1030e-04, -2.0629e-03,\n",
      "          6.4495e-04,  1.0474e-03,  5.6052e-45,  4.5609e-08, -3.6962e-03,\n",
      "          4.8852e-11,  1.0364e-04,  1.8501e-04,  3.5108e-06,  2.4991e-08,\n",
      "          5.6052e-45,  3.2083e-04,  5.6052e-45,  3.1414e-25,  3.7833e-03,\n",
      "          5.5584e-05, -3.1296e-05, -7.2025e-03,  5.6052e-45,  2.3472e-02,\n",
      "          1.7062e-05, -6.9371e-04,  2.5507e-02, -1.3113e-03,  2.8973e-06,\n",
      "         -2.4691e-02, -8.3751e-03,  5.6052e-45, -1.0499e-02,  6.2196e-03,\n",
      "          5.5962e-15,  1.5435e-16,  1.8415e-04, -2.1871e-03, -7.1940e-04,\n",
      "          2.2260e-03,  2.1333e-02, -5.5350e-06,  9.7382e-03],\n",
      "        [ 6.5462e-06,  4.0329e-03, -4.8148e-05,  5.6052e-45,  4.2777e-04,\n",
      "          1.7386e-04, -1.2436e-03,  2.0221e-04,  1.3635e-08, -1.8361e-09,\n",
      "          2.6164e-16,  1.0883e-04,  2.9638e-05,  1.0914e-03, -3.4091e-04,\n",
      "          1.5342e-10,  1.9098e-02, -5.5202e-03,  2.2638e-06,  5.6052e-45,\n",
      "          2.8401e-03,  2.1291e-05,  5.6052e-45,  1.1334e-05,  5.5094e-02,\n",
      "          7.9237e-03,  8.7839e-05,  5.6052e-45,  2.9250e-07,  2.6779e-02,\n",
      "          1.2268e-10,  4.5690e-04, -2.1197e-03,  4.8761e-06,  1.0317e-09,\n",
      "          5.6052e-45, -2.4832e-03, -5.6052e-45,  3.2913e-27,  1.8650e-04,\n",
      "          4.2419e-05,  1.0665e-04,  4.1418e-03,  5.6052e-45,  8.0284e-03,\n",
      "          9.3497e-06,  1.1387e-02, -5.4322e-03, -5.3295e-03,  3.0104e-06,\n",
      "          2.2521e-02,  1.0102e-03,  5.6052e-45,  1.4229e-03,  3.8455e-03,\n",
      "          6.3091e-16,  8.4536e-16, -3.8616e-04,  2.8760e-04,  2.8878e-03,\n",
      "         -3.3646e-04,  1.6870e-03,  1.4544e-04, -5.3306e-03],\n",
      "        [ 1.4513e-05,  2.0789e-05,  7.4473e-05,  5.6052e-45,  2.7857e-06,\n",
      "         -1.2828e-03,  2.2184e-06, -1.5052e-05,  8.3648e-06,  9.0169e-12,\n",
      "         -9.3124e-09, -1.5779e-02, -9.8270e-04, -6.6118e-04,  3.3721e-09,\n",
      "          2.9465e-11,  9.1252e-05,  8.1697e-06,  7.0877e-04,  5.6052e-45,\n",
      "          1.4122e-05,  7.2729e-03,  5.6052e-45,  3.3590e-12, -1.4543e-04,\n",
      "          6.3939e-07,  2.0778e-07,  5.6052e-45,  1.8878e-10,  2.2741e-05,\n",
      "         -5.6282e-07, -2.3605e-03,  6.4649e-05,  9.3003e-12,  1.8127e-08,\n",
      "          5.6052e-45,  5.9976e-05,  5.6052e-45,  2.4346e-23, -1.4648e-06,\n",
      "         -1.3103e-02, -5.0093e-04,  1.4849e-06,  5.6052e-45,  4.5250e-04,\n",
      "         -3.1357e-03, -7.3557e-05,  2.2375e-04,  9.7971e-05, -2.1748e-06,\n",
      "          1.7994e-04,  6.8976e-05,  5.6052e-45,  1.8968e-04,  2.2850e-05,\n",
      "         -2.2456e-08, -8.0566e-09,  2.0810e-09,  2.6091e-06,  1.6231e-05,\n",
      "         -2.9077e-03,  4.5653e-04,  1.3252e-03, -4.4254e-05],\n",
      "        [ 1.4497e-04,  4.7136e-03,  4.7554e-05,  5.6052e-45,  1.4705e-03,\n",
      "         -5.6939e-05, -8.2999e-04,  1.9669e-03,  5.2931e-08,  5.3998e-09,\n",
      "          7.1481e-13,  7.8961e-04,  3.5110e-05,  2.0655e-03,  1.6643e-04,\n",
      "          3.0403e-10, -1.9638e-03, -4.0703e-03,  1.0036e-05, -5.6052e-45,\n",
      "         -2.7445e-03,  7.5873e-05,  5.6052e-45,  1.7898e-04,  2.0722e-02,\n",
      "         -3.0208e-03,  2.2245e-04,  5.6052e-45,  3.4855e-07, -1.0254e-03,\n",
      "          3.9275e-10,  9.9281e-04,  2.2664e-03, -7.6839e-06, -3.2947e-08,\n",
      "          5.6052e-45,  2.1016e-03,  5.6052e-45,  3.2510e-22,  5.8741e-04,\n",
      "          1.2849e-04,  6.7740e-03,  1.5423e-03,  5.6052e-45, -3.2410e-02,\n",
      "          3.5802e-05,  1.8684e-02,  1.1236e-02,  5.6799e-03,  4.0066e-05,\n",
      "          4.4999e-02, -2.7812e-03,  5.6052e-45,  1.8515e-02,  4.5753e-03,\n",
      "          1.7237e-12,  9.5482e-14, -2.6626e-05,  3.7141e-03,  4.8407e-03,\n",
      "          6.2668e-04,  1.8351e-03,  3.0355e-04,  1.6268e-03],\n",
      "        [ 1.0141e-05,  5.9660e-06,  9.2766e-05,  5.6052e-45,  1.0555e-05,\n",
      "          8.0206e-04,  1.6830e-06,  1.4491e-06,  5.5632e-06,  3.1969e-13,\n",
      "          3.1696e-09,  1.4031e-02,  6.8862e-03,  3.3608e-02,  2.7010e-09,\n",
      "          6.1304e-12,  7.0502e-03,  1.5837e-06, -1.9809e-02,  5.6052e-45,\n",
      "         -4.5905e-04, -2.2308e-03,  5.6052e-45,  1.2123e-12,  3.3963e-03,\n",
      "          1.0003e-05,  1.7695e-08,  5.6052e-45,  4.7024e-12,  3.8270e-03,\n",
      "          2.1348e-07,  1.1989e-03,  1.5921e-05,  1.9048e-13,  9.9429e-06,\n",
      "          5.6052e-45,  3.9755e-05,  5.6052e-45,  6.3320e-37,  1.8691e-06,\n",
      "          3.4260e-02,  1.3344e-03,  6.2692e-07,  5.6052e-45, -9.0849e-04,\n",
      "          8.8469e-04,  9.1171e-05,  9.9487e-05,  1.3293e-04,  1.0080e-10,\n",
      "          2.2949e-05,  5.1036e-05,  5.6052e-45,  1.1857e-04,  7.3244e-06,\n",
      "          7.6431e-09,  2.1867e-09,  3.6735e-10,  2.6007e-07,  1.7253e-06,\n",
      "          1.3716e-03, -4.3863e-04, -4.1430e-02,  1.2392e-04],\n",
      "        [ 5.6151e-04, -9.5014e-04,  4.6102e-07,  5.6052e-45,  3.9461e-04,\n",
      "         -1.4067e-04,  6.4483e-05,  7.8000e-05,  6.8852e-08, -3.4334e-10,\n",
      "          7.5244e-13,  1.4681e-03, -6.1935e-03, -3.2366e-02,  1.8360e-06,\n",
      "          2.5974e-10, -5.9885e-03,  1.4561e-04, -4.8268e-03,  5.6052e-45,\n",
      "          7.3667e-05,  2.6274e-05,  5.6052e-45,  5.0675e-08, -2.1433e-03,\n",
      "          1.7184e-04, -3.1702e-04,  5.6052e-45, -2.7723e-06, -2.2793e-03,\n",
      "          4.9790e-10, -1.3244e-03,  1.6660e-03,  1.9822e-10,  3.1581e-09,\n",
      "          5.6052e-45,  4.3763e-03,  5.6052e-45,  5.9219e-28, -4.8767e-04,\n",
      "         -1.0374e-02,  2.0303e-04,  3.5458e-04,  5.6052e-45,  2.7410e-03,\n",
      "          4.9856e-05,  4.8287e-03,  2.8312e-03,  3.6436e-03,  5.7150e-08,\n",
      "         -3.5579e-05, -3.6239e-03,  5.6052e-45, -2.3772e-03,  7.4651e-04,\n",
      "          1.8144e-12,  2.5160e-13,  2.7084e-05,  2.8380e-04,  9.1521e-04,\n",
      "          9.2187e-04, -1.1779e-03, -3.8103e-03, -1.3355e-04],\n",
      "        [ 7.0944e-06,  5.8917e-06, -1.6820e-04,  5.6052e-45,  1.1719e-05,\n",
      "         -3.3918e-05,  4.2494e-07,  1.8967e-05, -1.4118e-05,  1.4222e-13,\n",
      "          6.1293e-09, -2.1200e-03,  1.9865e-04, -3.2837e-03,  6.4127e-09,\n",
      "          4.1618e-12,  2.1755e-05,  9.6503e-07,  2.3893e-02,  5.6052e-45,\n",
      "          1.4559e-04, -5.2827e-03, -5.6052e-45,  2.0659e-13,  4.2797e-04,\n",
      "         -9.1831e-06,  1.4640e-08,  5.6052e-45,  6.1850e-12,  9.3239e-06,\n",
      "          3.4601e-07,  5.5054e-04,  1.2037e-05,  2.5040e-13, -9.9609e-06,\n",
      "          5.6052e-45,  2.8257e-05,  5.6052e-45,  5.5564e-29,  3.2137e-06,\n",
      "         -1.1818e-02, -1.0712e-03,  1.0253e-07,  5.6052e-45,  6.3643e-05,\n",
      "          1.9458e-03,  2.7300e-05,  5.0400e-05,  3.6150e-05,  6.4184e-11,\n",
      "          9.3510e-06,  1.6007e-05, -5.6052e-45,  3.1665e-05,  3.0773e-06,\n",
      "          1.4780e-08,  5.8692e-09,  6.2376e-10,  1.1078e-07,  1.7821e-06,\n",
      "          3.5517e-05, -1.4287e-04,  4.5672e-02,  4.5905e-05]]), 'exp_avg_sq': tensor([[3.4608e-06, 1.2351e-03, 4.2257e-07, 5.7404e-06, 1.5793e-03, 2.1677e-04,\n",
      "         4.2396e-05, 7.9918e-05, 1.5127e-10, 2.1518e-06, 7.4308e-08, 1.5924e-04,\n",
      "         1.1925e-05, 4.2069e-04, 8.4939e-07, 6.1331e-08, 4.6855e-05, 9.1619e-03,\n",
      "         1.0986e-06, 6.7717e-10, 4.9279e-04, 7.5362e-05, 6.8554e-11, 9.6717e-07,\n",
      "         3.1898e-03, 2.0689e-05, 9.5725e-05, 2.9141e-08, 1.9291e-05, 8.9133e-04,\n",
      "         1.1525e-05, 1.1668e-04, 4.3741e-04, 1.8833e-07, 6.7761e-06, 3.8084e-08,\n",
      "         6.3438e-04, 1.4809e-11, 1.5231e-11, 1.5908e-04, 2.4834e-05, 2.5212e-04,\n",
      "         9.5205e-05, 7.6704e-09, 3.9495e-02, 5.3015e-06, 6.2299e-04, 1.9118e-03,\n",
      "         3.0620e-04, 1.0835e-05, 4.0965e-02, 1.0953e-02, 1.0707e-08, 8.7939e-04,\n",
      "         1.4277e-05, 3.5573e-10, 9.2897e-08, 1.5132e-06, 1.3073e-04, 2.1477e-04,\n",
      "         8.1516e-05, 3.3869e-03, 4.4447e-06, 5.2086e-05],\n",
      "        [1.0619e-07, 3.2352e-03, 5.6019e-07, 5.8869e-09, 1.9479e-05, 1.9032e-06,\n",
      "         4.0509e-06, 3.2459e-06, 5.6729e-09, 2.9267e-09, 1.3197e-07, 1.5858e-05,\n",
      "         1.4652e-06, 2.2630e-05, 3.6763e-07, 1.0177e-09, 3.1937e-05, 7.0317e-04,\n",
      "         2.1545e-07, 6.5803e-10, 8.8509e-06, 7.5915e-05, 2.3387e-11, 2.6216e-09,\n",
      "         1.7585e-04, 7.9971e-08, 3.6882e-04, 2.5826e-11, 7.0269e-07, 1.3779e-04,\n",
      "         1.6991e-07, 5.0863e-06, 1.5771e-03, 1.6344e-05, 2.3985e-06, 2.3085e-09,\n",
      "         8.5320e-05, 6.9537e-13, 6.9923e-11, 5.9734e-04, 2.0183e-06, 1.7815e-05,\n",
      "         9.1020e-07, 4.8302e-08, 5.0457e-04, 2.0463e-06, 2.0982e-05, 1.4241e-03,\n",
      "         6.0653e-05, 4.2974e-06, 5.9534e-05, 1.0095e-04, 3.2012e-14, 4.0079e-06,\n",
      "         6.4516e-06, 4.2466e-11, 5.2825e-10, 4.0463e-07, 4.0410e-06, 7.6007e-05,\n",
      "         1.0864e-04, 2.6466e-03, 7.4682e-10, 1.2648e-04],\n",
      "        [3.5878e-06, 5.6979e-04, 1.7042e-06, 7.5513e-07, 7.6028e-04, 3.4708e-05,\n",
      "         1.1530e-04, 8.0985e-06, 1.5426e-10, 4.3245e-05, 1.7895e-07, 5.4465e-05,\n",
      "         2.9417e-06, 1.1592e-04, 4.1254e-05, 5.9453e-08, 6.6706e-03, 6.8777e-03,\n",
      "         3.0968e-06, 5.2933e-10, 6.1163e-05, 5.4109e-06, 1.5421e-10, 2.6487e-06,\n",
      "         9.2379e-03, 1.4002e-03, 1.6381e-05, 7.1455e-09, 2.9076e-05, 1.7900e-02,\n",
      "         1.1513e-05, 2.7309e-05, 6.2503e-04, 1.3791e-06, 1.2545e-06, 1.2052e-10,\n",
      "         1.2727e-04, 3.1309e-11, 2.2419e-09, 1.1746e-04, 9.5050e-06, 5.1660e-05,\n",
      "         2.2809e-04, 2.1496e-09, 9.6080e-04, 4.8010e-07, 3.6422e-02, 6.4022e-04,\n",
      "         2.0915e-03, 2.0891e-06, 2.7987e-02, 4.3488e-04, 1.3760e-08, 4.8987e-03,\n",
      "         6.1014e-06, 1.7357e-09, 7.3942e-07, 5.9411e-05, 8.0392e-05, 1.0429e-03,\n",
      "         9.6202e-06, 1.9814e-04, 4.4427e-06, 1.4969e-03],\n",
      "        [6.2098e-07, 1.0828e-02, 3.3960e-07, 4.9743e-06, 6.4518e-04, 1.1207e-05,\n",
      "         3.2223e-04, 7.2139e-06, 5.2922e-09, 4.2552e-07, 4.9083e-07, 8.0037e-06,\n",
      "         4.6380e-06, 4.0497e-05, 2.7549e-05, 2.4446e-09, 4.9594e-04, 1.2599e-03,\n",
      "         1.2479e-06, 7.5232e-10, 2.2954e-05, 1.7160e-05, 3.1462e-11, 3.5076e-06,\n",
      "         7.1910e-03, 4.8555e-05, 1.7169e-04, 4.2416e-09, 1.0741e-08, 6.4923e-03,\n",
      "         7.2118e-07, 2.0619e-05, 2.1882e-03, 1.6610e-05, 2.4704e-05, 1.8518e-08,\n",
      "         5.4158e-05, 3.0685e-11, 8.9170e-12, 4.7919e-04, 1.3663e-06, 2.1130e-05,\n",
      "         4.1585e-04, 5.2403e-08, 8.3148e-03, 2.7801e-06, 1.3252e-04, 7.6506e-03,\n",
      "         4.1033e-04, 6.8983e-07, 1.5330e-03, 5.8534e-04, 8.6742e-09, 6.5405e-04,\n",
      "         3.5135e-05, 9.6883e-11, 4.7481e-07, 3.2859e-06, 6.6154e-05, 4.6548e-05,\n",
      "         1.5101e-04, 5.7177e-03, 9.7532e-07, 2.0032e-03],\n",
      "        [8.7940e-07, 7.1974e-03, 3.8931e-06, 1.4042e-06, 2.4597e-05, 7.0299e-05,\n",
      "         3.4299e-04, 1.9942e-06, 3.0091e-11, 7.5685e-05, 6.6842e-07, 7.8983e-06,\n",
      "         2.4686e-06, 1.0112e-04, 7.9822e-05, 2.2388e-08, 7.8537e-03, 2.3097e-03,\n",
      "         4.2319e-06, 8.7687e-09, 2.0444e-04, 2.0801e-05, 2.1571e-10, 1.1664e-06,\n",
      "         3.3647e-02, 4.4119e-03, 7.3021e-05, 7.2927e-09, 5.1683e-06, 3.2635e-02,\n",
      "         4.8067e-07, 1.8811e-05, 1.2015e-04, 3.7315e-06, 4.6205e-08, 6.5329e-09,\n",
      "         1.5485e-04, 4.7951e-09, 8.4096e-09, 1.0880e-04, 1.2417e-06, 1.0342e-04,\n",
      "         2.9715e-04, 5.4997e-11, 3.4274e-04, 3.9019e-07, 3.3243e-02, 2.3158e-03,\n",
      "         1.1419e-03, 1.2212e-06, 7.4901e-03, 7.3941e-05, 1.7269e-09, 7.8942e-04,\n",
      "         8.8475e-06, 5.5697e-09, 9.8050e-07, 6.3141e-05, 6.2251e-06, 1.6500e-03,\n",
      "         7.0760e-06, 2.5680e-04, 8.9095e-06, 2.9363e-03],\n",
      "        [2.5696e-07, 1.5934e-06, 3.3380e-05, 1.2188e-07, 6.9669e-07, 1.6529e-04,\n",
      "         2.5247e-07, 3.8570e-05, 1.6576e-11, 5.0212e-06, 2.0474e-06, 6.9860e-03,\n",
      "         2.1258e-03, 3.9115e-03, 9.9032e-07, 6.7675e-08, 7.0097e-05, 8.4432e-07,\n",
      "         2.8851e-03, 3.2198e-07, 1.6116e-05, 4.2934e-03, 4.7921e-08, 9.9822e-13,\n",
      "         1.1550e-04, 1.1504e-05, 5.4006e-07, 1.0595e-08, 4.8168e-08, 1.4460e-07,\n",
      "         9.4245e-06, 7.8787e-04, 3.0891e-06, 1.1469e-07, 3.2683e-06, 1.3272e-10,\n",
      "         1.6649e-05, 1.0022e-08, 2.0326e-10, 8.2069e-07, 1.0068e-02, 7.6069e-04,\n",
      "         5.4006e-08, 4.0967e-09, 2.4075e-06, 1.3207e-03, 3.1712e-05, 2.1009e-05,\n",
      "         5.3176e-07, 5.2452e-08, 3.0752e-05, 6.4047e-06, 1.0936e-09, 5.8380e-05,\n",
      "         5.7778e-11, 2.1104e-10, 5.5454e-08, 3.9691e-08, 1.5830e-06, 2.8064e-05,\n",
      "         8.5642e-04, 2.3431e-05, 3.0861e-04, 1.4611e-05],\n",
      "        [2.1216e-06, 1.6174e-03, 2.8559e-06, 1.5539e-06, 1.1920e-03, 3.1035e-04,\n",
      "         1.1037e-04, 6.6068e-05, 5.0242e-11, 7.0751e-05, 3.1059e-07, 1.1304e-04,\n",
      "         7.4172e-06, 3.7513e-04, 1.2770e-05, 1.4061e-08, 6.0788e-04, 7.9123e-03,\n",
      "         2.3204e-06, 9.4461e-09, 6.9856e-04, 9.0451e-06, 1.0554e-10, 3.9880e-06,\n",
      "         3.2202e-02, 3.6361e-03, 5.7572e-05, 9.8391e-10, 8.5909e-06, 1.5828e-02,\n",
      "         9.6883e-06, 9.9235e-05, 6.9713e-04, 1.5028e-06, 9.7187e-06, 1.6174e-09,\n",
      "         1.9542e-04, 4.1056e-09, 2.3239e-09, 6.5795e-05, 6.3134e-06, 2.1159e-04,\n",
      "         1.8124e-04, 2.8348e-10, 3.6061e-02, 2.9031e-06, 1.5205e-02, 1.6189e-03,\n",
      "         7.4096e-04, 2.9459e-06, 6.7499e-02, 1.0262e-02, 5.8256e-10, 4.7909e-03,\n",
      "         7.8151e-06, 7.0456e-09, 5.5548e-07, 4.0133e-06, 2.0749e-04, 8.1190e-04,\n",
      "         3.0523e-05, 1.6776e-03, 1.8638e-06, 1.9037e-03],\n",
      "        [5.8833e-09, 1.3281e-07, 1.6564e-05, 1.1601e-07, 1.8825e-07, 4.8853e-05,\n",
      "         4.9385e-06, 2.3994e-05, 7.4319e-12, 1.7487e-07, 2.8240e-06, 4.7267e-03,\n",
      "         2.0930e-03, 6.7253e-03, 4.1134e-06, 1.1345e-07, 1.3996e-04, 2.8465e-06,\n",
      "         1.3833e-02, 2.6042e-07, 9.5900e-07, 1.9038e-03, 1.8786e-07, 2.6006e-13,\n",
      "         7.1114e-05, 9.0148e-06, 3.3507e-07, 9.4487e-12, 1.6531e-08, 3.5676e-06,\n",
      "         5.9134e-06, 3.3570e-04, 1.4520e-06, 5.9941e-07, 8.6503e-05, 4.6654e-10,\n",
      "         2.1905e-06, 3.6555e-08, 3.1846e-12, 2.0550e-07, 1.1766e-02, 2.2011e-04,\n",
      "         5.4323e-08, 5.0882e-10, 2.1896e-06, 6.6812e-04, 3.4695e-06, 1.1631e-05,\n",
      "         1.0498e-06, 1.2123e-08, 6.7864e-07, 4.1643e-06, 8.8992e-08, 5.4004e-06,\n",
      "         2.0486e-10, 1.9223e-10, 1.4125e-07, 2.6868e-11, 1.2793e-06, 2.4629e-06,\n",
      "         2.8328e-04, 6.2825e-06, 1.3117e-02, 7.0687e-06],\n",
      "        [7.2847e-06, 2.8688e-04, 6.2551e-07, 4.4886e-08, 1.8737e-05, 3.5112e-05,\n",
      "         1.4648e-05, 6.9869e-05, 7.0929e-11, 1.3189e-05, 3.8849e-07, 4.8527e-04,\n",
      "         1.4154e-04, 1.8731e-03, 5.2368e-06, 4.4389e-08, 1.5320e-04, 9.5563e-05,\n",
      "         8.5015e-05, 1.0676e-09, 4.4771e-06, 7.3410e-06, 1.7100e-09, 1.4407e-09,\n",
      "         1.8439e-03, 1.1392e-05, 1.1995e-05, 4.5366e-08, 8.5182e-07, 8.9045e-05,\n",
      "         8.1629e-06, 6.7150e-04, 1.8767e-04, 2.4947e-08, 6.0321e-07, 1.3304e-10,\n",
      "         7.5328e-04, 3.3327e-09, 9.9546e-10, 2.5003e-05, 1.7768e-04, 4.3146e-04,\n",
      "         6.2114e-06, 3.9462e-11, 1.7494e-04, 4.7776e-06, 3.9104e-04, 5.8447e-04,\n",
      "         1.2148e-04, 6.6167e-06, 1.0047e-03, 1.4071e-03, 5.7707e-11, 4.8768e-04,\n",
      "         3.1106e-06, 3.3746e-10, 3.9058e-08, 1.9496e-06, 3.3196e-06, 2.3509e-04,\n",
      "         2.2082e-04, 1.4528e-04, 7.4169e-05, 1.2652e-05],\n",
      "        [2.3156e-08, 1.3935e-06, 5.0750e-05, 3.6775e-08, 3.6870e-07, 4.7353e-05,\n",
      "         3.6111e-06, 9.1280e-06, 4.6506e-11, 1.2645e-06, 1.1455e-06, 1.2925e-03,\n",
      "         3.2857e-05, 1.8609e-03, 3.2583e-06, 1.0226e-07, 5.5785e-05, 5.5196e-08,\n",
      "         1.2846e-02, 1.1937e-08, 1.0950e-06, 6.5859e-03, 1.2549e-07, 6.7093e-14,\n",
      "         4.4936e-05, 1.6271e-05, 1.4400e-07, 1.0339e-14, 9.0780e-11, 2.4622e-07,\n",
      "         1.5535e-06, 8.8591e-05, 1.2738e-07, 6.3696e-07, 8.6346e-05, 5.2172e-10,\n",
      "         6.6214e-06, 2.0443e-08, 3.6417e-12, 1.6795e-07, 1.6267e-03, 8.0474e-04,\n",
      "         5.7409e-08, 2.3994e-09, 5.5509e-07, 1.0453e-03, 4.2917e-06, 3.2688e-06,\n",
      "         1.2903e-07, 2.1421e-08, 1.0318e-07, 3.0607e-06, 8.9998e-08, 2.2957e-06,\n",
      "         1.9796e-10, 1.9319e-10, 1.7702e-07, 3.5935e-10, 2.0718e-07, 1.1953e-07,\n",
      "         3.5688e-04, 6.1635e-06, 1.3215e-02, 1.4989e-06]])}, 2082087299328: {'step': 9380, 'exp_avg': tensor([-0.0023, -0.0017, -0.0057,  0.0037,  0.0038, -0.0008,  0.0025, -0.0003,\n",
      "        -0.0011,  0.0019]), 'exp_avg_sq': tensor([3.6703e-04, 4.6486e-05, 4.5792e-04, 2.5618e-04, 4.6615e-04, 1.1348e-04,\n",
      "        6.6312e-04, 1.7766e-04, 6.6953e-05, 1.1768e-04])}}\n",
      "param_groups \t [{'lr': 0.003, 'betas': (0.9, 0.999), 'eps': 1e-08, 'weight_decay': 0, 'amsgrad': False, 'params': [2081980254608, 2081980254320, 2081980330344, 2082031587264, 2082031586904, 2082087299184, 2082087299256, 2082087299328]}]\n"
     ]
    }
   ],
   "source": [
    "print(\"Model's state_dict:\")\n",
    "for param_tensor in model.state_dict():\n",
    "    print(param_tensor, \"\\t\", model.state_dict()[param_tensor].size())\n",
    "\n",
    "#print(model.state_dict())    \n",
    "#print(model.state_dict().keys())\n",
    "\n",
    "print(\"---\")\n",
    "print(\"Optimizer's state_dict:\")\n",
    "for var_name in optimizer.state_dict():\n",
    "    print(var_name, \"\\t\", optimizer.state_dict()[var_name])"
   ]
  },
  {
   "cell_type": "markdown",
   "metadata": {},
   "source": [
    "Lets go through this again line by line: <br>\n",
    "\n",
    "We first want to give out the _state dictionary_ of the model. This is a dictionary which includes all the hyperparameters specified beforehand assigned to the according key (to only extract the keys use `model.state_dict().key()`)."
   ]
  },
  {
   "cell_type": "markdown",
   "metadata": {},
   "source": [
    "#### Saving model for inference\n",
    "The preferred version for inference is to solely store the hyperparameters the model was trained on. "
   ]
  },
  {
   "cell_type": "code",
   "execution_count": 8,
   "metadata": {},
   "outputs": [],
   "source": [
    "PATH = r'C:\\Users\\Dominique.AW\\Desktop\\Doktorarbeit\\htw\\PythonTutorial\\4_CNN_Pytorch'\n",
    "\n",
    "save_model = torch.save(model.state_dict(), 'checkpoint.pth')"
   ]
  },
  {
   "cell_type": "markdown",
   "metadata": {},
   "source": [
    "By using `model.state_dict(PATH, 'checkpoint.pth')` we are able to retrieve a dictionary including the keys and the according values (the values of the hyperparameters we trained on) and store it by using `torch.save()`.\n",
    "\n",
    "Here, we usually like store these in the file extension `.pt` or `.pth`."
   ]
  },
  {
   "cell_type": "code",
   "execution_count": 22,
   "metadata": {},
   "outputs": [
    {
     "name": "stdout",
     "output_type": "stream",
     "text": [
      "odict_keys(['fc1.weight', 'fc1.bias', 'fc2.weight', 'fc2.bias', 'fc3.weight', 'fc3.bias', 'fc4.weight', 'fc4.bias'])\n"
     ]
    }
   ],
   "source": [
    "state_dict = torch.load('checkpoint.pth')\n",
    "print(state_dict.keys())"
   ]
  },
  {
   "cell_type": "code",
   "execution_count": 25,
   "metadata": {},
   "outputs": [
    {
     "data": {
      "text/plain": [
       "<All keys matched successfully>"
      ]
     },
     "execution_count": 25,
     "metadata": {},
     "output_type": "execute_result"
    }
   ],
   "source": [
    "model = Classifier()\n",
    "model.load_state_dict(state_dict)"
   ]
  },
  {
   "cell_type": "markdown",
   "metadata": {},
   "source": [
    "#### Loading data with your GPU"
   ]
  },
  {
   "cell_type": "code",
   "execution_count": 131,
   "metadata": {},
   "outputs": [],
   "source": [
    "if torch.cuda.is_available():\n",
    "    device = cuda.device(\"GPU\")\n",
    "    ...\n",
    "    ...\n",
    "    pass"
   ]
  },
  {
   "cell_type": "markdown",
   "metadata": {},
   "source": [
    "## 5. Exercises:\n",
    "### 5.1 Tuning of the hyperparameter \n",
    "Based on the above dataset `MNIST Fashion`, try to find the appropriate hyperparameters so that you achieve a high accuracy (or convergence to a minimal loss) for both training and testing datset."
   ]
  },
  {
   "cell_type": "code",
   "execution_count": 124,
   "metadata": {},
   "outputs": [],
   "source": [
    "import torch\n",
    "from torchvision import transforms, datasets\n",
    "\n",
    "trans = transforms.Compose([\n",
    "    transforms.CenterCrop(25),\n",
    "    transforms.ToTensor(),\n",
    "    transforms.RandomAffine(180),\n",
    "#    torchvision.transforms.Normalize([0.5,], [0.5,]),\n",
    "])\n",
    "\n",
    "trainset = datasets.FashionMNIST(r'C:\\Users\\Dominique.AW\\Desktop\\Doktorarbeit\\htw\\PythonTutorial\\4_CNN_Pytorch', download = True, train = True, transform = trans)\n",
    "trainloader = torch.utils.data.DataLoader(trainset, batch_size = 64, shuffle = True)\n",
    "\n",
    "testset = datasets.FashionMNIST(r'C:\\Users\\Dominique.AW\\Desktop\\Doktorarbeit\\htw\\PythonTutorial\\4_CNN_Pytorch', download = True, train = False, transform = trans)\n",
    "testloader = torch.utils.data.DataLoader(testset, batch_size = 64, shuffle = True)"
   ]
  },
  {
   "cell_type": "code",
   "execution_count": 125,
   "metadata": {},
   "outputs": [],
   "source": [
    "import torch.nn as nn\n",
    "import torch.nn.functional as F\n",
    "\n",
    "class Model(nn.Module):\n",
    "    def __init__(self):\n",
    "        super(Model, self).__init__()\n",
    "        self.fc1 = nn.Linear(786,256)\n",
    "        self.fc2 = nn.Linear(256,128)\n",
    "        self.fc3 = nn.Linear(128,64)\n",
    "        self.fc4 = nn.Linear(64,10)\n",
    "        \n",
    "    def forward(self):\n",
    "        x = x.view(x.shape[0],-1)\n",
    "        x = F.relu(self.fc1(x))\n",
    "        x = F.relu(self.fc2(x))\n",
    "        x = self.dropout(F.relu(self.fc3(x)))\n",
    "        x = F.LogSoftmax(self.fc4(x), dim = 1) #LogSoftmax()\n",
    "        return x"
   ]
  },
  {
   "cell_type": "code",
   "execution_count": 129,
   "metadata": {},
   "outputs": [
    {
     "name": "stdout",
     "output_type": "stream",
     "text": [
      "Epoch: 1/10..  Training Loss: 0.516..  Test Loss: 0.465..  Test Accuracy: 0.832\n",
      "Epoch: 2/10..  Training Loss: 0.391..  Test Loss: 0.416..  Test Accuracy: 0.848\n",
      "Epoch: 3/10..  Training Loss: 0.355..  Test Loss: 0.399..  Test Accuracy: 0.853\n",
      "Epoch: 4/10..  Training Loss: 0.334..  Test Loss: 0.398..  Test Accuracy: 0.866\n",
      "Epoch: 5/10..  Training Loss: 0.316..  Test Loss: 0.383..  Test Accuracy: 0.864\n",
      "Epoch: 6/10..  Training Loss: 0.302..  Test Loss: 0.380..  Test Accuracy: 0.868\n",
      "Epoch: 7/10..  Training Loss: 0.290..  Test Loss: 0.395..  Test Accuracy: 0.866\n",
      "Epoch: 8/10..  Training Loss: 0.283..  Test Loss: 0.389..  Test Accuracy: 0.871\n",
      "Epoch: 9/10..  Training Loss: 0.278..  Test Loss: 0.366..  Test Accuracy: 0.878\n",
      "Epoch: 10/10..  Training Loss: 0.265..  Test Loss: 0.374..  Test Accuracy: 0.879\n"
     ]
    }
   ],
   "source": [
    "#define model and hyperparameters\n",
    "model = Classifier()\n",
    "criterion = nn.NLLLoss()\n",
    "optimizer = optim.Adam(model.parameters(), lr=0.003)\n",
    "\n",
    "epochs = 10\n",
    "steps = 0\n",
    "\n",
    "train_losses, test_losses = [], []\n",
    "for e in range(epochs):\n",
    "    running_loss = 0\n",
    "    for images, labels in trainloader:\n",
    "        \n",
    "        optimizer.zero_grad()\n",
    "        \n",
    "        log_ps = model(images)\n",
    "        loss = criterion(log_ps, labels)\n",
    "        loss.backward()\n",
    "        optimizer.step()\n",
    "        \n",
    "        running_loss += loss.item()\n",
    "        \n",
    "    else:\n",
    "        test_loss = 0\n",
    "        accuracy = 0\n",
    "        \n",
    "        # Turn off gradients for validation, saves memory and computations\n",
    "        with torch.no_grad():\n",
    "            for images, labels in testloader:\n",
    "                log_ps = model(images)\n",
    "                test_loss += criterion(log_ps, labels)\n",
    "                \n",
    "                ps = torch.exp(log_ps)\n",
    "                top_p, top_class = ps.topk(1, dim=1)\n",
    "                equals = top_class == labels.view(*top_class.shape)\n",
    "                accuracy += torch.mean(equals.type(torch.FloatTensor))\n",
    "                \n",
    "        train_losses.append(running_loss/len(trainloader))\n",
    "        test_losses.append(test_loss/len(testloader))\n",
    "\n",
    "        print(\"Epoch: {}/{}.. \".format(e+1, epochs),\n",
    "              \"Training Loss: {:.3f}.. \".format(running_loss/len(trainloader)),\n",
    "              \"Test Loss: {:.3f}.. \".format(test_loss/len(testloader)),\n",
    "              \"Test Accuracy: {:.3f}\".format(accuracy/len(testloader)))"
   ]
  },
  {
   "cell_type": "code",
   "execution_count": 127,
   "metadata": {},
   "outputs": [
    {
     "data": {
      "text/plain": [
       "Model(\n",
       "  (fc1): Linear(in_features=786, out_features=256, bias=True)\n",
       "  (fc2): Linear(in_features=256, out_features=128, bias=True)\n",
       "  (fc3): Linear(in_features=128, out_features=64, bias=True)\n",
       "  (fc4): Linear(in_features=64, out_features=10, bias=True)\n",
       ")"
      ]
     },
     "execution_count": 127,
     "metadata": {},
     "output_type": "execute_result"
    }
   ],
   "source": [
    "model"
   ]
  },
  {
   "cell_type": "markdown",
   "metadata": {},
   "source": [
    "### 5.2 Data Augmentation\n",
    "<a class=\"anchor\" id=\"data_augmentation\"></a>\n",
    "\n",
    "To allow a neural network to generalize well, it heavily depends not only on the number of training and testing samples but also on the \"population\" or \"diversity\" of the data. You can see data augmentation as some kind of way how to fool your neural network by artificially generating new unseen data. The dimension of this becomes more clear when you having a look at [[39]](https://arxiv.org/pdf/1710.08864.pdf) where the change of a single pixel within one image can cause it to be assigned to a totally different class - or _vice versa_ in their case - can be used to improve the results by combining adversarial techniques. This use of __Adversial Neural Networks__ can be come a rising field within the last few years especially after the first introduction of Generative Adversial Networks (GANs) by Ian Goodfellow. To have a grasp of its power have a look at the following [video](https://www.youtube.com/watch?v=dCKbRCUyop8) or his publication [[40]](https://papers.nips.cc/paper/5423-generative-adversarial-nets.pdf).\n",
    "\n",
    "For this task try to augment your data by including the following transform for the training and testing dataset (assigned with the variable name _train_transform_ and _test_transform_:\n",
    "\n",
    "test_transform:\n",
    "- Central crop or a __rectangle__ with 15 pixels height and 10 pixels in width\n",
    "- Horizontal flip with a probability of $p=0.5$\n",
    "- Normalize the data according to the previous examples\n",
    "\n",
    "train_transform:\n",
    "- Random crop with a _constant_ padding of 2 \n",
    "- Horizontal flip with a probability of $p=0.3$\n",
    "- Normalize the data according to the previous examples"
   ]
  },
  {
   "cell_type": "code",
   "execution_count": 6,
   "metadata": {},
   "outputs": [],
   "source": [
    "import torch\n",
    "from torchvision import datasets, transforms"
   ]
  },
  {
   "cell_type": "code",
   "execution_count": 7,
   "metadata": {
    "scrolled": true
   },
   "outputs": [],
   "source": [
    "PATH = r'C:\\Users\\Dominique.AW\\Desktop\\Doktorarbeit\\htw\\PythonTutorial\\4_CNN_Pytorch\\FashionMNISTAug'\n",
    "\n",
    "\n",
    "test_transform = transforms.Compose([\n",
    "    \n",
    "   #now it's your turn \n",
    "    \n",
    "])\n",
    "\n",
    "train_transform = transforms.Compose([\n",
    "    \n",
    "    #now it's your turn\n",
    "    \n",
    "])\n",
    "\n"
   ]
  },
  {
   "cell_type": "markdown",
   "metadata": {},
   "source": [
    "## References and citations\n",
    "\n",
    "[[1]](https://www.tensorflow.org/) https://www.tensorflow.org/ <br>\n",
    "[[2]](https://scikit-image.org/) https://scikit-image.org/ <br>\n",
    "[[3]](https://keras.io/) https://keras.io/ <br>\n",
    "[[4]](https://pytorch.org/) https://pytorch.org/ <br>\n",
    "[[5]](https://pytorch.org/tutorials/beginner/examples_autograd/tf_two_layer_net.html) https://pytorch.org/tutorials/beginner/examples_autograd/tf_two_layer_net.html <br>\n",
    "[[6]](https://towardsdatascience.com/pytorch-for-deep-learning-a-quick-guide-for-starters-5b60d2dbb564) https://towardsdatascience.com/pytorch-for-deep-learning-a-quick-guide-for-starters-5b60d2dbb564 <br>\n",
    "[[7]](http://deeplearning.net/software/theano/) http://deeplearning.net/software/theano/ <br>\n",
    "[[8]](https://machinelearningmastery.com/introduction-python-deep-learning-library-theano/) https://machinelearningmastery.com/introduction-python-deep-learning-library-theano/ <br>\n",
    "[[9]](https://caffe.berkeleyvision.org/) https://caffe.berkeleyvision.org/ <br>\n",
    "[[10]](https://towardsdatascience.com/deep-learning-framework-power-scores-2018-23607ddf297a?gi=fb13689f2184) https://towardsdatascience.com/deep-learning-framework-power-scores-2018-23607ddf297a?gi=fb13689f2184 <br> \n",
    "[[11]](https://heartbeat.fritz.ai/10-reasons-why-pytorch-is-the-deep-learning-framework-of-future-6788bd6b5cc2) https://heartbeat.fritz.ai/10-reasons-why-pytorch-is-the-deep-learning-framework-of-future-6788bd6b5cc2 <br>\n",
    "[[12]](https://blog.paperspace.com/why-use-pytorch-deep-learning-framework/) https://blog.paperspace.com/why-use-pytorch-deep-learning-framework/ <br>\n",
    "\n",
    "#### Section 2:\n",
    "[[13]](https://towardsdatascience.com/weight-initialization-techniques-in-neural-networks-26c649eb3b78) https://towardsdatascience.com/weight-initialization-techniques-in-neural-networks-26c649eb3b78 <br>\n",
    "[[14]](https://missinglink.ai/guides/neural-network-concepts/7-types-neural-network-activation-functions-right/) https://missinglink.ai/guides/neural-network-concepts/7-types-neural-network-activation-functions-right/ <br>\n",
    "[[15]](https://missinglink.ai/guides/neural-network-concepts/7-types-neural-network-activation-functions-right/) https://missinglink.ai/guides/neural-network-concepts/7-types-neural-network-activation-functions-right/ <br>\n",
    "[[16]](https://www.deeplearningbook.org/contents/mlp.html) https://www.deeplearningbook.org/contents/mlp.html <br>\n",
    "[[17]](https://www.deeplearningbook.org/contents/mlp.html) https://www.deeplearningbook.org/contents/mlp.html <br>\n",
    "[[18]](https://www.deeplearningbook.org/slides/05_ml.pdf) https://www.deeplearningbook.org/slides/05_ml.pdf <br>\n",
    "\n",
    "\n",
    "\n",
    "#### Section 3:\n",
    "[[19]](https://pytorch.org/tutorials/beginner/former_torchies/tensor_tutorial.html) https://pytorch.org/tutorials/beginner/former_torchies/tensor_tutorial.html <br>\n",
    "[[20]](https://pytorch.org/docs/stable/cuda.html) https://pytorch.org/docs/stable/cuda.html <br>\n",
    "[[21]](https://pytorch.org/docs/stable/notes/cuda.html) https://pytorch.org/docs/stable/notes/cuda.html <br>\n",
    "[[22]](https://jakevdp.github.io/blog/2017/12/05/installing-python-packages-from-jupyter/) https://jakevdp.github.io/blog/2017/12/05/installing-python-packages-from-jupyter/ <br>\n",
    "\n",
    "\n",
    "\n",
    "#### Section 4:\n",
    "[[26]](https://pytorch.org/docs/stable/torchvision/datasets.html) https://pytorch.org/docs/stable/torchvision/datasets.html <br>\n",
    "[[27]](https://pytorch.org/docs/stable/torchvision/transforms.html) https://pytorch.org/docs/stable/torchvision/transforms.html <br>\n",
    "[[28]](https://pytorch.org/docs/stable/torchvision/datasets.html#cifar) https://pytorch.org/docs/stable/torchvision/datasets.html#cifar <br>\n",
    "[[29]](https://docs.python.org/3/library/functions.html#next) https://docs.python.org/3/library/functions.html#next <br>\n",
    "[[30]](https://pytorch.org/docs/stable/nn.html#linear-layers) https://pytorch.org/docs/stable/nn.html#linear-layers <br>\n",
    "[[31]](https://discuss.pytorch.org/t/difference-between-cross-entropy-loss-or-log-likelihood-loss/38816/2) https://discuss.pytorch.org/t/difference-between-cross-entropy-loss-or-log-likelihood-loss/38816/2 <br> \n",
    "[[32]](https://developers.google.com/machine-learning/crash-course/reducing-loss/stochastic-gradient-descent) https://developers.google.com/machine-learning/crash-course/reducing-loss/stochastic-gradient-descent <br>\n",
    "[[33]](https://pytorch.org/docs/stable/nn.html) https://pytorch.org/docs/stable/nn.html <br>\n",
    "[[34]](https://stackoverflow.com/questions/48001598/why-do-we-need-to-call-zero-grad-in-pytorch) https://stackoverflow.com/questions/48001598/why-do-we-need-to-call-zero-grad-in-pytorch <br>\n",
    "[[35]](http://jmlr.org/papers/volume15/srivastava14a.old/srivastava14a.pdf) http://jmlr.org/papers/volume15/srivastava14a.old/srivastava14a.pdf <br>\n",
    "[[36]](https://machinelearningmastery.com/dropout-for-regularizing-deep-neural-networks/) https://machinelearningmastery.com/dropout-for-regularizing-deep-neural-networks/ <br>\n",
    "[[37]](https://medium.com/@amarbudhiraja/https-medium-com-amarbudhiraja-learning-less-to-learn-better-dropout-in-deep-machine-learning-74334da4bfc5) https://medium.com/@amarbudhiraja/https-medium-com-amarbudhiraja-learning-less-to-learn-better-dropout-in-deep-machine-learning-74334da4bfc5 <br>\n",
    "[[38]](https://machinelearningmastery.com/dropout-for-regularizing-deep-neural-networks/) https://machinelearningmastery.com/dropout-for-regularizing-deep-neural-networks/ <br>\n",
    "\n",
    "#### Section 5\n",
    "[[39]](https://arxiv.org/pdf/1710.08864.pdf) https://arxiv.org/pdf/1710.08864.pdf <br>\n",
    "[[40]](https://papers.nips.cc/paper/5423-generative-adversarial-nets.pdf) https://papers.nips.cc/paper/5423-generative-adversarial-nets.pdf\n",
    "\n",
    "\n",
    "http://users.isr.ist.utl.pt/~wurmd/Livros/school/Bishop%20-%20Pattern%20Recognition%20And%20Machine%20Learning%20-%20Springer%20%202006.pdf"
   ]
  }
 ],
 "metadata": {
  "kernelspec": {
   "display_name": "Python 3",
   "language": "python",
   "name": "python3"
  },
  "language_info": {
   "codemirror_mode": {
    "name": "ipython",
    "version": 3
   },
   "file_extension": ".py",
   "mimetype": "text/x-python",
   "name": "python",
   "nbconvert_exporter": "python",
   "pygments_lexer": "ipython3",
   "version": "3.7.3"
  }
 },
 "nbformat": 4,
 "nbformat_minor": 2
}
