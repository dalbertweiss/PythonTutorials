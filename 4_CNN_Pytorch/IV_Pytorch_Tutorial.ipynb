{
 "cells": [
  {
   "cell_type": "markdown",
   "metadata": {},
   "source": [
    "\n",
    "   \n",
    "\n",
    "# Python Tutorial 4\n",
    "# Review of the last and today's session\n",
    "\n",
    "During our last session we learned a bunch of different programming topics:\n",
    "\n",
    "II.  [Introduction to Python IDE _Spyder_](#spyder)<br>\n",
    "III. [Lambda functions](#lambda)<br>\n",
    "\n",
    "Furthermore, we are going to talk about useful concepts and python philosophies to become a good python pogrammer:\n",
    "\n",
    "IV. [How to become a 'clean programmer'](#clean)<br>\n",
    "1. [Style guide: some notes about PEP8](#style-guide)<br>\n",
    "2. [Decompose your code into mutiple functions](#decomposition)<br>\n",
    "3. [Nested for-loops](#nested)<br>\n",
    "4. [Remarks on using return and print()](#return)<br>\n",
    "5. [Chosing the right data type for your purpose](#data-type)<br>\n",
    "6. [List comprehensions](#list-compr)<br>\n",
    "7. [Commenting your code](#comment)<br>\n",
    "8. [\"Errors should never pass silently. Unless explicitly silenced.\"](#zen_silence)<br> \n",
    "   a. [Einfügen von exceptions bzw. `try/except`-blocks](#exceptions)<br>\n",
    "   b. [Code debugging](#debugging)<br> \n",
    "   c. [Unittesting](#unittest)<br>\n",
    "   \n",
    "\n",
    "In this lesson we will dig deeper into using python as a valuable tool for traing, testing and validating neural networks. \n",
    "\n",
    "1. [Python frameworks for building neural networks](#frameworks)<br>\n",
    "2. [Review of Theoretical concepts about neural networks](#theory)<br>\n",
    "2.1 [Perceptron as a logical operation](#logical_operation)<br>\n",
    "2.1.1 [AND Perceptron](#and)<br>\n",
    "2.1.2 [OR Perceptron](#or)<br>\n",
    "2.1.3 [NOT Perceptron](#not)<br>\n",
    "2.1.4 [Excercise: XOR Perceptron](#xor)<br>\n",
    "2.2. [Activation Functions](#activation_function)<br>\n",
    "2.3 [Optimization](#optim)<br>\n",
    "2.4 [Training and Testing](#TNT)<br>\n",
    "3. [Training Neural Networks with Pytorch](#Pytorch)<br>\n",
    "3.1 [Installation of Pytorch Package](#installation)<br>\n",
    "3.2 [Single Layer Neural Network](#single_layer)<br>\n",
    "3.2 [Multilayer Neural Network](#multi_layers)<br>\n",
    "4. [Classification on MNIST Dataset](#mnist)<br>\n",
    "4.1 [Building the Neural Network](#building)<br>\n",
    "4.2 [Training the Neural Network](#training)<br>\n",
    "4.3 [Testing and Validation](#test_val)<br>\n",
    "4.4 [Overfitting](#overfitting)<br>\n",
    "4.5 [Exercise: Data Augmentation](#data_augmentation)<br>\n",
    "4.6 [Saving and Loading the Neural Network](#save_n_load)<br>\n",
    "\n",
    "\n",
    "\n",
    "One concept we learned last time and will be used more often during this session are list comprehensions.\n",
    "So get used to it!\n",
    "\n",
    "\n",
    "\n",
    "# 1. Python frameworks for building neural networks <a class=\"anchor\" id=\"frameworks\"></a>\n",
    "In our first lecture we introduced different packages such as __numpy__, __pandas__ and __matplotlib__. When building and training neural networks, we usually take advantage of packages such as __tensorflow__ or __pytorch__ which already have the basic building blocks implemented. Here is a short reminder of the different packages used:\n",
    "\n",
    "__Tensorflow__ [[1]](https://www.tensorflow.org/): Tensorflow is a machine learning library developed by Google. In contrast to scikit-learn [[2]](https://scikit-image.org/) (library containing basic ML algorithms, data mining and preprocessing in image processing) where, Tensorflow is specially designed for the use in the area of deep learning and supports symbolic calculations and execution on graphics cards (GPUs) to accelerate computing.\n",
    "<br>\n",
    "__Keras__ [[3]](https://keras.io/): Keras provides an easy-to-use and easy-to-learn API (application programming interface) for creating and training neural networks. It relies on Tensorflow or Theano as backend.\n",
    "<br>\n",
    "__Pytorch__[[4]](https://pytorch.org/)[[5]](https://pytorch.org/tutorials/beginner/examples_autograd/tf_two_layer_net.html)[[6]](https://towardsdatascience.com/pytorch-for-deep-learning-a-quick-guide-for-starters-5b60d2dbb564): In industry, tensorflow is still the package of choice. However, in the last years, it has often been criticized for being difficult to debug, since it uses static computational graphs. Pytorch is a framework which was developed by Facebook and is based on the library _torch_. One of its advantages is that it uses dynamic computational graphs which allows for dynamic network changes as it being run, with little or no overhead.\n",
    "<br>\n",
    "__Theano__ [[7]](http://deeplearning.net/software/theano/)[[8]](https://machinelearningmastery.com/introduction-python-deep-learning-library-theano/): Theano is a compiler that executed mathematical expressions and is also heavily used for training neural networks. Since Theano belongs to the older packages it is not recommended.\n",
    "<br>\n",
    "__Caffe__ [[9]](https://caffe.berkeleyvision.org/): Models can be defined in a plain text file and are processed on command line. \n",
    "<br>\n",
    "\n",
    "At the moment __tensorflow__ is still the most widely used deep learning framework used within python especially in industrial applications [[10]](https://towardsdatascience.com/deep-learning-framework-power-scores-2018-23607ddf297a?gi=fb13689f2184). Tensorflow 1.0 has long been the leading framework in deep learning applications. However, it was often criticized for being hard to debug and for it's syntax not to be as handy for programming. This has led to the rise of a high interest and popularity within the Python community for the framework __Pytorch__, introduced by Facebook and which we are going to use within our Python Tutorial. To get some more reasons why you should learn Pytorch instead of many other frameworks have a look at [[11]](https://heartbeat.fritz.ai/10-reasons-why-pytorch-is-the-deep-learning-framework-of-future-6788bd6b5cc2)[[12]](https://blog.paperspace.com/why-use-pytorch-deep-learning-framework/). <br>\n",
    "Just for your information: to work against it's downsides, Google introduced a new version of TensorFlow in 2019 also known as __TensorFlow 2.0__. Instead of using static operations in its previous version, code is now executed in eager mode allowing operations being executed immediately for each building block without building graphs. \n",
    "\n",
    "\n",
    "\n",
    "# 2. Review of theoretical concepts about neural networks <a class=\"anchor\" id=\"theory\"></a>\n",
    "Deep learning has been been around since the 1950s, for which Rosenblatt  was the first one to introduce the concept of a _perceptron_. \n",
    "A neural network is build from individual parts called _neurons_. Each unit is weighted with a certain number of inputs which can be described as a linear function:\n",
    "\n",
    "$$\n",
    "\\begin{equation*}\n",
    "%\\begin{align}\n",
    "y=f \\left(\\sum_i w_i \\cdot x_i +b\\right)\n",
    "%\\end{align}\n",
    "\\label{eq:sum_weighted_inputs} \\tag{1}\n",
    "\\end{equation*}\n",
    "$$<a class=\"anchor\" id=\"sum_weighted_inputs\"></a>\n",
    "\n",
    "where $x_i$ and $w_i$ describe all the $i$ inputs and weights given to the _neuron_. Usually, a bias $b$ is added to influence the activation of the neuron. We can also describe this in matrix notation by giving this as a dot product of the two vectors:\n",
    "\n",
    "$$h = \\begin{equation*}\n",
    "\\left[\n",
    "\\begin{array}{rrr}\n",
    " x_1 & x_2 & \\cdots & x_n \\\\\n",
    "\\end{array} \\right]\n",
    "\\cdot\n",
    "\\left[\n",
    "\\begin{array}{c}\n",
    "w_1 \\\\\n",
    "w_2 \\\\\n",
    "\\vdots \\\\\n",
    "w_n \\\\\n",
    "\\end{array} \n",
    "\\right]\n",
    "\\label{eq:affine_matrix_rep} \\tag{2}\n",
    "\\end{equation*}$$\n",
    "\n",
    "\n",
    "Afterwards the weighted inputs are passed through an __activation function__ $f(\\cdot)$ to get a unit's output $y$. Inspired by the neurons in the brain, it can be seen as a gate which fires as soon as some kind of threshold is passed.\n",
    "\n",
    "\n",
    "\n",
    "## 2.1 Perceptron as a logical operation <a class=\"anchor\" id=\"logical_operation\"></a>\n",
    "### 2.1.1 AND Perceptron <a class=\"anchor\" id=\"and\"></a>\n",
    "\n",
    "The easiest way of understanding the concept of neural networks and perceptrons as it's key element is by consider is as a __logical operation__. To get a better idea lets visualize this for an __AND__ operator consisting of two input neurons $x_1$ and $x_2$:\n",
    "\n",
    "<img src='img/Perceptron_AND.png' width = \"500\">\n",
    "\n",
    "One the right sight the logical table is desplayed showing the an output is positive or negative. One the left hand sight you can see the perceptron containing the four different points to be separated. The decision boundary displayed above is what we are trying to determine. In this case a separation between the four points becomes quite evident as we can treat it as a classical __linear regression problem__. However, keep in mind that the complexity of most real-world scenarios can not be displayed by a linear function. This becomes more clear when we introduce the concept of backpropagation in multilayer neural networks. Both the input neurons $x_1$ and $x_2$ are multiplied by a weight $w_1$ and $w_2$. \n",
    "\n",
    "Both the weights $w_1$ and $w_2$ and bias term $b$ are usually unknown to us and are determined through optimization. \n",
    "However, when building your neural network, a good initialization of the weights and bias is required to get to your global optimum within a small amount of time [[13]](https://towardsdatascience.com/weight-initialization-techniques-in-neural-networks-26c649eb3b78). \n",
    "\n",
    " $$\n",
    " \\begin{equation*}\n",
    " y = x_1 \\cdot w_1 + x_2 \\cdot w_2 + b.\n",
    " \\label{eq:lin_equ} \\tag{3}\n",
    " \\end{equation*}\n",
    " $$\n",
    "\n",
    "\n",
    " "
   ]
  },
  {
   "cell_type": "code",
   "execution_count": 1,
   "metadata": {},
   "outputs": [
    {
     "name": "stdout",
     "output_type": "stream",
     "text": [
      "Nice!  You got it all correct.\n",
      "\n",
      " Input 1    Input 2    Linear Combination    Activation Output   Is Correct\n",
      "       0          0                  -0.6                    0          Yes\n",
      "       0          1                  -0.1                    0          Yes\n",
      "       1          0                  -0.1                    0          Yes\n",
      "       1          1                   0.4                    1          Yes\n"
     ]
    }
   ],
   "source": [
    "import pandas as pd\n",
    "\n",
    "# TODO: Set weight1, weight2, and bias; to be done by the students\n",
    "weight1 = 0.5\n",
    "weight2 = 0.5\n",
    "bias = -0.6\n",
    "\n",
    "\n",
    "# Inputs and outputs\n",
    "test_inputs = [(0, 0), (0, 1), (1, 0), (1, 1)]\n",
    "correct_outputs = [False, False, False, True]\n",
    "outputs = []\n",
    "\n",
    "# Generate and check output\n",
    "for test_input, correct_output in zip(test_inputs, correct_outputs):\n",
    "    linear_combination = weight1 * test_input[0] + weight2 * test_input[1] + bias\n",
    "    output = int(linear_combination >= 0)\n",
    "    is_correct_string = 'Yes' if output == correct_output else 'No'\n",
    "    outputs.append([test_input[0], test_input[1], linear_combination, output, is_correct_string])\n",
    "\n",
    "# Print output\n",
    "num_wrong = len([output[4] for output in outputs if output[4] == 'No'])\n",
    "output_frame = pd.DataFrame(outputs, columns=['Input 1', '  Input 2', '  Linear Combination', '  Activation Output', '  Is Correct'])\n",
    "if not num_wrong:\n",
    "    print('Nice!  You got it all correct.\\n')\n",
    "else:\n",
    "    print('You got {} wrong.  Keep trying!\\n'.format(num_wrong))\n",
    "print(output_frame.to_string(index=False))\n"
   ]
  },
  {
   "cell_type": "markdown",
   "metadata": {},
   "source": [
    "### 2.1.2 OR Perceptron <a class=\"anchor\" id=\"or\"></a>\n",
    "The same can be recognized when looking at the __OR__ operation instead. When trying to find our decision boundary for our data based on the table on the right, we get something like this on the right:\n",
    "\n",
    "<img src='img/Perceptron_OR.png' width = '500'>\n",
    "\n",
    "As you see, also for the execution of an __OR__ operation, the problem can be treated as a linear regression problem for which it is easy to build the decision boundary:\n",
    "<img src='img/Perceptron_OR2.png' width = '500'>\n",
    "\n",
    "If you want to change your weights from an __AND__ to __OR operator__, how would you achieve this? <br>\n",
    "\n",
    "   <input type=\"checkbox\" disabled checked>  increase the weights <br>\n",
    "   <input type=\"checkbox\" disabled> decrease the weights <br>\n",
    "   <input type=\"checkbox\" disabled>  increase a single weight <br>\n",
    "   <input type=\"checkbox\" disabled>  decprease a single weight <br>\n",
    "   <input type=\"checkbox\" disabled>  increase the weights <br>\n",
    "   <input type=\"checkbox\" disabled>  decrease the magnitude of the bias <br>\n",
    "   <input type=\"checkbox\" disabled checked>  increase the magnitude of the bias <br>\n",
    "   \n",
    "### 2.1.3 Exercise: NOT Perceptron <a class=\"anchor\" id=\"not\"></a>\n",
    "__Now it is your turn!__ <br>\n",
    "Try to initialize the paramters in `weight1` and `weight2` and `bias` so that you receive the correct results for the __NOT__ perceptron:"
   ]
  },
  {
   "cell_type": "code",
   "execution_count": 1,
   "metadata": {},
   "outputs": [
    {
     "name": "stdout",
     "output_type": "stream",
     "text": [
      "Nice!  You got it all correct.\n",
      "\n",
      " Input 1    Input 2    Linear Combination    Activation Output   Is Correct\n",
      "       0          0                   0.6                    1          Yes\n",
      "       0          1                  -0.1                    0          Yes\n",
      "       1          0                   0.1                    1          Yes\n",
      "       1          1                  -0.6                    0          Yes\n"
     ]
    }
   ],
   "source": [
    "import pandas as pd\n",
    "\n",
    "# TODO: Set weight1, weight2, and bias\n",
    "weight1 = -0.5\n",
    "weight2 = -0.7\n",
    "bias = 0.6\n",
    "\n",
    "\n",
    "# DON'T CHANGE ANYTHING BELOW\n",
    "# Inputs and outputs\n",
    "test_inputs = [(0, 0), (0, 1), (1, 0), (1, 1)]\n",
    "correct_outputs = [True, False, True, False]\n",
    "outputs = []\n",
    "\n",
    "# Generate and check output\n",
    "for test_input, correct_output in zip(test_inputs, correct_outputs):\n",
    "    linear_combination = weight1 * test_input[0] + weight2 * test_input[1] + bias\n",
    "    output = int(linear_combination >= 0)\n",
    "    is_correct_string = 'Yes' if output == correct_output else 'No'\n",
    "    outputs.append([test_input[0], test_input[1], linear_combination, output, is_correct_string])\n",
    "\n",
    "# Print output\n",
    "num_wrong = len([output[4] for output in outputs if output[4] == 'No'])\n",
    "output_frame = pd.DataFrame(outputs, columns=['Input 1', '  Input 2', '  Linear Combination', '  Activation Output', '  Is Correct'])\n",
    "if not num_wrong:\n",
    "    print('Nice!  You got it all correct.\\n')\n",
    "else:\n",
    "    print('You got {} wrong.  Keep trying!\\n'.format(num_wrong))\n",
    "print(output_frame.to_string(index=False))"
   ]
  },
  {
   "cell_type": "markdown",
   "metadata": {},
   "source": [
    "### 2.1.4 Excercise: Building a XOR Perceptron <a class=\"anchor\" id=\"xor\"></a>\n",
    "Lets start working on our first multilayer perceptron, which also makes the idea of a feedforward neural network more clear. For this purpose lets have a look at the XOR Perceptron (excluding or negating OR)! <br>\n",
    "In comparison to the __AND__, __OR__, and __NOT__ operations it becomes quite hard to draw one single decision boundary:\n",
    "\n",
    "<img src=\"img\\Perceptron_XOR.png\" width = \"500\">\n",
    "\n",
    "For our model we want it to generalise correctly for the four different points (0,0), (0,1), (1,0) and (1,1). Just as for the three other operations you can treat this problem as some kind of regression problem. No matter how you choose your decision boundary on a single neuron, you would end up with a low accuracy. One way of coping with this kind of problem is to change your model in such a way so that the solution can be represented by a linear model. <br>\n",
    "\n",
    "Do you find a way to split this up into our logical operations __AND__, __OR__ and __NOT__?\n",
    "\n",
    "<img src=\"img\\multilayer_perc.png\" width = \"400\">\n",
    "\n",
    "In which places would you place these for A, B and C? <br>\n",
    "If you are not sure draw a logical table!\n",
    "\n",
    "_Solution: A: AND, B: OR, C: NOT_"
   ]
  },
  {
   "cell_type": "markdown",
   "metadata": {},
   "source": [
    "## 2.2 Activation Functions <a class=\"anchor\" id=\"activation_function\"></a>\n",
    "As said before, you can see a neuron as some kind of \"gate\" which fires as soon as it passes a certain activation. The easiest and most well known activation functions are the __step function__ and the __sigmoid function__ .\n",
    "\n",
    "The __step function__ is probably the most widely known function which acts as a kind of threshold when a certain value is reached. It returns a binary value. However, to map complex input data to output data nonlinear functions are preferred due to the reasons mentioned below [[14]](https://missinglink.ai/guides/neural-network-concepts/7-types-neural-network-activation-functions-right/):\n",
    "\n",
    "- They allow backpropagation because they have a derivative function which is related to the inputs.\n",
    "- They allow “stacking” of multiple layers of neurons to create a deep neural network. Multiple hidden layers of neurons are needed to learn complex data sets with high levels of accuracy.\n",
    "\n",
    "One of the most well known continuous nonlinear functions is the __sigmoid function__ which returns a probability value between 0 and 1:\n",
    "\n",
    "$$\\begin{align}\n",
    "y = \\frac{1}{1+e^{-x}}\n",
    "\\label{eq:sigmoid}\\tag{4}\n",
    "\\end{align}$$\n",
    "\n",
    "- Smooth gradient, preventing from jumps in output values (such as in the case of the step function).\n",
    "- Output values bound between 0 and 1, normalizing the output of each neuron.\n",
    "- Clear predictions—For X above 2 or below -2, tends to bring the Y value (the prediction) to the edge of the curve, very close to 1 or 0. This enables clear predictions.\n",
    "\n",
    "\n"
   ]
  },
  {
   "cell_type": "code",
   "execution_count": 247,
   "metadata": {},
   "outputs": [],
   "source": [
    "def step_func(x):\n",
    "    r'''Step function\n",
    "    \n",
    "    Step function that outputs a 1 if the x is positive otherwise 0\n",
    "    args:\n",
    "    ----------\n",
    "    x: np.array\n",
    "    '''\n",
    "    #if x >= 0:\n",
    "        #return torch.tensor((1))\n",
    "    #    return torch.tensor((lambda _ : 1+_*0.00000001))\n",
    "    #else:\n",
    "    #    y = [[0]]\n",
    "    #return torch.tensor(y)\n",
    "    return 1 * (torch.tensor(x)>1)\n",
    "\n",
    "    \n",
    "def sigmoid_func(x):\n",
    "    r'''Sigmoid activation function\n",
    "        \n",
    "        Sigmoid activation function that outputs a value/probability between 0 and 1\n",
    "        args:\n",
    "        ----------\n",
    "        x: torch.tensor\n",
    "        \n",
    "    '''\n",
    "    return 1/(1+torch.exp(-x))\n",
    "\n",
    "def tanh_func(x):\n",
    "    r'''Tanh activation function\n",
    "        \n",
    "        Tanh activation function that outputs a value/probability between 0 and 1\n",
    "        args:\n",
    "        ----------\n",
    "        x: torch.tensor\n",
    "        \n",
    "    '''\n",
    "    return ((torch.exp(x)-torch.exp(-x))/(torch.exp(x)+torch.exp(-x)))"
   ]
  },
  {
   "cell_type": "code",
   "execution_count": 248,
   "metadata": {
    "scrolled": true
   },
   "outputs": [
    {
     "data": {
      "image/png": "[encoded data removed]",
      "text/plain": [
       "<Figure size 504x288 with 1 Axes>"
      ]
     },
     "metadata": {
      "image/png": {
       "height": 248,
       "width": 442
      },
      "needs_background": "light"
     },
     "output_type": "display_data"
    }
   ],
   "source": [
    "from ipykernel import kernelapp as app\n",
    "import numpy as np\n",
    "import matplotlib.pyplot as plt\n",
    "import torch\n",
    "\n",
    "x = np.arange(-5, 5, 0.01)\n",
    "\n",
    "plt.figure(figsize = (7,4))\n",
    "plt.plot(x, step_func(torch.as_tensor(x).numpy()), color = 'b', label ='step')\n",
    "plt.plot(x, sigmoid_func(torch.tensor(x)), color = 'r', label = 'sigmoid')\n",
    "plt.plot(x, tanh_func(torch.as_tensor(x)), color = 'g', label = 'tanh')\n",
    "plt.legend()\n",
    "plt.show()"
   ]
  },
  {
   "cell_type": "markdown",
   "metadata": {},
   "source": [
    "To refresh your knowledge about activation functions from the lecture, have a look at [[15]](https://missinglink.ai/guides/neural-network-concepts/7-types-neural-network-activation-functions-right/). However, keep in mind that even an activation function requires optimization for itself. For this reason, a heavy research also have been in improving the activation function to allow for good generalization of your task. To read some adaptive approach for learning the right activation function for each neuron seperately, have a look at the [paper](https://arxiv.org/pdf/1412.6830.pdf) published at the ICLR 2015.\n",
    "\n",
    "\n",
    "## Exercise:\n",
    "A generalization of the __sigmoid__ function for the multinomial case is the __softmax__ function. This is of interest when the probablilites associated with a multinoulli distribution should be computed [[16]](https://www.deeplearningbook.org/contents/mlp.html). It is defined by \n",
    "\n",
    "$$\\begin{align}\n",
    "y(x) = \\frac{e^{-x}}{\\sum_i^n e^{-x_i}}.\n",
    "\\label{eq:softmax}\\tag{5}\n",
    "\\end{align}$$\n",
    "\n",
    "__Now it is your turn!__ <br>\n",
    "For a given list $L$ of length $n$, write a function `softmax` that applies the above function.\n",
    "\n",
    "\n"
   ]
  },
  {
   "cell_type": "code",
   "execution_count": 8,
   "metadata": {},
   "outputs": [
    {
     "name": "stdout",
     "output_type": "stream",
     "text": [
      "[1, 4, 2, 32, 1, 75, 84, 34, 43]\n",
      "[8.984717141867128e-37, 1.8046286789736938e-35, 2.4422993340581905e-36, 2.609956975388697e-23, 8.984717141867128e-37, 0.00012339457598623172, 0.9998766054240139, 1.9285118506942448e-22, 1.5626893381499193e-18]\n"
     ]
    }
   ],
   "source": [
    "import numpy as np\n",
    "\n",
    "## to be done by the students\n",
    "L = [1, 4, 2, 32, 1, 75, 84, 34, 43]\n",
    "\n",
    "def softmax(L):\n",
    "    exL = np.exp(L)\n",
    "    sumExL = sum(exL)\n",
    "    res = [] #empty list in which results are stored\n",
    "    for i in exL:\n",
    "        res.append(i*1/sumExL)\n",
    "    return res \n",
    "\n",
    "print(L)\n",
    "print(softmax(L))"
   ]
  },
  {
   "cell_type": "markdown",
   "metadata": {},
   "source": [
    "## __Did you notice that for two classes the softmax function is the equivalent of the sigmoid activation function?__\n",
    "\n",
    "\n",
    "## 2.3 Optimization <a class=\"anchor\" id=\"optim\"></a>\n",
    "When training a neural network there are a bunch of hyperparameters to optimize:\n",
    "\n",
    "1. number of layers and neurons\n",
    "2. learning rate\n",
    "3. batch size\n",
    "4. momentum\n",
    "5. number of epochs\n",
    "6. dropout\n",
    "7. activation function\n",
    "\n",
    "\n",
    "To determine the hyperparamters of our neural network we usually try to minimize or maximize a specific __objective function__ $f(\\cdot)$. <br>\n",
    "By choosing a specific optimization criteria we are able to validate our results so that in the case of minimization of a function (in this case we often talk about a __loss function__, or __cost function__) we try to \n",
    "\n",
    "$$\n",
    "\\begin{equation*}\n",
    "x^* = \\text{arg min } f(x).\n",
    "\\label{eq:optim}\\tag{6}\n",
    "\\end{equation*}\n",
    "$$\n",
    "\n",
    "To do so, a well known optimization technique is te __Gradient Descent__ algorithm. Based on the initial starting paramters and a specified step size, we are trying to find the global optimum. This is usually done by following the gradient of the function. One downside of this algorithm is that it is very much dependent on the chosen step size. When choosing the step size (in machine learning also often well-known as our learning rate) too high we are very much likely to miss our global optimum. When choosing the step size too small, the training procedure takes very long and, therefore, shows a slow convergence to the global solution. Furthermore, it is very likely to get trapped within a local minima/maxima. In case of deep learning this is often referred as __Batch Gradient Decent__ where the optimization takes place based on the entire training dataset [[17]](https://arxiv.org/pdf/1609.04747.pdf). Another optimization technique usually preferred is the __stochachastic gradient decent (SGD)__ which optimizes based on each training sample. Another optimization technique in deep learning which have become popular is the __Adam__ which allows to optimize based on adaptive learning rates by incoorperating the momentum.\n",
    "\n",
    "\n",
    "\n",
    "## 2.4 Training and Testing <a class=\"anchor\" id=\"TNT\"></a>\n"
   ]
  },
  {
   "cell_type": "markdown",
   "metadata": {},
   "source": [
    "One of the key goals when training a neural network is that it is able to generalize well on _new, unseen_ data. This takes as a prerequisite that the training dataset is \"rich\" enough both on containing enough training samples but also of being able to reflect the world. This task in machine learning can quite hard to accomplish! <br>\n",
    "\n",
    "When training a neural network we prefer to split our dataset into a training and testing dataset, for which a split of 70:30 has become a \"rule of thumb\". When starting to tune our hyperparameters we try to optimize some kind of __training error__ which we have choosen previously. For this, we usually start by trying to maximize our accuracy (or minimizing our loss). \n",
    "\n",
    "So far this is just a simple optimization problem. One of our goals in machine learning though is to also being able to generalize well. For this we also look at the __test error__ which we get based on the testing dataset. As you can probably already guess it becomes quite important to choose a test dataset which does not contain any samples from the training dataset, as this would underestimate our test error. However, one important assumption made is that both training and testing dataset are generated based on the same underlying probability distribution. A usual assumption for this is that the samples are __independent, identically distributed__. This assumption is what actually makes us able to study the relationship between the training and test error in mathematical terms! <br>\n",
    "\n",
    "Hence, to know weither a model is training well we look at 1.) if the training error or loss is decreasing and 2.) look at the difference of training and test error. __When starting our training procedure we generally first prefer to overfit than underfit our data!__ But what do we mean with underfitting and overfitting? <br>\n",
    "\n",
    "We are talking about __underfitting__ when we our error rate within the different epochs is not decreasing as expected. On the other hand, __overfitting__ occurs when the gap between training and testing error is too large. This becomes more evident when having a loop at the following graphic retrieved from the slides publicly available by Goodfellow [[18]](https://www.deeplearningbook.org/slides/05_ml.pdf):\n",
    "\n",
    "<img src='img\\overfitting_underfitting.png' width=\"500\">\n",
    "\n",
    "Here you are trying to find the optimal capacity so that we neither reach the point that our model starts to underfit oder overfit based on the input data. In case of underfitting, we are not able achieve the optimal learning. When reducing the error rate of the training of the model further, some kind of overfitting might take place where the decision boundary becomes very close to the data points from the training dataset. Nonetheless, this has the effect that it is not able to generalize well on new data points. <br>\n",
    "\n",
    "<div class=\"alert alert-block alert-info\"><b> Reminder: <br>\n",
    "    Test error: estimate the expected value of some predefined error metric based on a new input <br>\n",
    "    Overfitting: often also refered as the \"memorization\" of the  results<br>\n",
    "    Underfitting: not able to reach a sufficiently low error rate since the model is not able to learn properly <br>\n",
    "    </b>\n",
    "    \n"
   ]
  },
  {
   "cell_type": "markdown",
   "metadata": {},
   "source": [
    "### Theoretical questions\n",
    "\n",
    "1. What kind of phenomenon might occur when designing your model based on both training and test set? <br>\n",
    "        \n",
    "        One risk when evaluation the error rate of both training and test dataset is that when tuning our model, we might start to overfit both of them. We, therefore, adivce the introduction of a validation dataset. We first tune our weights and biases in the training datset and validate the model by using a validation datset. The testing set is only touched at the very end when the training was successful. \n",
    "        \n",
    "2. We neither like our model to under- nor overfit. Why do you think overfitting is preferred when training, even though the generalization gap is becoming larger?\n",
    "        \n",
    "        Underfitting generally means that our model is not able to adapt well on the given training dataset. It is therefore of no surprise that our model will also not adapt well to the testing dataset. When overfitting occurs, we have the problem that our model started memorize the results. However, this has the advantage that we know that our model is appropriate for our application. There are different ways of coping with overfitting, for example by including cross-validation or by introducing some kind of regularization."
   ]
  },
  {
   "cell_type": "markdown",
   "metadata": {},
   "source": [
    "# 3. Training Neural Networks with Pytorch <a class=\"anchor\" id=\"Pytorch\"></a>\n",
    "In our first lecture, we briefly discussed the different frameworks available in Python. Pytorch has the convenience of allowing some kind of \"wrapper\" to the `numpy` package, allowing for a quick conversion between both tensors (as used in pytorch) to numpy arrays [[19]](https://pytorch.org/tutorials/beginner/former_torchies/tensor_tutorial.html). Furthermore, it allows for executing accelerated computations using your own GPU by writing a simple one-liner. For more details on this see [[20]](https://pytorch.org/docs/stable/cuda.html) and [[21]](https://pytorch.org/docs/stable/notes/cuda.html). \n",
    "\n",
    "## 3.1 Installation of pytorch package <a class=\"anchor\" id=\"installation\"></a>\n",
    "To install pytorch lets go onto the following [page](https://pytorch.org/).\n",
    "\n",
    "To do the installation within the `jupyter notebook` use the below command. When doing installations within the notebook we advice you to use the command `!conda install --yes --prefix {sys.prefix}` instead of `!conda install`. The reason why we advice you to do so is that both python and the shell environment are disconnected. To read more on this look at [[22]](https://jakevdp.github.io/blog/2017/12/05/installing-python-packages-from-jupyter/)."
   ]
  },
  {
   "cell_type": "code",
   "execution_count": 90,
   "metadata": {
    "scrolled": true
   },
   "outputs": [],
   "source": [
    "import sys\n",
    "!conda install --yes --prefix {sys.prefix} conda install pytorch torchvision cpuonly -c pytorch"
   ]
  },
  {
   "cell_type": "markdown",
   "metadata": {},
   "source": [
    "## 3.2 Single layer neural network <a class=\"anchor\" id=\"single_layer\"></a>\n",
    "As already mentioned, `pytorch` easily allows to convert tensors to `numpy` arrays. To see this effect of equation ([1](#sum_weighted_inputs)) better, lets try to apply to simulate some random normal distributed data and pass it to a single neuron. Based on our object `y`, we can afterwards have a look at the effect of using different activation functions:"
   ]
  },
  {
   "cell_type": "code",
   "execution_count": 258,
   "metadata": {},
   "outputs": [
    {
     "name": "stdout",
     "output_type": "stream",
     "text": [
      "tensor([[0.4011]])\n",
      "sigmoid function: tensor([[0.5989]])\n",
      "step function: tensor([[0]])\n",
      "tanh function: tensor([[0.3809]])\n"
     ]
    },
    {
     "name": "stderr",
     "output_type": "stream",
     "text": [
      "C:\\Users\\Dominique.AW\\Anaconda3\\lib\\site-packages\\ipykernel_launcher.py:15: UserWarning: To copy construct from a tensor, it is recommended to use sourceTensor.clone().detach() or sourceTensor.clone().detach().requires_grad_(True), rather than torch.tensor(sourceTensor).\n",
      "  from ipykernel import kernelapp as app\n"
     ]
    }
   ],
   "source": [
    "import torch\n",
    "\n",
    "### Generate artificial data\n",
    "torch.manual_seed(123)\n",
    "\n",
    "# output mostly given as a tuple such an this case\n",
    "# other dtypes also possible by proving the argument 'dtype = torch.float'\n",
    "# 5 input features drawn from random normal distribution\n",
    "features = torch.randn((1,5)) \n",
    "\n",
    "#set weights for data; randn_like reuses properties / shape of the input object/tensor \"features\"\n",
    "weights = torch.randn_like(features)\n",
    "\n",
    "#true bias\n",
    "bias = torch.randn((1,1))\n",
    "\n",
    "y = torch.sum(features * weights) + bias\n",
    "y1 = sigmoid_func(torch.sum(features * weights) + bias)\n",
    "y2 = step_func(torch.sum(features * weights) + bias)\n",
    "y3 = tanh_func(torch.sum(features * weights) + bias)\n",
    "\n",
    "print(y)\n",
    "print(\"sigmoid function:\", y1)\n",
    "print(\"step function:\", y2)\n",
    "print(\"tanh function:\", y3)"
   ]
  },
  {
   "cell_type": "markdown",
   "metadata": {},
   "source": [
    "Do you remember our equation ([1](#sum_weighted_inputs)) from the top? Lets compute for a single layer network! <br>\n",
    "\n",
    "For this we first have to load the package pytorch by `import torch`. To guarantee the reproducibility of our code we set a manual seed by using the function `torch.manual_seed()`.To see the magic behind a single layer neural net, we first generate some data from a normal distribution. Lets look at each line separately:\n",
    "\n",
    "`features = torch.randn((1,5))` creates a tensor of shape (1,5) with one row and five columns whose values are drawn from a normal distribution with $\\mu=0$ and $\\sigma=1$ <br>\n",
    "`weights = torch.randn_like(features)` creates another tensor with the samee shape / properties as the ones in `features`. <br>\n",
    "`bias = torch.randn((1,1))` creates a tensor with a single value from a normal distribution <br>\n",
    "\n",
    "The object `y` contains all the weighted inputs $x_1, x_2, \\cdots, x_n$ according to equation ([1](#sum_weighted_inputs)). In the variables `y1`, `y2` and `y3` we apply the different activation functions which we have introduced in section [2.2](#activation_function).\n",
    "\n",
    "You can look at tensors as an instance of a matrix. Just as with numpy array, tensors in pytorch allow you to do arithmetic operations such as multiplication, addition, subtraction etc. However, the benefits become noticable when your neural network becomes more rich in size (then often talking about deep neural networks) and data. In this case, GPU acceleration allows you to achieve the same performance in less computational time. \n",
    "__citation__"
   ]
  },
  {
   "cell_type": "code",
   "execution_count": 11,
   "metadata": {},
   "outputs": [],
   "source": [
    "y_torch = sigmoid_func(torch.sum(features * weights) + bias)\n",
    "y_numpy = sigmoid_func((features * weights).sum() + bias)"
   ]
  },
  {
   "cell_type": "markdown",
   "metadata": {},
   "source": [
    "Within the object `y_torch` we execute an element-by-element multiplication of the objects `features` and `weights` by using the package __pytorch__ whereas in `y_torch` a summation of a tensor is done for __each array__ [[23]](https://github.com/pytorch/pytorch/issues/29137) [[24]](https://pytorch.org/docs/master/torch.html?highlight=torch%20max#torch.einsum) [[25]](https://docs.scipy.org/doc/numpy/reference/generated/numpy.sum.html)."
   ]
  },
  {
   "cell_type": "markdown",
   "metadata": {},
   "source": [
    "# 4. Classification on MNIST Dataset <a class=\"anchor\" id=\"mnist\"></a>\n",
    "For the start lets have a look at the __Fashion MNIST Dataset__ which is freely available within the _dataset_ module in torchvision [[26]](https://pytorch.org/docs/stable/torchvision/datasets.html)."
   ]
  },
  {
   "cell_type": "code",
   "execution_count": 1,
   "metadata": {},
   "outputs": [],
   "source": [
    "#import sys\n",
    "#!conda install --yes --prefix {sys.prefix} \"pillow<7\""
   ]
  },
  {
   "cell_type": "code",
   "execution_count": 1,
   "metadata": {},
   "outputs": [],
   "source": [
    "### Run this cell\n",
    "import torch\n",
    "from torchvision import datasets, transforms\n",
    "\n",
    "# Define a transform to normalize the data\n",
    "transform = transforms.Compose([transforms.ToTensor(),\n",
    "                                transforms.Normalize((0.5,), (0.5,))])\n",
    "\n",
    "# Download and load the training data\n",
    "trainset = datasets.FashionMNIST('~/.pytorch/F_MNIST_data/', download=True, train=True, transform=transform)\n",
    "trainloader = torch.utils.data.DataLoader(trainset, batch_size=64, shuffle=True)\n",
    "\n",
    "# Download and load the test data\n",
    "testset = datasets.FashionMNIST('~/.pytorch/F_MNIST_data/', download=True, train=False, transform=transform)\n",
    "testloader = torch.utils.data.DataLoader(testset, batch_size=64, shuffle=True)\n"
   ]
  },
  {
   "cell_type": "code",
   "execution_count": 14,
   "metadata": {},
   "outputs": [
    {
     "data": {
      "text/plain": [
       "Dataset FashionMNIST\n",
       "    Number of datapoints: 60000\n",
       "    Root location: C:\\Users\\Dominique.AW/.pytorch/F_MNIST_data/\n",
       "    Split: Train\n",
       "    StandardTransform\n",
       "Transform: Compose(\n",
       "               ToTensor()\n",
       "               Normalize(mean=(0.5,), std=(0.5,))\n",
       "           )"
      ]
     },
     "execution_count": 14,
     "metadata": {},
     "output_type": "execute_result"
    }
   ],
   "source": [
    "trainset"
   ]
  },
  {
   "cell_type": "markdown",
   "metadata": {},
   "source": [
    "When working with image data we always normalize our data beforehand. This is done by specifying the transformations beforehand with the object `transform` chained together with `Compose` [[27]](https://pytorch.org/docs/stable/torchvision/transforms.html). We will refer again to this when talking about data augmentation! <br>\n",
    "\n",
    "Afterwards we load our training and test dataset. Pytorch (and also python APIs such as _keras_ ) already contains a range of freely available datasets. Other well-known datasets are for instance the MNIST handwriting dataset but also many other ones from various \"coding challenges\" [[28]](https://pytorch.org/docs/stable/torchvision/datasets.html#cifar). <br>\n",
    "\n",
    "In `trainset` we specify what kind of dataset to load, whether we want to load the training or test set (pass _True_ for the argument train and _False_ for the testing set) and what kind of transform to execute beforehand.\n",
    "To load the data in `trainloader`, we first specify the size of the batch which should be loaded within the `batch_size` and turn the `shuffle` to _True_. We do the same for the objects `testset` and `testloader`, however, we have to note that the shuffling process is only adviced during training.\n",
    "\n",
    " <div class=\"alert alert-block alert-info\"><b>Reminder: <br>\n",
    "    batch size: specifies the number of training example we feed on our model before we update our hyperparameters <br>\n",
    "    shuffle: randomizing the of order of the images so our model will not start to memorize the order \n",
    "</b> \n",
    "    "
   ]
  },
  {
   "cell_type": "markdown",
   "metadata": {},
   "source": [
    "To visualize specific data from the training dataset (or testing dataset) we are going to import some functions contained within `helper_func` made publically available by _Udacity_ :"
   ]
  },
  {
   "cell_type": "code",
   "execution_count": null,
   "metadata": {
    "scrolled": false
   },
   "outputs": [],
   "source": [
    "import helper_func\n",
    "\n",
    "image, label = next(iter(trainloader))\n",
    "helper_func.imshow(image[0,:], title = \"Image from training dataset\")"
   ]
  },
  {
   "cell_type": "markdown",
   "metadata": {},
   "source": [
    "When using `DataLoader` keep in mind that it is a generator. To retrieve the item, one possibility is to use the function `next()` during each iteration specified by the function `iter()` [[29]](https://docs.python.org/3/library/functions.html#next). Another possibility would be to iterate over it by using a `for` loop.\n"
   ]
  },
  {
   "cell_type": "markdown",
   "metadata": {},
   "source": [
    "## 4.1 Building the Neural Network <a class=\"anchor\" id=\"building\"></a>\n",
    "For now we were able to load our training and test data successfully!!! <br>\n",
    "Lets start defining our first model in our class __Classifier__ below.\n",
    "For that purpose we first import the `nn` and `optim` module which enable us to define the structure of our neural net and allow us to optimize our hyperparameters during training."
   ]
  },
  {
   "cell_type": "code",
   "execution_count": 8,
   "metadata": {},
   "outputs": [],
   "source": [
    "from torch import nn, optim\n",
    "import torch.nn.functional as F"
   ]
  },
  {
   "cell_type": "code",
   "execution_count": 9,
   "metadata": {},
   "outputs": [],
   "source": [
    "class Classifier(nn.Module):\n",
    "    def __init__(self):\n",
    "        super().__init__()\n",
    "        self.fc1 = nn.Linear(784, 256)\n",
    "        self.fc2 = nn.Linear(256, 128)\n",
    "        self.fc3 = nn.Linear(128, 64)\n",
    "        self.fc4 = nn.Linear(64, 10)\n",
    "        \n",
    "    def forward(self, x):\n",
    "        # make sure input tensor is flattened\n",
    "        x = x.view(x.shape[0], -1)\n",
    "        \n",
    "        x = F.relu(self.fc1(x))\n",
    "        x = F.relu(self.fc2(x))\n",
    "        x = F.relu(self.fc3(x))\n",
    "        x = F.log_softmax(self.fc4(x), dim=1)\n",
    "        \n",
    "        return x"
   ]
  },
  {
   "cell_type": "markdown",
   "metadata": {},
   "source": [
    "Within our constructor `__init__` we first define the layers of our neural net should have. In the above example we define four __fully connected layers__ `fc1`, `fc2`, `fc3` and `fc4`. For `self.fc1 = nn.Linear(784, 256)` we specify the filter size of our kernel by assigning the 784 input features and 256 output features. These 256 output features are afterwards passed to the next layer. This process is quite typically to do some kind of __feature reduction__. For a better understanding: the 784 features derive from the number of pixels which in our case are (28x28 pixels in length and width). Another argument that can be passed is the `bias` which was not considered within our above example [[30]](https://pytorch.org/docs/stable/nn.html#linear-layers). <br>\n",
    "\n",
    "In our method `forward` we define what kind of activation function that should be used within each layer. For instance, in `F.relu(self.fc1(x))` we directly pass the ReLu activation function on our weighted inputs. To do so, make sure in advance that your input tensor is flattend! <br>\n",
    "The activation function to choose at the last layer very much depends on the kind of application we are intending to do. In our case, we are dealing with a __classification problem__ where we want to classify the different input images to a specified class. To do so, a (log) softmax activation function is usually applied to give you the probability a input is assigned to each output class: <br>\n",
    "`x = F.log_softmax(self.fc4(x), dim=1)`\n",
    "\n",
    "In pytorch you only have to define the forward pass. The backward pass is already implemented in pytorch using autograd.\n",
    "\n",
    "\n",
    "<div class=\"alert alert-block alert-info\"><b>Reminder: <br>\n",
    "    Flattening: converting a 2D array (for instance an image) into a 1D vector <br>    \n",
    "</b>\n"
   ]
  },
  {
   "cell_type": "markdown",
   "metadata": {},
   "source": [
    "## 4.2 Training the Neural Network <a class=\"anchor\" id=\"training\"></a>\n",
    "Based on the specified architecture we mentioned before, we can now start training our neural network based on the training dataset."
   ]
  },
  {
   "cell_type": "code",
   "execution_count": 10,
   "metadata": {},
   "outputs": [
    {
     "name": "stdout",
     "output_type": "stream",
     "text": [
      "Classifier(\n",
      "  (fc1): Linear(in_features=784, out_features=256, bias=True)\n",
      "  (fc2): Linear(in_features=256, out_features=128, bias=True)\n",
      "  (fc3): Linear(in_features=128, out_features=64, bias=True)\n",
      "  (fc4): Linear(in_features=64, out_features=10, bias=True)\n",
      ")\n"
     ]
    }
   ],
   "source": [
    "LEARNING_RATE = 0.0003\n",
    "\n",
    "model = Classifier()\n",
    "criterion = nn.NLLLoss()\n",
    "optimizer = optim.Adam(model.parameters(), lr=LEARNING_RATE)\n",
    "\n",
    "print(model)"
   ]
  },
  {
   "cell_type": "markdown",
   "metadata": {},
   "source": [
    "For this we first create a `model` as an instance of our class `Classifier()`. Afterwards we define the criterion on which our optimisation should be based on. `NLLLoss()` computes the __negative log likelihood loss__. This is based on the assumption that you are trying to maximize the likelihood of choosing the optimal weights. When looking at a classification problem this is equivalent to the also well-known __cross entropy loss__ [[31]](https://discuss.pytorch.org/t/difference-between-cross-entropy-loss-or-log-likelihood-loss/38816/2). \n",
    "\n",
    "Above in section 2.2 we talked about the different optimizers to use. This is specified in the below example by choosing `Adam` as the optimization technique of our choice. However, there are many other optimizeres already available within __pytorch__ which can be found [here](https://pytorch.org/docs/stable/optim.html). For instance, an extension of the above mentionend gradient decent is the implementation of SGD (stochastic gradient decent) which picks a data point from the dataset at random during each iteration [[32]](https://developers.google.com/machine-learning/crash-course/reducing-loss/stochastic-gradient-descent). The optimization heavily depends on the __learning rate__ that is set beforehand. The learning rate describes the step to take during each iteration of the learning process and can take a value between 0 and 1. It is one of our other hyperparameters which has to finetuned. A low learning rate leads to a slow learning process but guarantees a good smooth convergence to your global optimum. To speed up the learning process one often increases the learning rate, however, this can lead that we are not able to converge. \n",
    "\n",
    "Pytorch already contains a variety of loss criteria and optimizers implemented. A thorough documentation can be found on [[33]](https://pytorch.org/docs/stable/nn.html).\n",
    "\n",
    "<div div class=\"alert alert-block alert-info\"><b>Reminder: <br>\n",
    "learning rate: describes the step size to take during the learning process\n",
    "</b>"
   ]
  },
  {
   "cell_type": "code",
   "execution_count": 11,
   "metadata": {},
   "outputs": [
    {
     "name": "stdout",
     "output_type": "stream",
     "text": [
      "Training loss: 0.5929106589891254\n",
      "Training loss: 0.4057030280166343\n",
      "Training loss: 0.36281731897897557\n",
      "Training loss: 0.3343141763639857\n",
      "Training loss: 0.31457312089770334\n"
     ]
    }
   ],
   "source": [
    "#TODO: Train the neural network\n",
    "EPOCHS = 5\n",
    "\n",
    "for e in range(EPOCHS):\n",
    "    running_loss = 0\n",
    "    for images, labels in trainloader:\n",
    "        log_ps = model(images)\n",
    "        loss = criterion(log_ps, labels)\n",
    "        \n",
    "        optimizer.zero_grad()\n",
    "        loss.backward()\n",
    "        optimizer.step()\n",
    "        \n",
    "        running_loss += loss.item()\n",
    "    else:\n",
    "        print(f\"Training loss: {running_loss/len(trainloader)}\")"
   ]
  },
  {
   "cell_type": "markdown",
   "metadata": {},
   "source": [
    "For our training, we first decide on the epoch size which we set to `EPOCHS = 5` (please keep in mind that the value of the epoch size is usuallymuch higher!). As the first for loop already indicates, the number of __epochs__ define the number of times the training data is fed to the neural network. To validate the result of each training epoch, the training loss and accuracy is usually evaluated. For each training epoch you can recognize a decrease in the training loss. These values become even more important later on, when evaluating our results in comparison to our test data set. \n",
    "\n",
    "For each epoch we run our model saved in `log_ps`. Furthermore, we determine the loss for each iteration saved in `loss = criterion(log_ps, labels)`. In `loss.backward()` we determine the derivative with respect to the previous parameters when doing backpropagation. In `optimizer.step()` we take a step forward. \n",
    "\n",
    "In pytorch the gradient is accumulated during on subsequent backward passes. This becomes very helpful when training recurrent networks. However, for our application these should be set back to zero [[34]](https://stackoverflow.com/questions/48001598/why-do-we-need-to-call-zero-grad-in-pytorch). `optimizer.zero_grad()` makes sure that when iterating through the epochs the gradient is set back to zero to avoid accumulation of the error.\n",
    "        \n",
    "<div class=\"alert alert-block alert-info\"><b>Reminder: <br>\n",
    "Epochs: epochs define the number of times the training data is shown to the network during training\n",
    "</b>"
   ]
  },
  {
   "cell_type": "code",
   "execution_count": 1,
   "metadata": {},
   "outputs": [
    {
     "name": "stderr",
     "output_type": "stream",
     "text": [
      "Duplicate key in file WindowsPath('C:/Users/Dominique.AW/Anaconda3/lib/site-packages/matplotlib/mpl-data/stylelib/style.mplstyle') line #24.\n",
      "Duplicate key in file WindowsPath('C:/Users/Dominique.AW/Anaconda3/lib/site-packages/matplotlib/mpl-data/stylelib/style.mplstyle') line #75.\n",
      "Duplicate key in file WindowsPath('C:/Users/Dominique.AW/Anaconda3/lib/site-packages/matplotlib/mpl-data/stylelib/style.mplstyle') line #77.\n",
      "Duplicate key in file WindowsPath('C:/Users/Dominique.AW/Anaconda3/lib/site-packages/matplotlib/mpl-data/stylelib/style.mplstyle') line #92.\n",
      "\n",
      "Bad key \"loc\" on line 9 in\n",
      "C:\\Users\\Dominique.AW\\Anaconda3\\lib\\site-packages\\matplotlib\\mpl-data\\stylelib\\style.mplstyle.\n",
      "You probably need to get an updated matplotlibrc file from\n",
      "https://github.com/matplotlib/matplotlib/blob/v3.2.2/matplotlibrc.template\n",
      "or from the matplotlib source distribution\n",
      "\n",
      "Bad key \"ytick.major.top\" on line 70 in\n",
      "C:\\Users\\Dominique.AW\\Anaconda3\\lib\\site-packages\\matplotlib\\mpl-data\\stylelib\\style.mplstyle.\n",
      "You probably need to get an updated matplotlibrc file from\n",
      "https://github.com/matplotlib/matplotlib/blob/v3.2.2/matplotlibrc.template\n",
      "or from the matplotlib source distribution\n",
      "\n",
      "Bad key \"ytick.major.bottom\" on line 71 in\n",
      "C:\\Users\\Dominique.AW\\Anaconda3\\lib\\site-packages\\matplotlib\\mpl-data\\stylelib\\style.mplstyle.\n",
      "You probably need to get an updated matplotlibrc file from\n",
      "https://github.com/matplotlib/matplotlib/blob/v3.2.2/matplotlibrc.template\n",
      "or from the matplotlib source distribution\n"
     ]
    },
    {
     "ename": "NameError",
     "evalue": "name 'testloader' is not defined",
     "output_type": "error",
     "traceback": [
      "\u001b[1;31m---------------------------------------------------------------------------\u001b[0m",
      "\u001b[1;31mNameError\u001b[0m                                 Traceback (most recent call last)",
      "\u001b[1;32m<ipython-input-1-0f940ddaaff1>\u001b[0m in \u001b[0;36m<module>\u001b[1;34m\u001b[0m\n\u001b[0;32m      5\u001b[0m \u001b[1;33m\u001b[0m\u001b[0m\n\u001b[0;32m      6\u001b[0m \u001b[1;31m# Test out your network!\u001b[0m\u001b[1;33m\u001b[0m\u001b[1;33m\u001b[0m\u001b[1;33m\u001b[0m\u001b[0m\n\u001b[1;32m----> 7\u001b[1;33m \u001b[0mdataiter\u001b[0m \u001b[1;33m=\u001b[0m \u001b[0miter\u001b[0m\u001b[1;33m(\u001b[0m\u001b[0mtestloader\u001b[0m\u001b[1;33m)\u001b[0m\u001b[1;33m\u001b[0m\u001b[1;33m\u001b[0m\u001b[0m\n\u001b[0m\u001b[0;32m      8\u001b[0m \u001b[0mimages\u001b[0m\u001b[1;33m,\u001b[0m \u001b[0mlabels\u001b[0m \u001b[1;33m=\u001b[0m \u001b[0mdataiter\u001b[0m\u001b[1;33m.\u001b[0m\u001b[0mnext\u001b[0m\u001b[1;33m(\u001b[0m\u001b[1;33m)\u001b[0m\u001b[1;33m\u001b[0m\u001b[1;33m\u001b[0m\u001b[0m\n\u001b[0;32m      9\u001b[0m \u001b[0mimg\u001b[0m \u001b[1;33m=\u001b[0m \u001b[0mimages\u001b[0m\u001b[1;33m[\u001b[0m\u001b[1;36m0\u001b[0m\u001b[1;33m]\u001b[0m\u001b[1;33m\u001b[0m\u001b[1;33m\u001b[0m\u001b[0m\n",
      "\u001b[1;31mNameError\u001b[0m: name 'testloader' is not defined"
     ]
    }
   ],
   "source": [
    "%matplotlib inline\n",
    "%config InlineBackend.figure_format = 'retina'\n",
    "\n",
    "import helper_func\n",
    "\n",
    "# Test out your network!\n",
    "dataiter = iter(testloader)\n",
    "images, labels = dataiter.next()\n",
    "img = images[0]\n",
    "\n",
    "# TODO: Calculate the class probabilities (softmax) for img\n",
    "ps = torch.exp(model(img))\n",
    "\n",
    "# Plot the image and probabilities\n",
    "helper_func.view_classify(img, ps, \"Fashion\")"
   ]
  },
  {
   "cell_type": "markdown",
   "metadata": {},
   "source": [
    "## 4.3 Training and testing <a class=\"anchor\" id=\"test_val\"></a>\n",
    "For now lets assume that we are only considering training and testing dataset. To see how well our model is doing both on training and testing dataset we first load just as within the previous example."
   ]
  },
  {
   "cell_type": "code",
   "execution_count": 281,
   "metadata": {},
   "outputs": [],
   "source": [
    "import torch\n",
    "from torchvision import datasets, transforms\n",
    "\n",
    "# Define a transform to normalize the data\n",
    "transform = transforms.Compose([transforms.ToTensor(),\n",
    "                                transforms.Normalize((0.5,), (0.5,))])\n",
    "# Download and load the training data\n",
    "trainset = datasets.FashionMNIST('~/.pytorch/F_MNIST_data/', download=True, train=True, transform=transform)\n",
    "trainloader = torch.utils.data.DataLoader(trainset, batch_size=64, shuffle=True)\n",
    "\n",
    "# Download and load the test data\n",
    "testset = datasets.FashionMNIST('~/.pytorch/F_MNIST_data/', download=True, train=False, transform=transform)\n",
    "testloader = torch.utils.data.DataLoader(testset, batch_size=64, shuffle=True)"
   ]
  },
  {
   "cell_type": "code",
   "execution_count": 282,
   "metadata": {},
   "outputs": [],
   "source": [
    "from torch import nn, optim\n",
    "import torch.nn.functional as F\n",
    "\n",
    "class Classifier(nn.Module):\n",
    "    def __init__(self):\n",
    "        super().__init__()\n",
    "        self.fc1 = nn.Linear(784, 256)\n",
    "        self.fc2 = nn.Linear(256, 128)\n",
    "        self.fc3 = nn.Linear(128, 64)\n",
    "        self.fc4 = nn.Linear(64, 10)\n",
    "        \n",
    "    def forward(self, x):\n",
    "        # make sure input tensor is flattened\n",
    "        x = x.view(x.shape[0], -1)\n",
    "        \n",
    "        x = F.relu(self.fc1(x))\n",
    "        x = F.relu(self.fc2(x))\n",
    "        x = F.relu(self.fc3(x))\n",
    "        x = F.log_softmax(self.fc4(x), dim=1)\n",
    "        \n",
    "        return x"
   ]
  },
  {
   "cell_type": "markdown",
   "metadata": {},
   "source": [
    "As you see we didn't make any changes to model itself!"
   ]
  },
  {
   "cell_type": "code",
   "execution_count": 283,
   "metadata": {
    "scrolled": true
   },
   "outputs": [
    {
     "name": "stdout",
     "output_type": "stream",
     "text": [
      "torch.Size([64, 10])\n"
     ]
    }
   ],
   "source": [
    "model = Classifier()\n",
    "\n",
    "images, labels = next(iter(testloader))\n",
    "# Get the class probabilities\n",
    "ps = torch.exp(model(images))\n",
    "# Make sure the shape is appropriate, we should get 10 class probabilities for 64 examples\n",
    "print(ps.shape)"
   ]
  },
  {
   "cell_type": "markdown",
   "metadata": {},
   "source": [
    "We again train our model by executing our class `Classifier()`. <br>\n",
    "When using `ps.shape` we get the dimension of the batch size and the ten classes"
   ]
  },
  {
   "cell_type": "code",
   "execution_count": 262,
   "metadata": {},
   "outputs": [
    {
     "name": "stdout",
     "output_type": "stream",
     "text": [
      "tensor([[4],\n",
      "        [4],\n",
      "        [4],\n",
      "        [4],\n",
      "        [4],\n",
      "        [4],\n",
      "        [4],\n",
      "        [4],\n",
      "        [4],\n",
      "        [4]])\n"
     ]
    }
   ],
   "source": [
    "top_p, top_class = ps.topk(1, dim=1)\n",
    "# Look at the most likely classes for the first 10 examples\n",
    "print(top_class[:10,:])"
   ]
  },
  {
   "cell_type": "code",
   "execution_count": 32,
   "metadata": {
    "scrolled": true
   },
   "outputs": [
    {
     "name": "stdout",
     "output_type": "stream",
     "text": [
      "Accuracy: 93.75%\n"
     ]
    }
   ],
   "source": [
    "accuracy = torch.mean(equals.type(torch.FloatTensor))\n",
    "print(f'Accuracy: {accuracy.item()*100}%')"
   ]
  },
  {
   "cell_type": "markdown",
   "metadata": {},
   "source": [
    "When we are trying to evaluate our results we have seen in the lecture that there are multiple ways on how you evaluate your results. One way is the `Top-10-Criteria` seen above. However, one standard way of doing is by looking at the __accuracy__ or the __loss__ within each epoch. In the variable `accuracy` we store the percentage of how accurate we are able to predict or infer about the class based on an unseen input data. The accuracy can be defined as: \n",
    "\n",
    "$$\n",
    "\\begin{equation}\n",
    "accuracy = \\frac{TP+TN}{TP + TN + FP + FN}\n",
    "\\end{equation}\n",
    "$$\n",
    "\n"
   ]
  },
  {
   "cell_type": "code",
   "execution_count": 128,
   "metadata": {},
   "outputs": [
    {
     "name": "stdout",
     "output_type": "stream",
     "text": [
      "Epoch: 1/30..  Training Loss: 0.602..  Test Loss: 0.517..  Test Accuracy: 0.827\n",
      "Epoch: 2/30..  Training Loss: 0.478..  Test Loss: 0.483..  Test Accuracy: 0.829\n",
      "Epoch: 3/30..  Training Loss: 0.447..  Test Loss: 0.504..  Test Accuracy: 0.832\n",
      "Epoch: 4/30..  Training Loss: 0.437..  Test Loss: 0.490..  Test Accuracy: 0.834\n",
      "Epoch: 5/30..  Training Loss: 0.414..  Test Loss: 0.493..  Test Accuracy: 0.833\n",
      "Epoch: 6/30..  Training Loss: 0.405..  Test Loss: 0.474..  Test Accuracy: 0.846\n",
      "Epoch: 7/30..  Training Loss: 0.398..  Test Loss: 0.438..  Test Accuracy: 0.855\n",
      "Epoch: 8/30..  Training Loss: 0.401..  Test Loss: 0.500..  Test Accuracy: 0.828\n",
      "Epoch: 9/30..  Training Loss: 0.397..  Test Loss: 0.513..  Test Accuracy: 0.826\n",
      "Epoch: 10/30..  Training Loss: 0.394..  Test Loss: 0.469..  Test Accuracy: 0.845\n",
      "Epoch: 11/30..  Training Loss: 0.382..  Test Loss: 0.447..  Test Accuracy: 0.850\n",
      "Epoch: 12/30..  Training Loss: 0.387..  Test Loss: 0.448..  Test Accuracy: 0.846\n",
      "Epoch: 13/30..  Training Loss: 0.373..  Test Loss: 0.448..  Test Accuracy: 0.854\n",
      "Epoch: 14/30..  Training Loss: 0.373..  Test Loss: 0.455..  Test Accuracy: 0.850\n",
      "Epoch: 15/30..  Training Loss: 0.377..  Test Loss: 0.454..  Test Accuracy: 0.849\n",
      "Epoch: 16/30..  Training Loss: 0.368..  Test Loss: 0.446..  Test Accuracy: 0.852\n",
      "Epoch: 17/30..  Training Loss: 0.362..  Test Loss: 0.476..  Test Accuracy: 0.843\n",
      "Epoch: 18/30..  Training Loss: 0.362..  Test Loss: 0.466..  Test Accuracy: 0.843\n",
      "Epoch: 19/30..  Training Loss: 0.364..  Test Loss: 0.476..  Test Accuracy: 0.853\n",
      "Epoch: 20/30..  Training Loss: 0.359..  Test Loss: 0.456..  Test Accuracy: 0.857\n",
      "Epoch: 21/30..  Training Loss: 0.360..  Test Loss: 0.455..  Test Accuracy: 0.857\n",
      "Epoch: 22/30..  Training Loss: 0.351..  Test Loss: 0.469..  Test Accuracy: 0.845\n",
      "Epoch: 23/30..  Training Loss: 0.360..  Test Loss: 0.456..  Test Accuracy: 0.849\n",
      "Epoch: 24/30..  Training Loss: 0.354..  Test Loss: 0.470..  Test Accuracy: 0.849\n",
      "Epoch: 25/30..  Training Loss: 0.351..  Test Loss: 0.451..  Test Accuracy: 0.851\n",
      "Epoch: 26/30..  Training Loss: 0.354..  Test Loss: 0.474..  Test Accuracy: 0.853\n",
      "Epoch: 27/30..  Training Loss: 0.344..  Test Loss: 0.461..  Test Accuracy: 0.853\n",
      "Epoch: 28/30..  Training Loss: 0.347..  Test Loss: 0.454..  Test Accuracy: 0.858\n",
      "Epoch: 29/30..  Training Loss: 0.351..  Test Loss: 0.461..  Test Accuracy: 0.854\n",
      "Epoch: 30/30..  Training Loss: 0.349..  Test Loss: 0.437..  Test Accuracy: 0.857\n"
     ]
    }
   ],
   "source": [
    "#define model and hyperparameters\n",
    "model = Classifier()\n",
    "criterion = nn.NLLLoss()\n",
    "optimizer = optim.Adam(model.parameters(), lr=0.003)\n",
    "\n",
    "epochs = 30\n",
    "steps = 0\n",
    "\n",
    "train_losses, test_losses = [], []\n",
    "for e in range(epochs):\n",
    "    running_loss = 0\n",
    "    for images, labels in trainloader:\n",
    "        \n",
    "        optimizer.zero_grad()\n",
    "        \n",
    "        log_ps = model(images)\n",
    "        loss = criterion(log_ps, labels)\n",
    "        loss.backward()\n",
    "        optimizer.step()\n",
    "        \n",
    "        running_loss += loss.item()\n",
    "        \n",
    "    else:\n",
    "        test_loss = 0\n",
    "        accuracy = 0\n",
    "        \n",
    "        # Turn off gradients for validation, saves memory and computations\n",
    "        with torch.no_grad():\n",
    "            for images, labels in testloader:\n",
    "                log_ps = model(images)\n",
    "                test_loss += criterion(log_ps, labels)\n",
    "                \n",
    "                ps = torch.exp(log_ps)\n",
    "                top_p, top_class = ps.topk(1, dim=1)\n",
    "                equals = top_class == labels.view(*top_class.shape)\n",
    "                accuracy += torch.mean(equals.type(torch.FloatTensor))\n",
    "                \n",
    "        train_losses.append(running_loss/len(trainloader))\n",
    "        test_losses.append(test_loss/len(testloader))\n",
    "\n",
    "        print(\"Epoch: {}/{}.. \".format(e+1, epochs),\n",
    "              \"Training Loss: {:.3f}.. \".format(running_loss/len(trainloader)),\n",
    "              \"Test Loss: {:.3f}.. \".format(test_loss/len(testloader)),\n",
    "              \"Test Accuracy: {:.3f}\".format(accuracy/len(testloader)))"
   ]
  },
  {
   "cell_type": "code",
   "execution_count": 146,
   "metadata": {},
   "outputs": [],
   "source": [
    "%matplotlib inline\n",
    "%config InlineBackend.figure_format = 'retina'\n",
    "\n",
    "import matplotlib.pyplot as plt"
   ]
  },
  {
   "cell_type": "code",
   "execution_count": 141,
   "metadata": {
    "scrolled": true
   },
   "outputs": [
    {
     "data": {
      "image/png": "[encoded data removed]",
      "text/plain": [
       "<Figure size 432x288 with 1 Axes>"
      ]
     },
     "metadata": {
      "image/png": {
       "height": 263,
       "width": 380
      },
      "needs_background": "light"
     },
     "output_type": "display_data"
    }
   ],
   "source": [
    "plt.plot(train_losses, label = \"Training loss\")\n",
    "plt.plot(test_losses,label = \"Test loss\")\n",
    "plt.title(\"Loss on training and test dataset\")\n",
    "plt.legend(frameon = False)\n",
    "plt.show()"
   ]
  },
  {
   "cell_type": "markdown",
   "metadata": {},
   "source": [
    "When looking at the loss based on the training data, we can see a exponential decay already after 30 epochs! __This is good since we already know that our model is learning properly!!!__ <br>\n",
    "However, when comparing this to the loss of our testing loss there is no significant improvement visible for the different epochs. We say, that our model is not able to generalize well! One method to overcome this problem is to use __regularization__."
   ]
  },
  {
   "cell_type": "markdown",
   "metadata": {},
   "source": [
    "## 4.4 Overfitting <a class=\"anchor\" id=\"overfitting\"></a>"
   ]
  },
  {
   "cell_type": "markdown",
   "metadata": {},
   "source": [
    "When the capacity is too high, we face the counterside of overfitting on the testing dataset. To get a better understanding of this problem, lets have a look at a new model where we introduced dropout as a regularization technique:"
   ]
  },
  {
   "cell_type": "code",
   "execution_count": 292,
   "metadata": {},
   "outputs": [],
   "source": [
    "import torch\n",
    "from torchvision import datasets, transforms"
   ]
  },
  {
   "cell_type": "code",
   "execution_count": 287,
   "metadata": {},
   "outputs": [],
   "source": [
    "# Define a transform to normalize the data\n",
    "transform = transforms.Compose([transforms.ToTensor(),\n",
    "                                transforms.Normalize((0.5,), (0.5,))])\n",
    "# Download and load the training data\n",
    "trainset = datasets.FashionMNIST('~/.pytorch/F_MNIST_data/', download=True, train=True, transform=transform)\n",
    "trainloader = torch.utils.data.DataLoader(trainset, batch_size=64, shuffle=True)\n",
    "\n",
    "# Download and load the test data\n",
    "testset = datasets.FashionMNIST('~/.pytorch/F_MNIST_data/', download=True, train=False, transform=transform)\n",
    "testloader = torch.utils.data.DataLoader(testset, batch_size=64, shuffle=True)"
   ]
  },
  {
   "cell_type": "code",
   "execution_count": 288,
   "metadata": {},
   "outputs": [],
   "source": [
    "from torch import nn, optim\n",
    "import torch.nn.functional as F\n",
    "\n",
    "class Classifier(nn.Module):\n",
    "    def __init__(self):\n",
    "        super().__init__()\n",
    "        self.fc1 = nn.Linear(784, 256)\n",
    "        self.fc2 = nn.Linear(256, 128)\n",
    "        self.fc3 = nn.Linear(128, 64)\n",
    "        self.fc4 = nn.Linear(64, 10)\n",
    "\n",
    "        # Dropout module with 0.2 drop probability\n",
    "        self.dropout = nn.Dropout(p=0.2)\n",
    "\n",
    "    def forward(self, x):\n",
    "        # make sure input tensor is flattened\n",
    "        x = x.view(x.shape[0], -1)\n",
    "\n",
    "        # Now with dropout\n",
    "        x = self.dropout(F.relu(self.fc1(x)))\n",
    "        x = self.dropout(F.relu(self.fc2(x)))\n",
    "        x = self.dropout(F.relu(self.fc3(x)))\n",
    "\n",
    "        # output so no dropout here\n",
    "        x = F.log_softmax(self.fc4(x), dim=1)\n",
    "\n",
    "        return x"
   ]
  },
  {
   "cell_type": "markdown",
   "metadata": {},
   "source": [
    "One problem when training a neural network is that some neurons tend to be more active than others. This leads to part of the network to end up with very large weights, while other parts show up only very small weights. We can therefore include something which is called __dropout__. For that we specify with what kind of probability with we are going to drop  specific neurons [[35]](http://jmlr.org/papers/volume15/srivastava14a.old/srivastava14a.pdf). This can be seen as some kind of randomness or noise given to the neural network and is normally used to reduce overfitting. <br>\n",
    "__Be careful though!__ However, when outputs of a layer are randomly subsampled, it leads to the \"thinning of the neural network\" [[36]](https://machinelearningmastery.com/dropout-for-regularizing-deep-neural-networks/). In other words, this means that the effective capacity shown in the figure is reduced. This the advantage, that usually a larger model is required (often coming with the cost of an increasing training dataset) at a higher training time [[37]](https://medium.com/@amarbudhiraja/https-medium-com-amarbudhiraja-learning-less-to-learn-better-dropout-in-deep-machine-learning-74334da4bfc5) [[38]](https://machinelearningmastery.com/dropout-for-regularizing-deep-neural-networks/).\n",
    "\n",
    "\n",
    "<div class=\"alert alert-block alert-info\"><b> Reminder: <br>\n",
    "    Dropout: is a kind of regularization technique for which the neuron are dismissed by a given probability  \n",
    "</b>"
   ]
  },
  {
   "cell_type": "code",
   "execution_count": 289,
   "metadata": {
    "scrolled": true
   },
   "outputs": [
    {
     "name": "stdout",
     "output_type": "stream",
     "text": [
      "Epoch: 1/100..  Training Loss: 0.520..  Test Loss: 0.451..  Test Accuracy: 0.837\n",
      "Epoch: 2/100..  Training Loss: 0.394..  Test Loss: 0.403..  Test Accuracy: 0.855\n",
      "Epoch: 3/100..  Training Loss: 0.358..  Test Loss: 0.401..  Test Accuracy: 0.858\n",
      "Epoch: 4/100..  Training Loss: 0.335..  Test Loss: 0.389..  Test Accuracy: 0.866\n",
      "Epoch: 5/100..  Training Loss: 0.316..  Test Loss: 0.382..  Test Accuracy: 0.865\n",
      "Epoch: 6/100..  Training Loss: 0.307..  Test Loss: 0.390..  Test Accuracy: 0.868\n",
      "Epoch: 7/100..  Training Loss: 0.292..  Test Loss: 0.361..  Test Accuracy: 0.875\n",
      "Epoch: 8/100..  Training Loss: 0.285..  Test Loss: 0.403..  Test Accuracy: 0.859\n",
      "Epoch: 9/100..  Training Loss: 0.275..  Test Loss: 0.401..  Test Accuracy: 0.871\n",
      "Epoch: 10/100..  Training Loss: 0.268..  Test Loss: 0.387..  Test Accuracy: 0.873\n",
      "Epoch: 11/100..  Training Loss: 0.259..  Test Loss: 0.425..  Test Accuracy: 0.865\n",
      "Epoch: 12/100..  Training Loss: 0.254..  Test Loss: 0.350..  Test Accuracy: 0.883\n",
      "Epoch: 13/100..  Training Loss: 0.246..  Test Loss: 0.355..  Test Accuracy: 0.883\n",
      "Epoch: 14/100..  Training Loss: 0.248..  Test Loss: 0.379..  Test Accuracy: 0.880\n",
      "Epoch: 15/100..  Training Loss: 0.239..  Test Loss: 0.351..  Test Accuracy: 0.886\n",
      "Epoch: 16/100..  Training Loss: 0.230..  Test Loss: 0.392..  Test Accuracy: 0.874\n",
      "Epoch: 17/100..  Training Loss: 0.232..  Test Loss: 0.383..  Test Accuracy: 0.885\n",
      "Epoch: 18/100..  Training Loss: 0.222..  Test Loss: 0.390..  Test Accuracy: 0.882\n",
      "Epoch: 19/100..  Training Loss: 0.222..  Test Loss: 0.429..  Test Accuracy: 0.872\n",
      "Epoch: 20/100..  Training Loss: 0.221..  Test Loss: 0.394..  Test Accuracy: 0.880\n",
      "Epoch: 21/100..  Training Loss: 0.212..  Test Loss: 0.416..  Test Accuracy: 0.882\n",
      "Epoch: 22/100..  Training Loss: 0.214..  Test Loss: 0.385..  Test Accuracy: 0.884\n",
      "Epoch: 23/100..  Training Loss: 0.209..  Test Loss: 0.390..  Test Accuracy: 0.885\n",
      "Epoch: 24/100..  Training Loss: 0.204..  Test Loss: 0.443..  Test Accuracy: 0.882\n",
      "Epoch: 25/100..  Training Loss: 0.200..  Test Loss: 0.433..  Test Accuracy: 0.875\n",
      "Epoch: 26/100..  Training Loss: 0.199..  Test Loss: 0.436..  Test Accuracy: 0.881\n",
      "Epoch: 27/100..  Training Loss: 0.193..  Test Loss: 0.395..  Test Accuracy: 0.886\n",
      "Epoch: 28/100..  Training Loss: 0.194..  Test Loss: 0.399..  Test Accuracy: 0.889\n",
      "Epoch: 29/100..  Training Loss: 0.188..  Test Loss: 0.413..  Test Accuracy: 0.885\n",
      "Epoch: 30/100..  Training Loss: 0.188..  Test Loss: 0.407..  Test Accuracy: 0.885\n",
      "Epoch: 31/100..  Training Loss: 0.186..  Test Loss: 0.396..  Test Accuracy: 0.886\n",
      "Epoch: 32/100..  Training Loss: 0.186..  Test Loss: 0.414..  Test Accuracy: 0.884\n",
      "Epoch: 33/100..  Training Loss: 0.180..  Test Loss: 0.424..  Test Accuracy: 0.888\n",
      "Epoch: 34/100..  Training Loss: 0.179..  Test Loss: 0.432..  Test Accuracy: 0.885\n",
      "Epoch: 35/100..  Training Loss: 0.177..  Test Loss: 0.451..  Test Accuracy: 0.889\n",
      "Epoch: 36/100..  Training Loss: 0.174..  Test Loss: 0.422..  Test Accuracy: 0.889\n",
      "Epoch: 37/100..  Training Loss: 0.175..  Test Loss: 0.458..  Test Accuracy: 0.879\n",
      "Epoch: 38/100..  Training Loss: 0.171..  Test Loss: 0.461..  Test Accuracy: 0.878\n",
      "Epoch: 39/100..  Training Loss: 0.170..  Test Loss: 0.458..  Test Accuracy: 0.887\n",
      "Epoch: 40/100..  Training Loss: 0.170..  Test Loss: 0.485..  Test Accuracy: 0.883\n",
      "Epoch: 41/100..  Training Loss: 0.162..  Test Loss: 0.473..  Test Accuracy: 0.886\n",
      "Epoch: 42/100..  Training Loss: 0.163..  Test Loss: 0.477..  Test Accuracy: 0.883\n",
      "Epoch: 43/100..  Training Loss: 0.166..  Test Loss: 0.449..  Test Accuracy: 0.882\n",
      "Epoch: 44/100..  Training Loss: 0.162..  Test Loss: 0.470..  Test Accuracy: 0.884\n",
      "Epoch: 45/100..  Training Loss: 0.156..  Test Loss: 0.506..  Test Accuracy: 0.882\n",
      "Epoch: 46/100..  Training Loss: 0.159..  Test Loss: 0.493..  Test Accuracy: 0.885\n",
      "Epoch: 47/100..  Training Loss: 0.164..  Test Loss: 0.471..  Test Accuracy: 0.887\n",
      "Epoch: 48/100..  Training Loss: 0.152..  Test Loss: 0.499..  Test Accuracy: 0.887\n",
      "Epoch: 49/100..  Training Loss: 0.149..  Test Loss: 0.532..  Test Accuracy: 0.885\n",
      "Epoch: 50/100..  Training Loss: 0.147..  Test Loss: 0.523..  Test Accuracy: 0.882\n",
      "Epoch: 51/100..  Training Loss: 0.151..  Test Loss: 0.558..  Test Accuracy: 0.885\n",
      "Epoch: 52/100..  Training Loss: 0.158..  Test Loss: 0.482..  Test Accuracy: 0.882\n",
      "Epoch: 53/100..  Training Loss: 0.149..  Test Loss: 0.524..  Test Accuracy: 0.880\n",
      "Epoch: 54/100..  Training Loss: 0.140..  Test Loss: 0.530..  Test Accuracy: 0.885\n",
      "Epoch: 55/100..  Training Loss: 0.150..  Test Loss: 0.504..  Test Accuracy: 0.883\n",
      "Epoch: 56/100..  Training Loss: 0.139..  Test Loss: 0.524..  Test Accuracy: 0.889\n",
      "Epoch: 57/100..  Training Loss: 0.142..  Test Loss: 0.579..  Test Accuracy: 0.884\n",
      "Epoch: 58/100..  Training Loss: 0.134..  Test Loss: 0.556..  Test Accuracy: 0.892\n",
      "Epoch: 59/100..  Training Loss: 0.148..  Test Loss: 0.570..  Test Accuracy: 0.887\n",
      "Epoch: 60/100..  Training Loss: 0.144..  Test Loss: 0.525..  Test Accuracy: 0.882\n",
      "Epoch: 61/100..  Training Loss: 0.137..  Test Loss: 0.516..  Test Accuracy: 0.884\n",
      "Epoch: 62/100..  Training Loss: 0.135..  Test Loss: 0.530..  Test Accuracy: 0.885\n",
      "Epoch: 63/100..  Training Loss: 0.137..  Test Loss: 0.529..  Test Accuracy: 0.889\n",
      "Epoch: 64/100..  Training Loss: 0.136..  Test Loss: 0.601..  Test Accuracy: 0.879\n",
      "Epoch: 65/100..  Training Loss: 0.146..  Test Loss: 0.557..  Test Accuracy: 0.882\n",
      "Epoch: 66/100..  Training Loss: 0.132..  Test Loss: 0.604..  Test Accuracy: 0.885\n",
      "Epoch: 67/100..  Training Loss: 0.124..  Test Loss: 0.613..  Test Accuracy: 0.886\n",
      "Epoch: 68/100..  Training Loss: 0.131..  Test Loss: 0.562..  Test Accuracy: 0.883\n",
      "Epoch: 69/100..  Training Loss: 0.139..  Test Loss: 0.523..  Test Accuracy: 0.886\n",
      "Epoch: 70/100..  Training Loss: 0.125..  Test Loss: 0.628..  Test Accuracy: 0.879\n",
      "Epoch: 71/100..  Training Loss: 0.141..  Test Loss: 0.617..  Test Accuracy: 0.884\n",
      "Epoch: 72/100..  Training Loss: 0.117..  Test Loss: 0.575..  Test Accuracy: 0.889\n",
      "Epoch: 73/100..  Training Loss: 0.128..  Test Loss: 0.539..  Test Accuracy: 0.888\n",
      "Epoch: 74/100..  Training Loss: 0.126..  Test Loss: 0.539..  Test Accuracy: 0.885\n",
      "Epoch: 75/100..  Training Loss: 0.126..  Test Loss: 0.610..  Test Accuracy: 0.887\n",
      "Epoch: 76/100..  Training Loss: 0.136..  Test Loss: 0.536..  Test Accuracy: 0.882\n",
      "Epoch: 77/100..  Training Loss: 0.128..  Test Loss: 0.626..  Test Accuracy: 0.882\n",
      "Epoch: 78/100..  Training Loss: 0.117..  Test Loss: 0.665..  Test Accuracy: 0.873\n",
      "Epoch: 79/100..  Training Loss: 0.120..  Test Loss: 0.605..  Test Accuracy: 0.885\n",
      "Epoch: 80/100..  Training Loss: 0.152..  Test Loss: 0.594..  Test Accuracy: 0.886\n",
      "Epoch: 81/100..  Training Loss: 0.113..  Test Loss: 0.626..  Test Accuracy: 0.889\n",
      "Epoch: 82/100..  Training Loss: 0.116..  Test Loss: 0.646..  Test Accuracy: 0.888\n",
      "Epoch: 83/100..  Training Loss: 0.111..  Test Loss: 0.616..  Test Accuracy: 0.885\n",
      "Epoch: 84/100..  Training Loss: 0.111..  Test Loss: 0.594..  Test Accuracy: 0.875\n",
      "Epoch: 85/100..  Training Loss: 0.160..  Test Loss: 0.575..  Test Accuracy: 0.887\n",
      "Epoch: 86/100..  Training Loss: 0.102..  Test Loss: 0.659..  Test Accuracy: 0.890\n",
      "Epoch: 87/100..  Training Loss: 0.105..  Test Loss: 0.629..  Test Accuracy: 0.885\n",
      "Epoch: 88/100..  Training Loss: 0.148..  Test Loss: 0.525..  Test Accuracy: 0.879\n",
      "Epoch: 89/100..  Training Loss: 0.113..  Test Loss: 0.647..  Test Accuracy: 0.887\n",
      "Epoch: 90/100..  Training Loss: 0.111..  Test Loss: 0.598..  Test Accuracy: 0.884\n",
      "Epoch: 91/100..  Training Loss: 0.109..  Test Loss: 0.604..  Test Accuracy: 0.885\n",
      "Epoch: 92/100..  Training Loss: 0.123..  Test Loss: 0.727..  Test Accuracy: 0.887\n",
      "Epoch: 93/100..  Training Loss: 0.111..  Test Loss: 0.716..  Test Accuracy: 0.886\n",
      "Epoch: 94/100..  Training Loss: 0.127..  Test Loss: 0.630..  Test Accuracy: 0.886\n",
      "Epoch: 95/100..  Training Loss: 0.121..  Test Loss: 0.665..  Test Accuracy: 0.887\n",
      "Epoch: 96/100..  Training Loss: 0.113..  Test Loss: 0.646..  Test Accuracy: 0.886\n",
      "Epoch: 97/100..  Training Loss: 0.103..  Test Loss: 0.621..  Test Accuracy: 0.885\n",
      "Epoch: 98/100..  Training Loss: 0.105..  Test Loss: 0.670..  Test Accuracy: 0.884\n",
      "Epoch: 99/100..  Training Loss: 0.118..  Test Loss: 0.709..  Test Accuracy: 0.882\n",
      "Epoch: 100/100..  Training Loss: 0.125..  Test Loss: 0.751..  Test Accuracy: 0.887\n"
     ]
    }
   ],
   "source": [
    "optimizer = optim.Adam(model.parameters(), lr=0.003)\n",
    "\n",
    "epochs = 100\n",
    "steps = 0\n",
    "\n",
    "train_losses, test_losses = [], []\n",
    "for e in range(epochs):\n",
    "    running_loss = 0\n",
    "    for images, labels in trainloader:\n",
    "        \n",
    "        optimizer.zero_grad()\n",
    "        \n",
    "        log_ps = model(images)\n",
    "        loss = criterion(log_ps, labels)\n",
    "        loss.backward()\n",
    "        optimizer.step()\n",
    "        \n",
    "        running_loss += loss.item()\n",
    "        \n",
    "    else:\n",
    "        test_loss = 0\n",
    "        accuracy = 0\n",
    "        \n",
    "        # Turn off gradients for validation, saves memory and computations\n",
    "        with torch.no_grad():\n",
    "            for images, labels in testloader:\n",
    "                log_ps = model(images)\n",
    "                test_loss += criterion(log_ps, labels)\n",
    "                \n",
    "                ps = torch.exp(log_ps)\n",
    "                top_p, top_class = ps.topk(1, dim=1)\n",
    "                equals = top_class == labels.view(*top_class.shape)\n",
    "                accuracy += torch.mean(equals.type(torch.FloatTensor))\n",
    "                \n",
    "        train_losses.append(running_loss/len(trainloader))\n",
    "        test_losses.append(test_loss/len(testloader))\n",
    "\n",
    "        print(\"Epoch: {}/{}.. \".format(e+1, epochs),\n",
    "              \"Training Loss: {:.3f}.. \".format(running_loss/len(trainloader)),\n",
    "              \"Test Loss: {:.3f}.. \".format(test_loss/len(testloader)),\n",
    "              \"Test Accuracy: {:.3f}\".format(accuracy/len(testloader)))"
   ]
  },
  {
   "cell_type": "code",
   "execution_count": 290,
   "metadata": {},
   "outputs": [],
   "source": [
    "%matplotlib inline\n",
    "%config InlineBackend.figure_format = \"retina\""
   ]
  },
  {
   "cell_type": "code",
   "execution_count": 291,
   "metadata": {},
   "outputs": [
    {
     "data": {
      "image/png": "[encoded data removed]",
      "text/plain": [
       "<Figure size 432x288 with 1 Axes>"
      ]
     },
     "metadata": {
      "image/png": {
       "height": 263,
       "width": 372
      },
      "needs_background": "light"
     },
     "output_type": "display_data"
    }
   ],
   "source": [
    "plt.plot(train_losses, label = \"Training loss\")\n",
    "plt.plot(test_losses,label = \"Test loss\")\n",
    "plt.title(\"Loss on training and test dataset\")\n",
    "plt.legend(frameon = False)\n",
    "plt.show()"
   ]
  },
  {
   "cell_type": "markdown",
   "metadata": {},
   "source": [
    "The above plot is a typical example of an overfitting where the training loss starts decreasing while the test loss starts to rise with increasing epoch size.<br>\n",
    "As you see our _training loss_ keeps decreases exponentially till about 75 epochs! After 75 epochs we can see some fluctuations regarding the _training loss_. One method to cope with this is to take some changes regarding the hyperparameters. However, there are also cases where it is better to stop the training after a certain number of epochs when there seems to be some kind or \"repetition in the training\". <br>\n",
    "Looking at the testing loss you can see that it the eror is increasing again. \n",
    "\n",
    "A typical way of approaching this problem would be to save\n",
    "- the model and the values for the hyperparameters\n",
    "- the trained weights\n",
    "- the accuracy and loss\n",
    "\n",
    "and always save a new copy as soon as the model has improved."
   ]
  },
  {
   "cell_type": "markdown",
   "metadata": {},
   "source": [
    "## 4.5 Saving and Loading the Neural Network <a class=\"anchor\" id=\"save_n_load\"></a>"
   ]
  },
  {
   "cell_type": "markdown",
   "metadata": {},
   "source": [
    "When storing and loading your neural network, there are different approaches to do so. You can either only store the hyperparameters or load the trained model itself. To demonstrate this, we will again use the identical model and hyperparameters from section 4.3 __BUT instead we will save time by only using 10 epochs!!!__"
   ]
  },
  {
   "cell_type": "code",
   "execution_count": 22,
   "metadata": {},
   "outputs": [],
   "source": [
    "import torch\n",
    "from torchvision import datasets, transforms\n",
    "\n",
    "# Define a transform to normalize the data\n",
    "transform = transforms.Compose([transforms.ToTensor(),\n",
    "                                transforms.Normalize((0.5,), (0.5,))])\n",
    "\n",
    "# Download and load the training data\n",
    "trainset = datasets.FashionMNIST('~/.pytorch/F_MNIST_data/', download=True, train=True, transform=transform)\n",
    "trainloader = torch.utils.data.DataLoader(trainset, batch_size=64, shuffle=True)\n",
    "\n",
    "# Download and load the test data\n",
    "testset = datasets.FashionMNIST('~/.pytorch/F_MNIST_data/', download=True, train=False, transform=transform)\n",
    "testloader = torch.utils.data.DataLoader(testset, batch_size=64, shuffle=True)"
   ]
  },
  {
   "cell_type": "code",
   "execution_count": 23,
   "metadata": {},
   "outputs": [],
   "source": [
    "from torch import nn, optim\n",
    "import torch.nn.functional as F\n",
    "\n",
    "class Classifier(nn.Module):\n",
    "    def __init__(self):\n",
    "        super().__init__()\n",
    "        self.fc1 = nn.Linear(784, 256)\n",
    "        self.fc2 = nn.Linear(256, 128)\n",
    "        self.fc3 = nn.Linear(128, 64)\n",
    "        self.fc4 = nn.Linear(64, 10)\n",
    "        \n",
    "    def forward(self, x):\n",
    "        # make sure input tensor is flattened\n",
    "        x = x.view(x.shape[0], -1)\n",
    "        \n",
    "        x = F.relu(self.fc1(x))\n",
    "        x = F.relu(self.fc2(x))\n",
    "        x = F.relu(self.fc3(x))\n",
    "        x = F.log_softmax(self.fc4(x), dim=1)\n",
    "        \n",
    "        return x"
   ]
  },
  {
   "cell_type": "code",
   "execution_count": 24,
   "metadata": {},
   "outputs": [
    {
     "name": "stdout",
     "output_type": "stream",
     "text": [
      "Epoch: 1/10..  Training Loss: 0.519..  Test Loss: 0.475..  Test Accuracy: 0.826\n",
      "Epoch: 2/10..  Training Loss: 0.393..  Test Loss: 0.411..  Test Accuracy: 0.854\n",
      "Epoch: 3/10..  Training Loss: 0.356..  Test Loss: 0.404..  Test Accuracy: 0.859\n",
      "Epoch: 4/10..  Training Loss: 0.333..  Test Loss: 0.398..  Test Accuracy: 0.864\n",
      "Epoch: 5/10..  Training Loss: 0.317..  Test Loss: 0.375..  Test Accuracy: 0.870\n",
      "Epoch: 6/10..  Training Loss: 0.304..  Test Loss: 0.366..  Test Accuracy: 0.875\n",
      "Epoch: 7/10..  Training Loss: 0.295..  Test Loss: 0.374..  Test Accuracy: 0.873\n",
      "Epoch: 8/10..  Training Loss: 0.285..  Test Loss: 0.363..  Test Accuracy: 0.876\n",
      "Epoch: 9/10..  Training Loss: 0.272..  Test Loss: 0.385..  Test Accuracy: 0.871\n",
      "Epoch: 10/10..  Training Loss: 0.265..  Test Loss: 0.366..  Test Accuracy: 0.874\n"
     ]
    }
   ],
   "source": [
    "#define model and hyperparameters\n",
    "model = Classifier()\n",
    "criterion = nn.NLLLoss()\n",
    "optimizer = optim.Adam(model.parameters(), lr=0.003)\n",
    "\n",
    "epochs = 10\n",
    "steps = 0\n",
    "\n",
    "train_losses, test_losses = [], []\n",
    "for e in range(epochs):\n",
    "    running_loss = 0\n",
    "    for images, labels in trainloader:\n",
    "        \n",
    "        optimizer.zero_grad()\n",
    "        \n",
    "        log_ps = model(images)\n",
    "        loss = criterion(log_ps, labels)\n",
    "        loss.backward()\n",
    "        optimizer.step()\n",
    "        \n",
    "        running_loss += loss.item()\n",
    "        \n",
    "    else:\n",
    "        test_loss = 0\n",
    "        accuracy = 0\n",
    "        \n",
    "        # Turn off gradients for validation, saves memory and computations\n",
    "        with torch.no_grad():\n",
    "            for images, labels in testloader:\n",
    "                log_ps = model(images)\n",
    "                test_loss += criterion(log_ps, labels)\n",
    "                \n",
    "                ps = torch.exp(log_ps)\n",
    "                top_p, top_class = ps.topk(1, dim=1)\n",
    "                equals = top_class == labels.view(*top_class.shape)\n",
    "                accuracy += torch.mean(equals.type(torch.FloatTensor))\n",
    "                \n",
    "        train_losses.append(running_loss/len(trainloader))\n",
    "        test_losses.append(test_loss/len(testloader))\n",
    "\n",
    "        print(\"Epoch: {}/{}.. \".format(e+1, epochs),\n",
    "              \"Training Loss: {:.3f}.. \".format(running_loss/len(trainloader)),\n",
    "              \"Test Loss: {:.3f}.. \".format(test_loss/len(testloader)),\n",
    "              \"Test Accuracy: {:.3f}\".format(accuracy/len(testloader)))"
   ]
  },
  {
   "cell_type": "markdown",
   "metadata": {},
   "source": [
    "As you might be aware, it is inpractical to always retrain a model every time you want to use it. Instead we can save our pretrained model and load it later for inference. "
   ]
  },
  {
   "cell_type": "code",
   "execution_count": 29,
   "metadata": {},
   "outputs": [
    {
     "name": "stdout",
     "output_type": "stream",
     "text": [
      "OrderedDict([('fc1.weight', tensor([[0.1905, 0.1541, 0.1962,  ..., 0.3834, 0.1266, 0.1620],\n",
      "        [0.0634, 0.0618, 0.0591,  ..., 0.0553, 0.0837, 0.1051],\n",
      "        [0.1292, 0.0825, 0.0924,  ..., 0.0803, 0.1095, 0.0962],\n",
      "        ...,\n",
      "        [0.1428, 0.0750, 0.0855,  ..., 0.0493, 0.0903, 0.0974],\n",
      "        [0.1295, 0.0941, 0.1165,  ..., 0.1905, 0.0878, 0.1073],\n",
      "        [0.1929, 0.1446, 0.1704,  ..., 0.0850, 0.1081, 0.1253]])), ('fc1.bias', tensor([-1.7421e-01, -1.2423e-01, -9.4686e-02, -1.5087e-01, -4.1590e-02,\n",
      "        -1.3791e-01, -1.5920e-01, -5.5772e-02, -2.5267e-01, -1.3428e-01,\n",
      "        -1.2447e-01, -7.6033e-02, -4.4266e-02, -2.1016e-01, -1.7147e-01,\n",
      "        -7.1504e-02, -6.9350e-02, -5.1584e-02, -1.1005e-01, -7.8703e-02,\n",
      "        -1.5628e-01, -6.8262e-03, -1.1917e-01, -2.2838e-01, -1.4813e-01,\n",
      "         2.3541e-02, -1.4222e-01, -1.6171e-01, -5.7755e-02, -1.4075e-01,\n",
      "        -1.1615e-01, -1.1284e-01, -1.2234e-01, -1.6882e-01, -7.2570e-02,\n",
      "        -6.4062e-02, -1.7252e-01, -1.1277e-01, -9.5601e-02, -9.1348e-02,\n",
      "        -1.3041e-02, -8.9768e-02, -1.6376e-01, -1.4635e-01, -7.0911e-02,\n",
      "        -1.0591e-01, -4.1634e-02, -7.0315e-02, -1.1494e-01, -3.3020e-01,\n",
      "         3.0183e-01, -2.9683e-02, -1.3449e-01, -2.1932e-01,  6.9039e-03,\n",
      "        -6.3509e-02, -1.4741e-01, -2.5488e-01, -1.5205e-01, -5.5916e-02,\n",
      "        -3.5237e-02, -1.1327e-01, -1.7598e-01, -1.1356e-01, -1.3004e-01,\n",
      "        -6.8615e-02, -1.1723e-01, -1.3878e-01, -1.7056e-01, -8.6636e-02,\n",
      "        -9.1930e-02, -7.5957e-02, -1.1398e-02, -1.3172e-01, -1.1490e-01,\n",
      "        -4.6588e-02, -1.5893e-01, -6.7280e-02, -2.1693e-01, -5.7062e-02,\n",
      "        -1.6189e-01,  1.5120e-02, -1.8482e-01, -7.5734e-02, -9.2554e-03,\n",
      "        -9.4450e-02, -9.8919e-02, -2.1654e-01, -9.9411e-02, -6.8856e-02,\n",
      "        -1.9002e-01, -4.6167e-02, -2.5626e-01, -8.5914e-02, -1.4012e-01,\n",
      "        -9.4235e-02,  4.0418e-02, -1.1569e-01, -1.6338e-01, -1.5464e-01,\n",
      "        -1.8391e-01, -1.2509e-01, -2.0476e-01, -9.7995e-02, -1.3474e-01,\n",
      "        -9.6566e-02, -3.5924e-02, -1.8925e-01, -2.2367e-01, -7.3269e-02,\n",
      "        -1.0300e-01, -1.1136e-01, -9.0937e-02, -1.0838e-01, -6.5338e-02,\n",
      "        -1.3183e-01, -4.8361e-02, -1.0529e-01, -5.3260e-02, -2.3519e-01,\n",
      "        -1.9583e-01, -9.6837e-02, -2.1897e-02, -8.2023e-02,  7.7512e-02,\n",
      "        -4.4724e-02, -1.1890e-02, -9.8259e-02, -8.9620e-02, -6.2136e-02,\n",
      "        -2.9635e-02, -1.0314e-01, -1.6580e-02, -9.0289e-02, -8.3149e-02,\n",
      "        -1.4588e-01, -1.6438e-02, -5.3243e-02, -4.1914e-02, -4.8138e-02,\n",
      "        -2.1765e-03, -1.0955e-01, -8.1662e-02, -6.9401e-02, -1.3150e-01,\n",
      "        -1.6188e-01, -9.5695e-02, -1.9600e-01,  2.0803e-01, -2.0530e-01,\n",
      "        -1.8544e-01, -1.6898e-01, -5.7825e-02,  2.6220e-02, -1.2341e-01,\n",
      "        -1.3244e-01, -1.3573e-01, -1.9356e-01, -5.5150e-02, -1.3919e-01,\n",
      "        -5.6134e-02, -1.3507e-01, -7.4858e-03, -3.8157e-02, -1.4902e-01,\n",
      "        -1.1199e-01, -1.7003e-01, -6.0865e-02, -8.0106e-02,  1.5410e-01,\n",
      "        -1.3045e-01, -1.0957e-01,  3.2278e-04, -1.1758e-01, -3.7519e-02,\n",
      "        -1.0014e-01, -4.3906e-02,  2.9093e-03, -3.3626e-02, -1.4091e-01,\n",
      "        -5.3056e-02, -7.3748e-02,  1.6910e-01, -2.3076e-01, -1.8792e-01,\n",
      "        -1.7881e-01, -5.2200e-02, -8.2327e-02, -1.6219e-01, -8.3036e-02,\n",
      "        -1.6514e-01, -1.4497e-02, -8.9848e-02, -9.9802e-02,  2.3741e-01,\n",
      "        -1.5279e-01, -7.2396e-02, -1.0998e-01, -1.2915e-01, -9.9835e-02,\n",
      "        -3.3053e-02, -1.6529e-01, -1.4509e-01, -1.5260e-01, -1.5312e-01,\n",
      "        -3.9775e-02, -4.3619e-02, -1.3926e-01, -9.5565e-02, -8.8017e-02,\n",
      "        -1.0722e-01, -4.1890e-02, -1.3556e-01, -1.4906e-01, -1.1217e-01,\n",
      "        -1.3701e-01,  1.0887e-01, -1.7362e-01, -6.1347e-02,  1.5049e-02,\n",
      "        -1.5386e-01, -1.5195e-01, -1.8516e-01, -1.9878e-01, -4.8761e-02,\n",
      "        -9.0888e-02, -6.4923e-02,  2.0652e-02, -3.5831e-02, -1.9406e-01,\n",
      "        -5.7991e-02, -1.0444e-01, -1.2581e-01, -2.1951e-01, -1.6718e-01,\n",
      "        -9.8624e-02, -2.0868e-01, -2.0835e-01, -3.3985e-02, -4.5298e-02,\n",
      "        -5.9346e-02, -5.5210e-02, -1.0154e-01, -1.6153e-01, -2.5620e-01,\n",
      "        -1.3715e-01, -1.2142e-01, -1.3550e-01, -1.1552e-01, -2.3693e-02,\n",
      "        -9.6403e-02, -5.9376e-02, -8.4879e-02, -1.1090e-01, -1.1148e-01,\n",
      "        -1.2874e-01])), ('fc2.weight', tensor([[ 0.0225, -0.0568,  0.0185,  ..., -0.1027, -0.0424, -0.0202],\n",
      "        [-0.1215,  0.0185,  0.0068,  ...,  0.1330, -0.3317,  0.2380],\n",
      "        [ 0.0960, -0.0042, -0.0128,  ...,  0.1382, -0.1889,  0.3286],\n",
      "        ...,\n",
      "        [-0.0947,  0.0130, -0.0498,  ...,  0.1815,  0.0449,  0.2319],\n",
      "        [-0.1356,  0.0174, -0.2023,  ..., -0.2061, -0.0083,  0.3020],\n",
      "        [-0.1065,  0.0932, -0.0021,  ..., -0.2199, -0.2378, -0.5895]])), ('fc2.bias', tensor([-1.4244e-01,  5.4772e-02,  1.1444e-01, -3.5007e-01,  2.1055e-01,\n",
      "         3.2422e-01, -2.6980e-01, -1.0058e-01,  1.6006e-01, -5.0362e-01,\n",
      "         3.6351e-01,  1.7076e-01, -1.0367e-01, -1.6267e-01,  1.1906e-01,\n",
      "         4.8993e-01,  3.6040e-01,  1.6066e-01, -1.0425e-01, -1.7165e-01,\n",
      "         6.2874e-02,  2.8103e-02,  1.5632e-02, -6.3728e-02,  1.0528e-01,\n",
      "        -4.4312e-01, -2.0229e-01, -2.6806e-01, -1.1652e-01, -2.0484e-01,\n",
      "         1.3598e-01, -5.8640e-02,  2.1364e-02, -2.0142e-01, -1.0785e-01,\n",
      "         4.1453e-01,  6.9063e-02, -1.2660e-02, -4.0395e-01, -2.4102e-01,\n",
      "        -4.6159e-02, -2.0315e-01, -3.4792e-01,  3.0370e-01, -1.1163e-01,\n",
      "        -4.7022e-04,  6.0632e-02,  5.4562e-02,  3.3073e-01,  8.1149e-04,\n",
      "         4.7628e-03,  3.0236e-01, -3.5051e-01, -3.9596e-02, -2.0042e-01,\n",
      "        -1.4436e-01,  2.9813e-01, -1.2708e-01, -1.0083e-01, -1.4004e-02,\n",
      "        -6.1746e-01, -1.6966e-01, -1.4833e-01, -2.8945e-01, -1.0418e-01,\n",
      "         3.9290e-01,  2.0506e-01, -2.1122e-01,  9.2394e-02, -3.5396e-01,\n",
      "        -5.5517e-02, -1.0327e-01, -1.8180e-01, -1.0955e-01,  1.5299e-01,\n",
      "         2.7108e-01,  5.6796e-02, -1.5081e-01,  3.5790e-02,  1.5240e-02,\n",
      "        -2.7665e-01, -1.4947e-01,  3.3223e-01, -1.0845e-02, -5.5381e-01,\n",
      "         4.6216e-02, -4.0973e-01, -6.1554e-02, -2.3099e-01,  3.0230e-01,\n",
      "         3.4960e-01,  9.4410e-02, -1.5575e-01, -9.2541e-02, -3.5488e-01,\n",
      "        -2.0898e-03, -2.0584e-01, -4.0821e-01, -2.1074e-01, -7.0261e-02,\n",
      "        -1.8359e-01, -1.3991e-01,  4.9439e-02, -1.3126e-01, -1.1841e-01,\n",
      "        -6.9357e-02,  1.9150e-02, -2.2049e-01, -6.0937e-02, -6.1634e-02,\n",
      "        -1.3323e-03,  2.6889e-01,  5.9347e-01, -3.0731e-01,  1.3744e-01,\n",
      "        -7.9870e-02,  1.3692e-01, -8.4580e-02, -7.7619e-02, -4.0059e-01,\n",
      "         2.3778e-01,  1.5651e-01,  2.9196e-01, -1.2167e-01, -1.4710e-01,\n",
      "         6.0414e-04, -1.4146e-01, -2.9368e-01])), ('fc3.weight', tensor([[ 5.0480e-02, -8.9891e-02, -1.6185e-01,  ..., -2.8737e-01,\n",
      "         -1.6172e-01,  1.7160e-01],\n",
      "        [ 4.9502e-03, -1.2673e-01, -5.1701e-04,  ...,  1.7124e-01,\n",
      "          3.6317e-02, -9.6907e-02],\n",
      "        [ 1.2548e-01, -2.6427e-01, -4.6333e-02,  ..., -2.7792e-01,\n",
      "          1.4071e-02,  1.2910e-01],\n",
      "        ...,\n",
      "        [-7.3595e-02,  3.1454e-01,  1.7970e-01,  ..., -1.0581e-01,\n",
      "         -5.2970e-01,  1.4447e-01],\n",
      "        [-7.2520e-02, -1.7433e-01,  7.8262e-02,  ...,  6.1534e-02,\n",
      "          4.2924e-02,  1.3817e-01],\n",
      "        [-6.2462e-02, -1.3068e-02,  7.5443e-02,  ..., -3.6082e-01,\n",
      "         -4.4906e-01, -2.2322e-01]])), ('fc3.bias', tensor([-0.0631,  0.1659, -0.2090,  0.5331,  0.4097, -0.3674, -0.3522, -0.3953,\n",
      "         0.1697,  0.3170, -0.2636,  0.1110, -0.3325,  0.1983, -0.2230, -0.0282,\n",
      "         0.0110, -0.2303, -0.2171, -0.2737,  0.1927,  0.2662,  0.3111,  0.7569,\n",
      "        -0.3054, -0.2890, -0.3329,  0.3531, -0.2352,  0.3522, -0.1886,  0.2426,\n",
      "        -0.1838, -0.0957, -0.4245, -0.0179, -0.0792,  0.1851, -0.3607,  0.3778,\n",
      "        -0.1575,  0.2986, -0.2037,  0.0504, -0.4155,  0.1288, -0.1219,  0.2230,\n",
      "         0.5047, -0.3366,  0.2082, -0.0978,  0.4554,  0.8619,  0.4430,  0.2004,\n",
      "         0.0882, -0.3332,  0.1050, -0.1648,  0.1992,  0.1474,  0.6868,  0.5733])), ('fc4.weight', tensor([[-1.2438e-01,  1.1363e-01, -2.6544e-03, -3.7620e-01, -2.7087e-02,\n",
      "          5.8309e-02, -1.0972e-01, -2.4259e-01, -9.7786e-03, -9.2286e-02,\n",
      "          4.8675e-02, -4.8769e-01, -3.2971e-01,  1.0695e-01,  1.0120e-01,\n",
      "         -2.4218e-01, -3.7344e-01, -1.6057e-01, -2.4132e-01,  8.2795e-02,\n",
      "         -1.4681e-01,  1.4123e-01,  1.1918e-01,  7.8742e-02,  4.1261e-03,\n",
      "          4.2909e-02, -1.2585e-01, -1.6886e-01, -2.7982e-02,  6.3727e-02,\n",
      "          4.5037e-02,  5.3726e-02, -2.6838e-02, -1.8071e-01, -3.4153e-01,\n",
      "          2.8895e-02,  1.1201e-01,  1.4359e-01,  1.1025e-02, -2.7706e-02,\n",
      "          4.2093e-02, -8.3266e-02,  4.0153e-03,  3.4308e-02, -2.1184e-01,\n",
      "          1.9608e-02, -6.8289e-02,  1.6402e-01,  5.3732e-03, -1.9436e-01,\n",
      "         -1.4166e-01, -3.3169e-02,  1.7590e-02,  1.4440e-01, -5.5551e-02,\n",
      "          1.2626e-02,  7.7748e-02,  1.5567e-01, -4.3727e-02,  1.0069e-02,\n",
      "          4.5756e-02, -3.4335e-01,  5.6386e-02, -4.5189e-02],\n",
      "        [-2.1661e-01, -6.7485e-02, -3.3026e-02, -1.0030e+00, -1.3988e-01,\n",
      "         -2.0034e-01, -2.4286e-01, -1.4407e+00,  1.9431e-01, -1.4838e-01,\n",
      "          3.6504e-02, -7.3464e-01, -7.2686e-03,  2.5111e-02,  5.1639e-02,\n",
      "         -4.0295e-01, -2.4939e-01, -3.4183e-01, -1.1253e+00,  2.9434e-02,\n",
      "          2.0751e-01, -3.1896e-01, -2.8861e-01,  1.7566e-02,  6.5231e-02,\n",
      "          1.1208e-02, -5.0110e-01, -1.0386e-01, -1.2294e-02,  5.0707e-02,\n",
      "         -1.6826e-01, -5.9356e-01,  4.2876e-02, -4.5712e-01, -2.0487e-01,\n",
      "          7.9032e-02, -2.4404e-01, -4.8019e-02, -4.8027e-02,  1.1104e-01,\n",
      "         -7.8849e-02, -9.3590e-02, -7.7851e-02,  7.1468e-02, -4.6816e-01,\n",
      "          1.8656e-01,  1.6613e-02, -2.2592e-01, -9.1783e-02, -1.7569e-01,\n",
      "          8.2126e-02, -3.2565e-01, -3.9697e-01, -1.7209e-01,  3.3716e-02,\n",
      "         -2.5756e-01,  2.4710e-01, -1.0519e-01,  6.9769e-02, -3.5211e-02,\n",
      "          1.0124e-01, -3.0985e-01, -1.6832e-01, -4.7050e-01],\n",
      "        [ 4.1481e-02,  4.0752e-02, -4.2925e-03,  2.2919e-02,  1.6423e-02,\n",
      "         -1.2015e-02, -4.5042e-01, -1.6141e-01, -6.6546e-02, -5.8037e-02,\n",
      "         -5.9611e-02, -2.2623e-01, -2.6577e-01,  1.6810e-02,  2.9630e-02,\n",
      "         -4.8831e-01, -3.4518e-01, -1.2724e-01, -2.1921e-01,  6.6935e-03,\n",
      "         -1.7456e-01, -2.2358e-01, -9.7147e-03,  1.1375e-01, -1.1911e-01,\n",
      "         -1.1816e-01, -1.5091e-01,  1.4484e-01, -1.6442e-01,  1.2522e-01,\n",
      "         -1.4758e-02,  2.6578e-02, -5.3209e-02, -2.4759e-01, -1.6251e-01,\n",
      "          1.0481e-01,  7.6947e-02, -1.5580e-02, -1.6012e-01,  1.0195e-02,\n",
      "         -3.8633e-02, -9.8382e-02,  1.1742e-02, -3.4298e-02, -2.2192e-01,\n",
      "          3.8732e-02,  7.6885e-02, -1.2644e-01,  5.0738e-02, -8.7973e-02,\n",
      "          3.8613e-02, -2.5064e-02,  6.9297e-02, -6.5525e-04, -8.5057e-02,\n",
      "         -5.3422e-02, -1.1283e-01, -2.6958e-01, -2.8957e-01,  1.5885e-02,\n",
      "          6.1192e-02, -4.9965e-01,  9.1041e-02, -3.4592e-01],\n",
      "        [-4.4811e-01, -2.5399e-02, -1.5003e-01, -6.6949e-01,  1.8055e-01,\n",
      "         -1.2855e-01, -3.4359e-01, -1.4491e-01,  9.3865e-02,  5.6733e-02,\n",
      "         -5.0709e-02, -6.2669e-01, -1.3414e-01, -9.7129e-02,  5.9702e-02,\n",
      "         -6.2260e-01, -1.5906e-01, -1.7779e-01, -3.4076e-01,  8.6057e-02,\n",
      "          1.7720e-01, -1.4365e-01, -1.4617e-01, -1.5472e-01, -3.5870e-02,\n",
      "          5.0931e-02, -4.1664e-01,  5.3749e-02, -2.8278e-02,  1.0859e-01,\n",
      "         -2.0344e-01,  6.5793e-02, -3.3342e-01, -3.3090e-01, -2.2673e-01,\n",
      "         -1.4655e-01, -2.0956e-01,  7.4494e-02, -7.5549e-02, -1.2467e-01,\n",
      "         -3.3293e-02, -8.7050e-02, -1.5428e-02,  5.6270e-02, -1.9040e-01,\n",
      "          2.6409e-02, -1.3672e-01,  5.3042e-02,  1.3539e-01, -5.0526e-01,\n",
      "         -1.1272e-02, -6.5725e-02, -8.2627e-02,  1.3819e-02, -3.3777e-01,\n",
      "         -7.0914e-02,  1.5456e-01, -3.4756e-01, -1.5105e-01, -2.7774e-02,\n",
      "          1.1789e-01, -4.4906e-01, -2.0415e-01, -2.3568e-01],\n",
      "        [-2.3987e-01, -2.0505e-02, -5.0572e-02,  4.2570e-02, -7.2736e-02,\n",
      "         -5.8679e-01, -1.2140e-01, -1.4147e-01,  8.7253e-02,  1.5311e-01,\n",
      "         -1.8485e-02, -4.9986e-01,  1.6782e-02,  9.0577e-02,  1.1133e-01,\n",
      "         -5.7547e-01, -1.6883e-01, -3.0997e-01,  8.8825e-02,  7.4797e-02,\n",
      "          5.6220e-02,  1.5030e-01, -2.1621e-01, -8.3286e-02, -4.6574e-02,\n",
      "         -5.7667e-02, -3.1911e-02,  7.4194e-02, -7.7330e-02,  1.3110e-01,\n",
      "         -3.5909e-02, -2.0324e-01, -5.8651e-02, -5.8822e-03, -1.0481e-01,\n",
      "          9.3690e-02, -6.3176e-02, -5.2774e-03, -4.2250e-02,  2.3813e-02,\n",
      "         -6.2715e-02, -2.6742e-01, -1.5971e-02, -3.2913e-01,  1.5873e-02,\n",
      "          5.0667e-02,  1.0643e-03, -9.7279e-02,  2.2120e-02, -2.2575e-01,\n",
      "         -2.9371e-01,  1.9986e-02,  1.3009e-01,  8.9039e-02,  1.5485e-01,\n",
      "          8.2291e-02, -2.6784e-01, -5.1429e-02, -1.6273e-01, -8.5154e-03,\n",
      "          9.5533e-02, -5.0370e-01, -1.8462e-02, -3.2283e-01],\n",
      "        [ 1.6756e-01, -2.9839e-01,  4.9489e-03, -1.0269e+00,  2.3381e-02,\n",
      "          6.7721e-02, -2.6823e-01,  1.7590e-02,  8.5904e-02, -3.4948e-01,\n",
      "          8.4113e-03,  1.5528e-01, -2.4918e-01, -2.2432e-01,  7.5424e-02,\n",
      "          1.1626e-01,  1.1073e-01,  6.7654e-03, -2.2510e-01,  4.9596e-02,\n",
      "         -2.8627e-01,  2.0317e-02, -5.3680e-02, -2.8040e-01,  1.4386e-02,\n",
      "          1.7578e-02, -2.1312e-01, -8.0436e-02,  9.2882e-02, -4.7281e-01,\n",
      "          1.5887e-02, -3.1971e-01, -5.1287e-02,  1.1157e-01,  2.4618e-02,\n",
      "          9.4301e-02, -2.8893e-01, -2.7831e-01, -2.6446e-01, -8.8876e-01,\n",
      "         -1.2042e-01,  6.7000e-02, -2.7590e-02, -8.0566e-01, -1.7268e-01,\n",
      "         -2.0411e-01, -1.1817e-01, -6.0591e-01, -8.0604e-01,  3.5925e-02,\n",
      "         -1.7518e-02, -4.0555e-02, -9.8113e-02, -2.6329e-01, -2.2001e-02,\n",
      "         -1.5604e-02, -2.3853e-01,  5.8160e-02,  1.8873e-01, -1.3337e-01,\n",
      "         -1.4639e-01, -1.4925e-01, -2.5521e-01,  1.0544e-01],\n",
      "        [-1.0995e-02, -9.4159e-02,  3.1624e-02,  4.5081e-02, -7.5364e-02,\n",
      "         -1.7058e-01, -3.3088e-01, -5.6306e-02, -5.7081e-02,  1.2928e-01,\n",
      "         -3.1295e-03, -4.5398e-01, -3.3582e-01, -1.0765e-01,  7.9812e-02,\n",
      "         -5.3943e-01, -4.1948e-01,  1.1804e-03, -2.7396e-01,  1.0179e-01,\n",
      "          1.2622e-02,  1.2357e-02,  7.7442e-02,  7.9947e-02, -2.2117e-02,\n",
      "         -1.1049e-02, -1.3972e-01, -3.1748e-02, -7.9418e-02,  4.0163e-02,\n",
      "          3.3386e-03,  2.4886e-02, -1.4974e-02, -2.7215e-01, -6.8984e-02,\n",
      "          9.3143e-02,  4.8237e-02,  1.0276e-01, -9.9477e-03,  2.3179e-02,\n",
      "         -3.7373e-02, -1.4155e-02, -2.2777e-02,  1.3013e-02, -1.5322e-01,\n",
      "          9.1488e-02,  2.4179e-03,  1.4962e-01,  1.6786e-01, -1.4829e-01,\n",
      "         -2.4808e-01, -7.5402e-02, -1.4434e-01,  1.3755e-01, -1.1723e-03,\n",
      "          5.0640e-02, -1.4331e-02,  7.4548e-03, -6.4100e-02,  2.5436e-02,\n",
      "          1.0095e-03, -4.1866e-01,  8.0519e-02, -1.8083e-01],\n",
      "        [ 1.5691e-01, -4.8337e-01, -4.0343e-02, -1.1178e+00, -1.2546e-01,\n",
      "          6.3152e-02,  9.4836e-03, -2.8569e-01,  9.1591e-02, -2.3007e-01,\n",
      "         -2.4365e-02,  1.3852e-01, -1.4820e-01, -2.0510e-01,  1.2725e-01,\n",
      "          3.4874e-02,  8.3894e-02, -3.7476e-02, -3.4754e-01,  5.0744e-03,\n",
      "         -5.7048e-01,  3.0547e-02, -1.7573e-01, -5.0451e-01, -6.8156e-02,\n",
      "          4.3472e-02, -6.7722e-02, -1.6264e-01, -4.1227e-02, -5.6303e-01,\n",
      "          4.1117e-02, -3.9016e-01, -3.6054e-02,  8.2108e-02,  4.1538e-02,\n",
      "          8.1250e-02, -4.6625e-01, -1.1119e-01, -9.4803e-02, -9.6512e-01,\n",
      "          1.9666e-02,  9.9010e-02, -7.7321e-02, -3.7351e-01, -7.2551e-02,\n",
      "         -6.3049e-01, -6.5976e-02, -9.1138e-01, -9.3872e-01,  1.8104e-02,\n",
      "          1.2133e-01,  5.2474e-02, -2.5311e-01, -2.4651e-01, -1.3434e-01,\n",
      "         -1.5701e-01, -6.6376e-01, -9.1277e-03, -1.3680e-01,  1.4604e-02,\n",
      "         -1.0768e-01,  1.5209e-01, -3.0987e-01,  1.1219e-01],\n",
      "        [-2.0545e-01,  4.9350e-02,  1.8090e-02, -5.2946e-01,  3.2263e-02,\n",
      "          1.6339e-02, -2.3219e-02, -1.0403e-01,  1.0530e-01, -2.4764e-01,\n",
      "         -1.0903e-01, -3.4605e-01, -3.1730e-01,  9.9043e-02,  5.9678e-02,\n",
      "         -4.4538e-01, -4.6839e-02, -8.9353e-01, -3.2136e-02, -2.0367e-02,\n",
      "         -5.9075e-03,  1.2888e-01, -1.5719e-01,  9.8856e-02,  1.3133e-01,\n",
      "         -8.3018e-02, -5.5890e-01, -5.0735e-01, -3.7880e-01, -2.5310e-01,\n",
      "          6.0830e-03, -1.9692e-01,  5.8131e-02, -1.8241e-01, -3.9820e-01,\n",
      "         -2.0836e-02, -8.9225e-02, -1.8054e-01, -3.8468e-01, -8.0550e-02,\n",
      "         -1.2706e-01,  1.7422e-01,  5.1992e-02, -1.5817e-01,  1.5458e-02,\n",
      "         -9.7738e-02, -6.0527e-02, -3.3217e-01,  3.4699e-03, -4.5655e-02,\n",
      "          5.9253e-02, -2.6274e-02,  1.0192e-01,  2.5570e-01,  4.4994e-02,\n",
      "          5.9513e-02, -1.2209e-01, -8.0461e-03,  5.2674e-03, -2.6542e-02,\n",
      "         -3.9564e-01, -1.1845e-01, -3.3655e-01,  5.3137e-02],\n",
      "        [ 1.2682e-01, -3.7026e-01, -1.8962e-01, -1.4516e+00,  1.0028e-02,\n",
      "          4.7154e-02, -7.6397e-02, -3.5758e-01, -1.4661e-01, -2.5175e-01,\n",
      "         -1.8852e-01,  2.7471e-02, -1.7489e-01, -5.2937e-01, -7.2323e-02,\n",
      "          2.3538e-01, -1.5825e-01,  3.1154e-02, -2.4680e-01,  8.1424e-02,\n",
      "         -5.0397e-01, -9.9717e-02, -1.4203e-02, -6.5090e-01, -5.4806e-02,\n",
      "         -3.5976e-02, -3.2069e-01,  2.3479e-02, -1.7884e-03, -5.6946e-01,\n",
      "          4.3216e-02, -4.5658e-01,  3.7215e-03,  7.7439e-02, -3.5905e-02,\n",
      "         -2.3558e-01, -1.8282e-01, -3.5949e-01, -6.7411e-01, -7.0772e-01,\n",
      "          5.9802e-02,  1.0247e-01, -2.0995e-01, -3.4068e-01,  1.0576e-02,\n",
      "         -6.3874e-01, -9.9502e-04, -7.0882e-01, -8.4802e-01,  5.3000e-02,\n",
      "         -2.0352e-01,  6.3200e-02, -1.4777e-01, -1.6038e-01,  2.3837e-01,\n",
      "         -2.1789e-01, -2.5008e-01,  1.7420e-01, -6.1734e-02, -1.5748e-01,\n",
      "         -1.6068e-01,  1.1985e-01, -8.9871e-01, -1.2155e-01]])), ('fc4.bias', tensor([-0.1244, -0.5729,  0.1520,  0.1811,  0.1351, -0.1872, -0.0741,  0.0249,\n",
      "         0.4230, -0.3691]))])\n"
     ]
    }
   ],
   "source": [
    "#print(\"Model's state_dict:\")\n",
    "#for param_tensor in model.state_dict():\n",
    "#    print(param_tensor, \"\\t\", model.state_dict()[param_tensor].size())\n",
    "\n",
    "print(model.state_dict())    \n",
    "#print(model.state_dict().keys())\n",
    "\n",
    "#print(\"---\")\n",
    "#print(\"Optimizer's state_dict:\")\n",
    "#for var_name in optimizer.state_dict():\n",
    "#    print(var_name, \"\\t\", optimizer.state_dict()[var_name])"
   ]
  },
  {
   "cell_type": "markdown",
   "metadata": {},
   "source": [
    "Lets go through this again line by line: <br>\n",
    "\n",
    "We first want to give out the _state dictionary_ of the model. This is a dictionary which includes all the hyperparameters specified beforehand assigned to the according key (to only extract the keys use `model.state_dict().key()`)."
   ]
  },
  {
   "cell_type": "markdown",
   "metadata": {},
   "source": [
    "#### Saving model for inference\n",
    "The preferred version for inference is to solely store the hyperparameters the model was trained on. "
   ]
  },
  {
   "cell_type": "code",
   "execution_count": 30,
   "metadata": {},
   "outputs": [],
   "source": [
    "PATH = r'C:\\Users\\Dominique.AW\\Desktop\\Doktorarbeit\\htw\\PythonTutorial\\4_CNN_Pytorch'\n",
    "\n",
    "save_model = torch.save(model.state_dict(), 'checkpoint.pth')"
   ]
  },
  {
   "cell_type": "markdown",
   "metadata": {},
   "source": [
    "By using `model.state_dict(PATH, 'checkpoint.pth')` we are able to retrieve a dictionary including the keys and the according values (the values of the hyperparameters we trained on) and store it by using `torch.save()`.\n",
    "\n",
    "Here, we usually like store these in the file extension `.pt` or `.pth`."
   ]
  },
  {
   "cell_type": "code",
   "execution_count": 22,
   "metadata": {},
   "outputs": [
    {
     "name": "stdout",
     "output_type": "stream",
     "text": [
      "odict_keys(['fc1.weight', 'fc1.bias', 'fc2.weight', 'fc2.bias', 'fc3.weight', 'fc3.bias', 'fc4.weight', 'fc4.bias'])\n"
     ]
    }
   ],
   "source": [
    "state_dict = torch.load('checkpoint.pth')\n",
    "print(state_dict.keys())"
   ]
  },
  {
   "cell_type": "code",
   "execution_count": 25,
   "metadata": {},
   "outputs": [
    {
     "data": {
      "text/plain": [
       "<All keys matched successfully>"
      ]
     },
     "execution_count": 25,
     "metadata": {},
     "output_type": "execute_result"
    }
   ],
   "source": [
    "model = Classifier()\n",
    "model.load_state_dict(state_dict)"
   ]
  },
  {
   "cell_type": "markdown",
   "metadata": {},
   "source": [
    "#### Loading data with your GPU"
   ]
  },
  {
   "cell_type": "code",
   "execution_count": 131,
   "metadata": {},
   "outputs": [],
   "source": [
    "if torch.cuda.is_available():\n",
    "    device = cuda.device(\"GPU\")\n",
    "    ...\n",
    "    ...\n",
    "    pass"
   ]
  },
  {
   "cell_type": "markdown",
   "metadata": {},
   "source": [
    "## 5. Exercises:\n",
    "### 5.1 Tuning of the hyperparameter \n",
    "Based on the above dataset `MNIST Fashion`, try to find the appropriate hyperparameters so that you achieve a high accuracy (or convergence to a minimal loss) for both training and testing datset."
   ]
  },
  {
   "cell_type": "code",
   "execution_count": 31,
   "metadata": {},
   "outputs": [],
   "source": [
    "import torch\n",
    "from torchvision import transforms, datasets\n",
    "\n",
    "trans = transforms.Compose([\n",
    "    transforms.CenterCrop(25),\n",
    "    transforms.ToTensor(),\n",
    "    transforms.RandomAffine(180),\n",
    "#    torchvision.transforms.Normalize([0.5,], [0.5,]),\n",
    "])\n",
    "\n",
    "trainset = datasets.FashionMNIST(r'C:\\Users\\Dominique.AW\\Desktop\\Doktorarbeit\\htw\\PythonTutorial\\4_CNN_Pytorch', download = True, train = True, transform = trans)\n",
    "trainloader = torch.utils.data.DataLoader(trainset, batch_size = 64, shuffle = True)\n",
    "\n",
    "testset = datasets.FashionMNIST(r'C:\\Users\\Dominique.AW\\Desktop\\Doktorarbeit\\htw\\PythonTutorial\\4_CNN_Pytorch', download = True, train = False, transform = trans)\n",
    "testloader = torch.utils.data.DataLoader(testset, batch_size = 64, shuffle = True)"
   ]
  },
  {
   "cell_type": "code",
   "execution_count": 125,
   "metadata": {},
   "outputs": [],
   "source": [
    "import torch.nn as nn\n",
    "import torch.nn.functional as F\n",
    "\n",
    "class Model(nn.Module):\n",
    "    def __init__(self):\n",
    "        super(Model, self).__init__()\n",
    "        self.fc1 = nn.Linear(786,256)\n",
    "        self.fc2 = nn.Linear(256,128)\n",
    "        self.fc3 = nn.Linear(128,64)\n",
    "        self.fc4 = nn.Linear(64,10)\n",
    "        \n",
    "    def forward(self):\n",
    "        x = x.view(x.shape[0],-1)\n",
    "        x = F.relu(self.fc1(x))\n",
    "        x = F.relu(self.fc2(x))\n",
    "        x = self.dropout(F.relu(self.fc3(x)))\n",
    "        x = F.LogSoftmax(self.fc4(x), dim = 1) #LogSoftmax()\n",
    "        return x"
   ]
  },
  {
   "cell_type": "code",
   "execution_count": 129,
   "metadata": {},
   "outputs": [
    {
     "name": "stdout",
     "output_type": "stream",
     "text": [
      "Epoch: 1/10..  Training Loss: 0.516..  Test Loss: 0.465..  Test Accuracy: 0.832\n",
      "Epoch: 2/10..  Training Loss: 0.391..  Test Loss: 0.416..  Test Accuracy: 0.848\n",
      "Epoch: 3/10..  Training Loss: 0.355..  Test Loss: 0.399..  Test Accuracy: 0.853\n",
      "Epoch: 4/10..  Training Loss: 0.334..  Test Loss: 0.398..  Test Accuracy: 0.866\n",
      "Epoch: 5/10..  Training Loss: 0.316..  Test Loss: 0.383..  Test Accuracy: 0.864\n",
      "Epoch: 6/10..  Training Loss: 0.302..  Test Loss: 0.380..  Test Accuracy: 0.868\n",
      "Epoch: 7/10..  Training Loss: 0.290..  Test Loss: 0.395..  Test Accuracy: 0.866\n",
      "Epoch: 8/10..  Training Loss: 0.283..  Test Loss: 0.389..  Test Accuracy: 0.871\n",
      "Epoch: 9/10..  Training Loss: 0.278..  Test Loss: 0.366..  Test Accuracy: 0.878\n",
      "Epoch: 10/10..  Training Loss: 0.265..  Test Loss: 0.374..  Test Accuracy: 0.879\n"
     ]
    }
   ],
   "source": [
    "#define model and hyperparameters\n",
    "model = Classifier()\n",
    "criterion = nn.NLLLoss()\n",
    "optimizer = optim.Adam(model.parameters(), lr=0.003)\n",
    "\n",
    "epochs = 10\n",
    "steps = 0\n",
    "\n",
    "train_losses, test_losses = [], []\n",
    "for e in range(epochs):\n",
    "    running_loss = 0\n",
    "    for images, labels in trainloader:\n",
    "        \n",
    "        optimizer.zero_grad()\n",
    "        \n",
    "        log_ps = model(images)\n",
    "        loss = criterion(log_ps, labels)\n",
    "        loss.backward()\n",
    "        optimizer.step()\n",
    "        \n",
    "        running_loss += loss.item()\n",
    "        \n",
    "    else:\n",
    "        test_loss = 0\n",
    "        accuracy = 0\n",
    "        \n",
    "        # Turn off gradients for validation, saves memory and computations\n",
    "        with torch.no_grad():\n",
    "            for images, labels in testloader:\n",
    "                log_ps = model(images)\n",
    "                test_loss += criterion(log_ps, labels)\n",
    "                \n",
    "                ps = torch.exp(log_ps)\n",
    "                top_p, top_class = ps.topk(1, dim=1)\n",
    "                equals = top_class == labels.view(*top_class.shape)\n",
    "                accuracy += torch.mean(equals.type(torch.FloatTensor))\n",
    "                \n",
    "        train_losses.append(running_loss/len(trainloader))\n",
    "        test_losses.append(test_loss/len(testloader))\n",
    "\n",
    "        print(\"Epoch: {}/{}.. \".format(e+1, epochs),\n",
    "              \"Training Loss: {:.3f}.. \".format(running_loss/len(trainloader)),\n",
    "              \"Test Loss: {:.3f}.. \".format(test_loss/len(testloader)),\n",
    "              \"Test Accuracy: {:.3f}\".format(accuracy/len(testloader)))"
   ]
  },
  {
   "cell_type": "code",
   "execution_count": 127,
   "metadata": {},
   "outputs": [
    {
     "data": {
      "text/plain": [
       "Model(\n",
       "  (fc1): Linear(in_features=786, out_features=256, bias=True)\n",
       "  (fc2): Linear(in_features=256, out_features=128, bias=True)\n",
       "  (fc3): Linear(in_features=128, out_features=64, bias=True)\n",
       "  (fc4): Linear(in_features=64, out_features=10, bias=True)\n",
       ")"
      ]
     },
     "execution_count": 127,
     "metadata": {},
     "output_type": "execute_result"
    }
   ],
   "source": [
    "model"
   ]
  },
  {
   "cell_type": "markdown",
   "metadata": {},
   "source": [
    "### 5.2 Data Augmentation\n",
    "<a class=\"anchor\" id=\"data_augmentation\"></a>\n",
    "\n",
    "To allow a neural network to generalize well, it heavily depends not only on the number of training and testing samples but also on the \"population\" or \"diversity\" of the data. You can see data augmentation as some kind of way how to fool your neural network by artificially generating new unseen data. The dimension of this becomes more clear when you having a look at [[39]](https://arxiv.org/pdf/1710.08864.pdf) where the change of a single pixel within one image can cause it to be assigned to a totally different class - or _vice versa_ in their case - can be used to improve the results by combining adversarial techniques. This use of __Adversial Neural Networks__ can be come a rising field within the last few years especially after the first introduction of Generative Adversial Networks (GANs) by Ian Goodfellow. To have a grasp of its power have a look at the following [video](https://www.youtube.com/watch?v=dCKbRCUyop8) or his publication [[40]](https://papers.nips.cc/paper/5423-generative-adversarial-nets.pdf).\n",
    "\n",
    "For this task try to augment your data by including the following transform for the training and testing dataset (assigned with the variable name _train_transform_ and _test_transform_:\n",
    "\n",
    "test_transform:\n",
    "- Central crop or a __rectangle__ with 15 pixels height and 10 pixels in width\n",
    "- Horizontal flip with a probability of $p=0.5$\n",
    "- Normalize the data according to the previous examples\n",
    "\n",
    "train_transform:\n",
    "- Random crop with a _constant_ padding of 2 \n",
    "- Horizontal flip with a probability of $p=0.3$\n",
    "- Normalize the data according to the previous examples"
   ]
  },
  {
   "cell_type": "code",
   "execution_count": 3,
   "metadata": {},
   "outputs": [],
   "source": [
    "import torch\n",
    "from torchvision import datasets, transforms"
   ]
  },
  {
   "cell_type": "code",
   "execution_count": 4,
   "metadata": {
    "scrolled": true
   },
   "outputs": [],
   "source": [
    "PATH = r'C:\\Users\\Dominique.AW\\Desktop\\Doktorarbeit\\htw\\PythonTutorial\\4_CNN_Pytorch\\FashionMNISTAug'\n",
    "\n",
    "\n",
    "test_transform = transforms.Compose([\n",
    "    transforms.CenterCrop([15, 10]),\n",
    "    transforms.ToTensor(),\n",
    "    transforms.RandomHorizontalFlip(p=0.5),\n",
    "    transforms.Normalize([0.5,], [0.5,]),\n",
    "])\n",
    "\n",
    "train_transform = transforms.Compose([\n",
    "    transforms.ToTensor(),\n",
    "    transforms.RandomCrop(10, padding = 2, padding_mode = 'constant'),\n",
    "    transforms.RandomHorizontalFlip(p=0.3),\n",
    "    transforms.Normalize([0.5,], [0.5,]),\n",
    "])\n",
    "\n",
    "\n",
    "#traindata = datasets.FashionMNIST(PATH, download = True, train = True,  transform = train_transform)\n",
    "#trainloader = torch.utils.data.DataLoader(traindata, batch_size = 64, shuffle = True)\n",
    "\n",
    "#testdata = datasets.FashionMNIST(PATH, download = True, train = False, transform = test_transform)\n",
    "#testloader =  torch.utils.data.DataLoader(testdata, batch_size = 64, shuffle = True)"
   ]
  },
  {
   "cell_type": "code",
   "execution_count": 6,
   "metadata": {},
   "outputs": [],
   "source": [
    "#train_data = datasets.ImageFolder(PATH + '/training', transform=train_transform)\n",
    "#test_data = datasets.ImageFolder(PATH + '/test', transform=test_transform)\n",
    "\n",
    "#trainloader = torch.utils.data.DataLoader(PATH, batch_size=32)\n",
    "#testloader = torch.utils.data.DataLoader(PATH, batch_size=32)"
   ]
  },
  {
   "cell_type": "markdown",
   "metadata": {},
   "source": [
    "## References and citations\n",
    "\n",
    "[[1]](https://www.tensorflow.org/) https://www.tensorflow.org/ <br>\n",
    "[[2]](https://scikit-image.org/) https://scikit-image.org/ <br>\n",
    "[[3]](https://keras.io/) https://keras.io/ <br>\n",
    "[[4]](https://pytorch.org/) https://pytorch.org/ <br>\n",
    "[[5]](https://pytorch.org/tutorials/beginner/examples_autograd/tf_two_layer_net.html) https://pytorch.org/tutorials/beginner/examples_autograd/tf_two_layer_net.html <br>\n",
    "[[6]](https://towardsdatascience.com/pytorch-for-deep-learning-a-quick-guide-for-starters-5b60d2dbb564) https://towardsdatascience.com/pytorch-for-deep-learning-a-quick-guide-for-starters-5b60d2dbb564 <br>\n",
    "[[7]](http://deeplearning.net/software/theano/) http://deeplearning.net/software/theano/ <br>\n",
    "[[8]](https://machinelearningmastery.com/introduction-python-deep-learning-library-theano/) https://machinelearningmastery.com/introduction-python-deep-learning-library-theano/ <br>\n",
    "[[9]](https://caffe.berkeleyvision.org/) https://caffe.berkeleyvision.org/ <br>\n",
    "[[10]](https://towardsdatascience.com/deep-learning-framework-power-scores-2018-23607ddf297a?gi=fb13689f2184) https://towardsdatascience.com/deep-learning-framework-power-scores-2018-23607ddf297a?gi=fb13689f2184 <br> \n",
    "[[11]](https://heartbeat.fritz.ai/10-reasons-why-pytorch-is-the-deep-learning-framework-of-future-6788bd6b5cc2) https://heartbeat.fritz.ai/10-reasons-why-pytorch-is-the-deep-learning-framework-of-future-6788bd6b5cc2 <br>\n",
    "[[12]](https://blog.paperspace.com/why-use-pytorch-deep-learning-framework/) https://blog.paperspace.com/why-use-pytorch-deep-learning-framework/ <br>\n",
    "\n",
    "#### Section 2:\n",
    "[[13]](https://towardsdatascience.com/weight-initialization-techniques-in-neural-networks-26c649eb3b78) https://towardsdatascience.com/weight-initialization-techniques-in-neural-networks-26c649eb3b78 <br>\n",
    "[[14]](https://missinglink.ai/guides/neural-network-concepts/7-types-neural-network-activation-functions-right/) https://missinglink.ai/guides/neural-network-concepts/7-types-neural-network-activation-functions-right/ <br>\n",
    "[[15]](https://missinglink.ai/guides/neural-network-concepts/7-types-neural-network-activation-functions-right/) https://missinglink.ai/guides/neural-network-concepts/7-types-neural-network-activation-functions-right/ <br>\n",
    "[[16]](https://www.deeplearningbook.org/contents/mlp.html) https://www.deeplearningbook.org/contents/mlp.html <br>\n",
    "[[17]](https://www.deeplearningbook.org/contents/mlp.html) https://www.deeplearningbook.org/contents/mlp.html <br>\n",
    "[[18]](https://www.deeplearningbook.org/slides/05_ml.pdf) https://www.deeplearningbook.org/slides/05_ml.pdf <br>\n",
    "\n",
    "\n",
    "\n",
    "#### Section 3:\n",
    "[[19]](https://pytorch.org/tutorials/beginner/former_torchies/tensor_tutorial.html) https://pytorch.org/tutorials/beginner/former_torchies/tensor_tutorial.html <br>\n",
    "[[20]](https://pytorch.org/docs/stable/cuda.html) https://pytorch.org/docs/stable/cuda.html <br>\n",
    "[[21]](https://pytorch.org/docs/stable/notes/cuda.html) https://pytorch.org/docs/stable/notes/cuda.html <br>\n",
    "[[22]](https://jakevdp.github.io/blog/2017/12/05/installing-python-packages-from-jupyter/) https://jakevdp.github.io/blog/2017/12/05/installing-python-packages-from-jupyter/ <br>\n",
    "\n",
    "\n",
    "\n",
    "#### Section 4:\n",
    "[[26]](https://pytorch.org/docs/stable/torchvision/datasets.html) https://pytorch.org/docs/stable/torchvision/datasets.html <br>\n",
    "[[27]](https://pytorch.org/docs/stable/torchvision/transforms.html) https://pytorch.org/docs/stable/torchvision/transforms.html <br>\n",
    "[[28]](https://pytorch.org/docs/stable/torchvision/datasets.html#cifar) https://pytorch.org/docs/stable/torchvision/datasets.html#cifar <br>\n",
    "[[29]](https://docs.python.org/3/library/functions.html#next) https://docs.python.org/3/library/functions.html#next <br>\n",
    "[[30]](https://pytorch.org/docs/stable/nn.html#linear-layers) https://pytorch.org/docs/stable/nn.html#linear-layers <br>\n",
    "[[31]](https://discuss.pytorch.org/t/difference-between-cross-entropy-loss-or-log-likelihood-loss/38816/2) https://discuss.pytorch.org/t/difference-between-cross-entropy-loss-or-log-likelihood-loss/38816/2 <br> \n",
    "[[32]](https://developers.google.com/machine-learning/crash-course/reducing-loss/stochastic-gradient-descent) https://developers.google.com/machine-learning/crash-course/reducing-loss/stochastic-gradient-descent <br>\n",
    "[[33]](https://pytorch.org/docs/stable/nn.html) https://pytorch.org/docs/stable/nn.html <br>\n",
    "[[34]](https://stackoverflow.com/questions/48001598/why-do-we-need-to-call-zero-grad-in-pytorch) https://stackoverflow.com/questions/48001598/why-do-we-need-to-call-zero-grad-in-pytorch <br>\n",
    "[[35]](http://jmlr.org/papers/volume15/srivastava14a.old/srivastava14a.pdf) http://jmlr.org/papers/volume15/srivastava14a.old/srivastava14a.pdf <br>\n",
    "[[36]](https://machinelearningmastery.com/dropout-for-regularizing-deep-neural-networks/) https://machinelearningmastery.com/dropout-for-regularizing-deep-neural-networks/ <br>\n",
    "[[37]](https://medium.com/@amarbudhiraja/https-medium-com-amarbudhiraja-learning-less-to-learn-better-dropout-in-deep-machine-learning-74334da4bfc5) https://medium.com/@amarbudhiraja/https-medium-com-amarbudhiraja-learning-less-to-learn-better-dropout-in-deep-machine-learning-74334da4bfc5 <br>\n",
    "[[38]](https://machinelearningmastery.com/dropout-for-regularizing-deep-neural-networks/) https://machinelearningmastery.com/dropout-for-regularizing-deep-neural-networks/ <br>\n",
    "\n",
    "#### Section 5\n",
    "[[39]](https://arxiv.org/pdf/1710.08864.pdf) https://arxiv.org/pdf/1710.08864.pdf <br>\n",
    "[[40]](https://papers.nips.cc/paper/5423-generative-adversarial-nets.pdf) https://papers.nips.cc/paper/5423-generative-adversarial-nets.pdf\n",
    "\n",
    "\n",
    "http://users.isr.ist.utl.pt/~wurmd/Livros/school/Bishop%20-%20Pattern%20Recognition%20And%20Machine%20Learning%20-%20Springer%20%202006.pdf"
   ]
  }
 ],
 "metadata": {
  "kernelspec": {
   "display_name": "Python 3",
   "language": "python",
   "name": "python3"
  },
  "language_info": {
   "codemirror_mode": {
    "name": "ipython",
    "version": 3
   },
   "file_extension": ".py",
   "mimetype": "text/x-python",
   "name": "python",
   "nbconvert_exporter": "python",
   "pygments_lexer": "ipython3",
   "version": "3.7.6"
  }
 },
 "nbformat": 4,
 "nbformat_minor": 2
}
